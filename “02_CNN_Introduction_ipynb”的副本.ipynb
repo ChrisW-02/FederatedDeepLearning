{
  "nbformat": 4,
  "nbformat_minor": 0,
  "metadata": {
    "accelerator": "GPU",
    "colab": {
      "provenance": [],
      "collapsed_sections": [],
      "include_colab_link": true
    },
    "kernelspec": {
      "display_name": "Python 3",
      "name": "python3"
    }
  },
  "cells": [
    {
      "cell_type": "markdown",
      "metadata": {
        "id": "view-in-github",
        "colab_type": "text"
      },
      "source": [
        "<a href=\"https://colab.research.google.com/github/ChrisW-02/FederatedDeepLearning/blob/main/%E2%80%9C02_CNN_Introduction_ipynb%E2%80%9D%E7%9A%84%E5%89%AF%E6%9C%AC.ipynb\" target=\"_parent\"><img src=\"https://colab.research.google.com/assets/colab-badge.svg\" alt=\"Open In Colab\"/></a>"
      ]
    },
    {
      "cell_type": "markdown",
      "metadata": {
        "id": "5uoxdNjkDw2K"
      },
      "source": [
        "# Introduction to Convolutional Neural Networks\n",
        "\n",
        "This tutorial addresses the basic concepts regarding Convolutional Neural Networks and their implementation using the Keras framework.\n",
        "Convolutional Neural Networks (CNNs) are a class of feed-forward artificial neural architecture. They are applied to analyse visual 2D imagery, meaning that we can feed images directly into a CNN without the need to flatten them into a 1D vector as done in the previous tutorial.\n",
        "CNNs have revolutionised the field of computer vision in the last decade. In 2012 Alex Krizhevsky introduced the AlexNet architecture to win the ImageNet Challenge (one of the most important competitions on image classification within the Computer Vision community), by reducing the top-5 error more than 10 percentage points, which was an incredible improvement at that time. As of now, CNNs are used not only on image classification but in many other computer vision tasks.\n",
        "\n",
        "![](https://cdn-5f733ed3c1ac190fbc56ef88.closte.com/wp-content/uploads/2017/03/alexnet_small-1.png)\n",
        "\n",
        "The image above is from [cv-tricks' blog](https://cv-tricks.com/cnn/understand-resnet-alexnet-vgg-inception/) and shows the proposed AlexNet architecture. It is composed of 5 convolutional layers followed by 3 fully connected layers. Nowadays, we can find much deeper and more complex architectures, which outperform AlexNet on the ImageNet Challenge. \n",
        "\n",
        "\n",
        "\n",
        "\n",
        "\n"
      ]
    },
    {
      "cell_type": "markdown",
      "metadata": {
        "id": "dJ2d_oQ2UEPz"
      },
      "source": [
        "## CNN Structure\n",
        "\n",
        "The basic pipeline of common CNNs consists of an image as input and a stack of convolutional layers that extract a feature representation from the input image. The final shape of the image representation is conditioned on the type of problem/task that the architecture is facing. For instance, the output of the last layer in a classification problem is a probability vector. Each dimension of the probability vector represents how likely is that the input image belongs to a specific class. However, the architecture design is up to us, and therefore, we could code a network that outputs a single value for regression problems, or that generates a new image map for semantic segmentation. Now, let's dig in a bit into CNN and introduce some layers that are widely used. "
      ]
    },
    {
      "cell_type": "markdown",
      "metadata": {
        "id": "wvNKve9GZL4M"
      },
      "source": [
        "### 2D Convolutional Layer\n",
        "\n",
        "The most common layer in any CNN architecture is the 2D convolutional layer. Convolutional layers are specifically designed to extract features from images or even extract features from previously extracted features. As shown in the following illustration, 2D convolutions apply the same filter to the full image. And therefore, due to its nature, 2D convolutional filters exploit the local information presented in images, making them a powerful tool for image analysis. \n",
        "\n",
        "![](https://cdn-images-1.medium.com/max/800/1*Fw-ehcNBR9byHtho-Rxbtw.gif)\n",
        "\n",
        "Image [source](https://towardsdatascience.com/intuitively-understanding-convolutions-for-deep-learning-1f6f42faee1).\n",
        "\n",
        "The latest deep learning frameworks have made possible the integration of convolutional layers easily on our architectures with only a single line of code. We will address here how 2D convolutions work since full understanding is needed to comprehend how any CNN operates. The following images and some explanations can be further explored on the original [Irhum Shafkat's blog](https://towardsdatascience.com/intuitively-understanding-convolutions-for-deep-learning-1f6f42faee1) or in the [Neural Networks and Deep Learning](http://neuralnetworksanddeeplearning.com/) book. Both are strongly recommended.\n",
        "\n",
        "To understand 2D convolutions, we need to define first what a kernel is. Kernels are simply matrices of numbers. The numbers on the kernels are the so-called weights, and the weights on the kernels change as we train the network. Hence, network training aims to optimise the network's parameters (update the kernel weights) such that the cost function is minimised. \n",
        "\n",
        "The 2D convolution operation takes the network's kernels and \"slides\" them over the input image (alike to a sliding window) as in the following image from [PyImageSearch](https://www.pyimagesearch.com/2015/03/23/sliding-windows-for-object-detection-with-python-and-opencv/) blog:\n",
        "\n",
        "![](https://pyimagesearch.com/wp-content/uploads/2014/10/sliding_window_example.gif)\n",
        "\n",
        "In each step, the network performs an element-wise multiplication with the elements that are currently on. The results of this elementwise multiplication are added to obtain the output value of the operation. CNNs repeat previous step for all the positions of the sliding window, composing at the end the feature map. This generated feature map can go through another 2D convolutional layer and create more powerful features. \n",
        "\n",
        "> \n",
        "\n",
        "![](https://cdn-images-1.medium.com/max/800/1*Zx-ZMLKab7VOCQTxdZ1OAw.gif)\n",
        "\n",
        "> \n",
        "The previous image shows the 2D convolution operation. Thus, the new feature values are the weighted sum of all the elements in the sliding window after the elementwise multiplication between input and kernel.  The bigger the size of the kernel is, the more feature elements contribute to the final output value. In contrast to fully connected layers, where a new feature value is a weighted sum over **all** input values, as mentioned, 2D convolutions compute features based on local areas. In other words, instead of looking at every input component, they consider only features coming from close locations. \n",
        "\n",
        "In the above example, the input image on the left has a size of 5x5 and the dimension of the resulting feature map is 3x3, showing that the size of the output maps is not always equal to the input. Hence, the output size can be computed by doing:\n",
        "\n",
        "$O = W - K + 1$,\n",
        "\n",
        "where $O$ is the output height/length, $W$ is the input height/length and $K$ is the kernel size. The output size is not only conditioned on the input size but also on the kernel size. Check in the following code cell how the output feature map shape changes as you increase the kernel size. In Keras, we define the layer by using `Conv2D` from `keras.layers` (documentation [here](https://keras.io/layers/convolutional/#conv2d)).\n",
        "\n",
        "\n",
        "\n",
        "\n",
        "\n",
        "\n",
        "\n"
      ]
    },
    {
      "cell_type": "code",
      "metadata": {
        "colab": {
          "base_uri": "https://localhost:8080/"
        },
        "id": "ez90vQEksR9b",
        "outputId": "2a239b50-aa4c-43b1-f3fa-012a703a4416"
      },
      "source": [
        "import numpy as np\n",
        "import keras\n",
        "import tensorflow as tf\n",
        "from keras.models import Sequential\n",
        "from keras.layers import Conv2D\n",
        "\n",
        "# Generate dummy data\n",
        "input_feature = np.random.random((1, 100, 100, 1))\n",
        "\n",
        "# input: 100x100 image with 1 channels -> (100, 100, 1) tensor.\n",
        "# this applies 1 convolution filter of size 3x3 each.\n",
        "model = Sequential()\n",
        "model.add(Conv2D(1, (3, 3), input_shape=(100, 100, 1)))\n",
        "\n",
        "output_feature = model.predict(input_feature)\n",
        "\n",
        "print('Input size: ({:}, {:})'.format(input_feature.shape[1], input_feature.shape[2]))\n",
        "print('Output size: ({:}, {:})'.format(output_feature.shape[1], output_feature.shape[2]))"
      ],
      "execution_count": null,
      "outputs": [
        {
          "output_type": "stream",
          "name": "stdout",
          "text": [
            "Input size: (100, 100)\n",
            "Output size: (98, 98)\n"
          ]
        }
      ]
    },
    {
      "cell_type": "markdown",
      "metadata": {
        "id": "mNOhth4FuNob"
      },
      "source": [
        "Moreover, the kernel size and the input size are not the only parameters affecting the output size. We are going to introduce two extra elements that change the size of the output map: the padding and the stride."
      ]
    },
    {
      "cell_type": "markdown",
      "metadata": {
        "id": "mT6f_n5QiU8X"
      },
      "source": [
        "### Adding Padding to Input Features\n",
        "\n",
        "In some tasks, such as [image translation](https://arxiv.org/pdf/1611.07004.pdf), we need the output size to be equal to the input size. The solution to that is using padding, where extra edges are added to the input features so that the dimension is not reduced after the convolutional layer. Normally those pixels have $0$ value (termed zero-padding), but depending on the application other methods could be used, e.g., reflection or symmetric padding.\n",
        "\n",
        "![](https://cdn-images-1.medium.com/max/800/1*1okwhewf5KCtIPaFib4XaA.gif)\n",
        "\n",
        "If padding is used, the new output size can be computed by doing:\n",
        "\n",
        "$O = W - K + 2P+ 1$, \n",
        "\n",
        "where $P$ is the padding value. $P$ must be set in concordance with the kernel size if dimensionality wants to be preserved. Padding can be added to the `Conv2d` layer in Keras by using the padding argument and selecting one of the two settings: `valid`, which is the default value and means no padding; and `same`, which adapts the padding value to have the same output size as input size."
      ]
    },
    {
      "cell_type": "code",
      "metadata": {
        "colab": {
          "base_uri": "https://localhost:8080/"
        },
        "id": "X7Z5G2O00Etd",
        "outputId": "c308859b-a001-4d08-f85b-a9d3de44a57b"
      },
      "source": [
        "import numpy as np\n",
        "import keras\n",
        "import tensorflow as tf\n",
        "from keras.models import Sequential\n",
        "from keras.layers import Conv2D\n",
        "\n",
        "# Generate dummy data\n",
        "input_feature = np.random.random((1, 100, 100, 1))\n",
        "\n",
        "# input: 100x100 image with 1 channels -> (100, 100, 1) tensor.\n",
        "# this applies 1 convolution filter of size 3x3 each.\n",
        "# attribute padding='same' applies zero-padding to the input feature map\n",
        "model = Sequential()\n",
        "model.add(Conv2D(1, (3, 3), input_shape=(100, 100, 1), padding='same'))\n",
        "\n",
        "output_feature = model.predict(input_feature)\n",
        "\n",
        "print('Input size: ({:}, {:})'.format(input_feature.shape[1], input_feature.shape[2]))\n",
        "print('Output size: ({:}, {:})'.format(output_feature.shape[1], output_feature.shape[2]))"
      ],
      "execution_count": null,
      "outputs": [
        {
          "output_type": "stream",
          "name": "stdout",
          "text": [
            "Input size: (100, 100)\n",
            "Output size: (100, 100)\n"
          ]
        }
      ]
    },
    {
      "cell_type": "markdown",
      "metadata": {
        "id": "tdB4jMeswXVA"
      },
      "source": [
        "### Using Stride in Convolutional Layers\n",
        "\n",
        "The stride operation allows the convolutional layers to skip some of the sliding windows explained above. Hence, instead of jumping one pixel apart, we can define the number of skipped elements before computing the weighting sum between the kernel's weights and input features. A stride of 1 means that features will be extracted from all windows a pixel apart, so basically, every single window is computed. A stride of 2 means that we are selecting windows 2 pixels apart, skipping every other window in the process. Strides reduce the number of computations and consequently the size of the output map. In practice, as we go deeper into the CNN, the spatial size of the feature map gets smaller while the number of channels increases. Moreover, we can further reduce the size of the feature map using pooling operations, which we introduce later in this tutorial.\n",
        "\n",
        "![](https://cdn-images-1.medium.com/max/800/1*BMngs93_rm2_BpJFH2mS0Q.gif)\n",
        "\n",
        "If strides are used, the new output size can be computed as:\n",
        "\n",
        "$O = \\dfrac{W - K + 2P}{S}+ 1$, \n",
        "\n",
        "where $S$ is the stride value. The stride is set in the layer by using the `strides` argument."
      ]
    },
    {
      "cell_type": "code",
      "metadata": {
        "colab": {
          "base_uri": "https://localhost:8080/"
        },
        "id": "Y8GjztiH0hnw",
        "outputId": "be208d6d-37af-4454-d5cb-e7b31ededef9"
      },
      "source": [
        "import numpy as np\n",
        "import keras\n",
        "import tensorflow as tf\n",
        "from keras.models import Sequential\n",
        "from keras.layers import Conv2D\n",
        "\n",
        "# Generate dummy data\n",
        "input_feature = np.random.random((1, 100, 100, 1))\n",
        "\n",
        "# input: 100x100 image with 1 channels -> (100, 100, 1) tensor.\n",
        "# this applies 1 convolution filter of size 3x3 each.\n",
        "# attribute padding='same' applies zero-padding to the input feature map\n",
        "# attribute strides=2 applies applies stride of 2\n",
        "model = Sequential()\n",
        "model.add(Conv2D(1, (3, 3), input_shape=(100, 100, 1), padding='same', strides=2))\n",
        "\n",
        "output_feature = model.predict(input_feature)\n",
        "\n",
        "print('Input size: ({:}, {:})'.format(input_feature.shape[1], input_feature.shape[2]))\n",
        "print('Output size: ({:}, {:})'.format(output_feature.shape[1], output_feature.shape[2]))"
      ],
      "execution_count": null,
      "outputs": [
        {
          "output_type": "stream",
          "name": "stdout",
          "text": [
            "Input size: (100, 100)\n",
            "Output size: (50, 50)\n"
          ]
        }
      ]
    },
    {
      "cell_type": "markdown",
      "metadata": {
        "id": "f-fKvgJ3H2gr"
      },
      "source": [
        "## Differences Between Kernel and Filters\n",
        "\n",
        "The examples above take as input a single-channel image and compute a feature map with also one channel. However, when dealing with RGB images or feature maps, the input is no longer a single-channel map but, instead, they can have multiple channels. In the case of an RGB image, for each 2D convolution, we will need to define 3 kernels to interact with each of the image's channel colours. This group of kernels is called a filter. Thus, a filter is a collection of kernels that produces a single output.\n",
        "\n",
        "As a regular practice when defining Deep Learning models, we increase the number of filters in each convolutional layer as we go deeper into the model. Due to the element-wise multiplication, the number of kernels on each filter must be the same that the number of channels in the input feature map. Keras already deals with the number of kernels inside each filter. Keras keeps track of the input size in each convolutional layer unlike other frameworks (Pytorch or TensorFlow). Hence, in Keras, we must only decide the number of filters (output channels) in each layer.\n",
        "\n",
        "The next figure shows how the convolution is performed when having three input channels. First, one filter uses its three independent kernels to convolve with the RGB channels of the input image:\n",
        "\n",
        "![](https://cdn-images-1.medium.com/max/1000/1*8dx6nxpUh2JqvYWPadTwMQ.gif)\n",
        "\n",
        "Next, each of the processed feature maps is added together to obtain a single channel:\n",
        "\n",
        "![](https://cdn-images-1.medium.com/max/1000/1*CYB2dyR3EhFs1xNLK8ewiA.gif)\n",
        "\n",
        "Finally, we add the bias term to obtain the feature map. There is a single bias for the full output channel map. This operation is repeated for all the filters inside the convolutional layer.\n",
        "\n",
        "Now, we show how to use a `Conv2D` layer that takes an input image with 3 channels and generates an output map with 32 channels.\n"
      ]
    },
    {
      "cell_type": "code",
      "metadata": {
        "colab": {
          "base_uri": "https://localhost:8080/"
        },
        "id": "nqiEwpdROxga",
        "outputId": "05f02226-48b5-41fd-f1b0-c1e50db62341"
      },
      "source": [
        "import numpy as np\n",
        "import keras\n",
        "import tensorflow as tf\n",
        "from keras.models import Sequential\n",
        "from keras.layers import Conv2D\n",
        "\n",
        "# Generate dummy data\n",
        "input_feature = np.random.random((1, 100, 100, 3))\n",
        "\n",
        "# input: 100x100 image with 3 channels -> (100, 100, 3) tensor.\n",
        "# this applies 32 convolution filters of size 3x3 each.\n",
        "# attribute padding='same' applies zero-padding to the input feature map\n",
        "# attribute strides=2 applies applies stride of 2\n",
        "model = Sequential()\n",
        "model.add(Conv2D(32, (3, 3), input_shape=(100, 100, 3), padding='same', strides=2))\n",
        "\n",
        "output_feature = model.predict(input_feature)\n",
        "\n",
        "print('Input size: ({:}, {:}, {:})'.format(input_feature.shape[1], input_feature.shape[2], input_feature.shape[3]))\n",
        "print('Output size: ({:}, {:}, {:})'.format(output_feature.shape[1], output_feature.shape[2], output_feature.shape[3]))"
      ],
      "execution_count": null,
      "outputs": [
        {
          "output_type": "stream",
          "text": [
            "Input size: (100, 100, 3)\n",
            "Output size: (50, 50, 32)\n"
          ],
          "name": "stdout"
        }
      ]
    },
    {
      "cell_type": "markdown",
      "metadata": {
        "id": "S50cYwkhPqka"
      },
      "source": [
        "## Activation Functions\n",
        "\n",
        "As seen in previous tutorials, after a `Dense` layer we usually can find an activation function. We introduce here how to use them after `Conv2D` layers. Those activation functions are a set of operators that maps the feature values to a new set of values, the mapping depends on the function at hand. The main reason for using activation functions is that they add non-linearities to the network, giving more expressive power to the network, which will be able to reproduce more complex functions. \n",
        "\n",
        "\n",
        "The complete list of activation functions that Keras offers can be found [here](https://keras.io/activations/). We introduce here some of them:\n",
        "\n",
        "*  **Sigmoid Function** sets the output in the range (0, 1). The sigmoid function is widely used in binary classification problems since its output can be taken as a probability value. `keras.activations.sigmoid(x)`:\n",
        "\n",
        ">![](https://i.ibb.co/Ph8dsTv/sigmoid.png)\n",
        "\n",
        "*  **Tanh Function** is a logistic function as sigmoid, but the range of the tanh function is (-1, 1). Contrary to sigmoid function, where the values close to 0 are set around 0.5, in the tanh function they will be still mapped around the 0 value. `keras.activations.tanh(x)`:\n",
        "\n",
        ">![](https://i.ibb.co/68g7LpL/tanh.png)\n",
        "\n",
        "*  **ReLU Function** is the most common activation function you can find in any current CNN as in general works better than the rest. The range of this function is in \\[0, inf). It sets all negative values to 0 and hence is computationally easy to implement. As a drawback, during training some neurons *die*, meaning that the output is 0 for all available data points and no gradient is propagated there. `keras.activations.relu(x, alpha=0.0, max_value=None, threshold=0.0)`:\n",
        "\n",
        ">![](https://i.ibb.co/Zd9H8Z4/relu.png)\n",
        "\n",
        "*  **LeakyReLU Function** is a modified version of the ReLU activation above, which attempts to solve the problem of dying neurons that ReLU has. While ReLU does not backpropagate negative values, Leaky ReLU smooths those values without setting them to 0. That allows the gradients to backpropagate through the network even for negative values. `keras.layers.LeakyReLU(alpha=0.3)`:\n",
        "\n",
        ">![](https://i.ibb.co/dmnJ6h1/leakyrelu.png)\n",
        "\n",
        "*  **Softmax Function** is another widely activation function for multi-class classification problems and usually is employed as the last activation function in the classification model. This function sets all of the output elements to the range (0, 1). However, the softmax function does not take independently the input values to map it into its probability value. Softmax Function takes an un-normalized vector, $s$, and normalizes it into a probability distribution, $p$, following the softmax expression. As the output is a probability, the output elements add up to 1. `keras.activations.softmax(x, axis=-1)`. Thus, the output value $p_i$ is computed as:\n",
        "\n",
        "> $p_{i} = \\dfrac{e^{s_i}}{\\sum_{\\substack{j}}^{N} e^{s_j}}$"
      ]
    },
    {
      "cell_type": "markdown",
      "metadata": {
        "id": "-MWo2VsYr5T2"
      },
      "source": [
        "The following example shows the feature maps before and after of the ReLU activation function. All values that are negative are set to 0 after the activation function.\n",
        "\n",
        "\n"
      ]
    },
    {
      "cell_type": "code",
      "metadata": {
        "colab": {
          "base_uri": "https://localhost:8080/"
        },
        "id": "lp1HH0VOqN0N",
        "outputId": "1884817f-59b6-41f8-8889-474d9d865180"
      },
      "source": [
        "import numpy as np\n",
        "import keras\n",
        "import tensorflow as tf\n",
        "tf.compat.v1.logging.set_verbosity(tf.compat.v1.logging.ERROR)\n",
        "from keras.models import Sequential, Model\n",
        "from keras.layers import Conv2D, Activation\n",
        "\n",
        "# Generate dummy data\n",
        "input_feature = np.random.random((1, 3, 3, 1)) - 0.5\n",
        "\n",
        "# input: 3x3 image with 1 channel -> (3, 3, 1) tensor.\n",
        "# This applies a 1 convolution filter of size 3x3 each.\n",
        "# This applies a ReLU activation function\n",
        "model = Sequential()\n",
        "model.add(Conv2D(1, (3, 3), input_shape=(3, 3, 1), padding='same', strides=1, name='conv'))\n",
        "model.add(Activation('relu'))\n",
        "\n",
        "model_before_ReLU = Model(inputs=model.input, outputs=model.get_layer('conv').output)\n",
        "\n",
        "output_feature = model_before_ReLU.predict(input_feature)\n",
        "output_ReLu_feature = model.predict(input_feature)\n",
        "\n",
        "print('Output Network without activation function')\n",
        "print(output_feature)\n",
        "\n",
        "print('')\n",
        "print('Output Network after ReLU activation function')\n",
        "print(output_ReLu_feature)\n"
      ],
      "execution_count": null,
      "outputs": [
        {
          "output_type": "stream",
          "text": [
            "Output Network without activation function\n",
            "[[[[ 0.23390736]\n",
            "   [ 0.2609628 ]\n",
            "   [-0.10049579]]\n",
            "\n",
            "  [[ 0.47150436]\n",
            "   [ 0.01826818]\n",
            "   [-0.0576808 ]]\n",
            "\n",
            "  [[ 0.08542764]\n",
            "   [ 0.02355585]\n",
            "   [ 0.09083541]]]]\n",
            "\n",
            "Output Network after ReLU activation function\n",
            "[[[[0.23390736]\n",
            "   [0.2609628 ]\n",
            "   [0.        ]]\n",
            "\n",
            "  [[0.47150436]\n",
            "   [0.01826818]\n",
            "   [0.        ]]\n",
            "\n",
            "  [[0.08542764]\n",
            "   [0.02355585]\n",
            "   [0.09083541]]]]\n"
          ],
          "name": "stdout"
        }
      ]
    },
    {
      "cell_type": "markdown",
      "metadata": {
        "id": "Ys6ZB1DOTLH6"
      },
      "source": [
        "## Pooling Layer\n",
        "\n",
        "It is a common practice to insert a pooling layer between convolutional layers in CNNs. In a standard CNN architecture, we set the feature sizes to become smaller progressively to reduce the computation in the networks, and to merge the information from different spatial locations. To reduce the feature map sizes, we can either use bigger stride size in the convolutional layers or we can use pooling layers. Pooling layers perform a spatial sliding window and apply an operation to reduce the spatial size. Those operations vary depending on the architecture, being the max, mean and min pooling the most typical ones. Here, we will explain the max pooling, although all the others work similarly. Max pooling keeps only the max value in a neighbourhood, where the neighbourhood is defined by the size of the kernel. Let's visualise it, the next example shows the result of a Max Pooling layer with a 2x2 kernel and a stride of 2.\n",
        "\n",
        "![](https://i.ibb.co/Xp454S4/MaxPool.png)\n",
        "\n",
        "As in convolutional layers, the final size is conditioned to the stride size of the pooling layer. However, contrary to convolutional layers, pooling layers operate independently on each of the input channels, without modifying the depth of the feature maps. To add max pooling to our model we need to import `MaxPooling2d` from `keras.layers` and define the stride and pooling size."
      ]
    },
    {
      "cell_type": "code",
      "metadata": {
        "colab": {
          "base_uri": "https://localhost:8080/"
        },
        "id": "HzoTGOwDmQm4",
        "outputId": "03ce2679-dff9-4675-88ea-284c93416658"
      },
      "source": [
        "import numpy as np\n",
        "import keras\n",
        "import tensorflow as tf\n",
        "from keras.models import Sequential\n",
        "from keras.layers import Conv2D, Activation, MaxPooling2D\n",
        "\n",
        "# Generate dummy data\n",
        "input_feature = np.random.random((1, 100, 100, 3))\n",
        "\n",
        "# input: 100x100 image with 3 channels -> (100, 100, 3) tensor.\n",
        "# this applies 32 convolution filters of size 3x3 each.\n",
        "# attribute padding='same' applies zero-padding to the input feature map\n",
        "# attribute strides=1 applies applies stride of 1\n",
        "model = Sequential()\n",
        "model.add(Conv2D(32, (3, 3), input_shape=(100, 100, 3), padding='same', strides=1))\n",
        "model.add(Activation('relu'))\n",
        "model.add(MaxPooling2D(pool_size=(2, 2), strides=(2, 2), padding='same'))\n",
        "\n",
        "output_feature = model.predict(input_feature)\n",
        "\n",
        "print('Input size: ({:}, {:}, {:})'.format(input_feature.shape[1], input_feature.shape[2], input_feature.shape[3]))\n",
        "print('Output size: ({:}, {:}, {:})'.format(output_feature.shape[1], output_feature.shape[2], output_feature.shape[3]))"
      ],
      "execution_count": null,
      "outputs": [
        {
          "output_type": "stream",
          "name": "stdout",
          "text": [
            "Input size: (100, 100, 3)\n",
            "Output size: (50, 50, 32)\n"
          ]
        }
      ]
    },
    {
      "cell_type": "markdown",
      "metadata": {
        "id": "LKU4-GbZHw0R"
      },
      "source": [
        "# Example: Classification on MNIST\n",
        "\n",
        "As opposed to the *Introduction to Keras* tutorial, in this section, we show how to perform image classification when the input data is a 2D image instead of a flat 1D vector. \n",
        "\n",
        "As discussed above, Convolutional Neural Networks aim to extract and exploit the local relationships on 2D maps, hence, CNNs are much more convenient for images than Multi-layer Perceptron models. \n",
        "\n",
        "First of all, we load the MNIST dataset from Keras' framework. The definition of the data is almost identical than in the Keras tutorial, although this time we are not reshaping the input images into a 1D vector."
      ]
    },
    {
      "cell_type": "code",
      "metadata": {
        "colab": {
          "base_uri": "https://localhost:8080/"
        },
        "id": "3t0Wq9ArL4EZ",
        "outputId": "710d8fc8-1700-4b7b-fc74-790dcd9be860"
      },
      "source": [
        "import tensorflow as tf\n",
        "tf.compat.v1.logging.set_verbosity(tf.compat.v1.logging.ERROR)\n",
        "from keras.models import Sequential\n",
        "from keras.layers import Dense, Dropout, Activation, BatchNormalization\n",
        "from keras.utils import np_utils\n",
        "from keras.datasets import mnist\n",
        "from tensorflow.keras.optimizers import RMSprop\n",
        "from keras.layers import Conv2D, MaxPooling2D, Flatten\n",
        "import numpy as np\n",
        "\n",
        "# the data, shuffled and split between train and test sets\n",
        "(x_train, y_train), (x_test, y_test) = mnist.load_data()\n",
        "\n",
        "shape = x_train.shape\n",
        "\n",
        "# Normalize and reshape the input images\n",
        "x_train = np.expand_dims(x_train.astype('float32'), -1)\n",
        "x_test = np.expand_dims(x_test.astype('float32'), -1)\n",
        "\n",
        "x_train /= 255\n",
        "x_test /= 255\n",
        "\n",
        "y_train_class = np_utils.to_categorical(y_train, 10)\n",
        "y_test_class = np_utils.to_categorical(y_test, 10)\n",
        "\n",
        "print('Image shape: {0}'.format(x_train.shape[1:]))\n",
        "print('Total number of training samples: {0}'.format(x_train.shape[0]))\n",
        "print('Total number of test samples: {0}'.format(x_test.shape[0]))"
      ],
      "execution_count": null,
      "outputs": [
        {
          "output_type": "stream",
          "name": "stdout",
          "text": [
            "Downloading data from https://storage.googleapis.com/tensorflow/tf-keras-datasets/mnist.npz\n",
            "11493376/11490434 [==============================] - 0s 0us/step\n",
            "11501568/11490434 [==============================] - 0s 0us/step\n",
            "Image shape: (28, 28, 1)\n",
            "Total number of training samples: 60000\n",
            "Total number of test samples: 10000\n"
          ]
        }
      ]
    },
    {
      "cell_type": "markdown",
      "metadata": {
        "id": "4Wp29GszMO-j"
      },
      "source": [
        "As illustrated in the cell, this time the input image before the model is 28x28x1. \n",
        "\n",
        "Now we can define a model composed of convolutional layers, activation functions, and maxpool operators:"
      ]
    },
    {
      "cell_type": "code",
      "metadata": {
        "id": "B78NUAqwMeFR"
      },
      "source": [
        "model = Sequential()\n",
        "model.add(Conv2D(16, (3,3), padding='same', input_shape=x_train.shape[1:]))\n",
        "model.add(Activation('relu'))\n",
        "model.add(MaxPooling2D(pool_size=(2,2)))\n",
        "model.add(Conv2D(16, (3,3), padding='same'))\n",
        "model.add(Activation('relu'))\n",
        "model.add(MaxPooling2D(pool_size=(2,2)))"
      ],
      "execution_count": null,
      "outputs": []
    },
    {
      "cell_type": "markdown",
      "metadata": {
        "id": "BX_KAFlBMnVZ"
      },
      "source": [
        "As explained in the previous tutorial, in a classification problem, the output of the model is a probability vector. Each dimension of the vector indicates how likely is that the input image belongs to a specific class. \n",
        "\n",
        "Up to now, the resulting feature map of the model is a map with the shape *Batch x Weight' x Height' x Channel*, and it needs to be mapped into a vector with shape *Batch x Num Classes*. A common technique to process this mapping is to add a Flatten layer that will reshape the feature map to *Batch x (Weight' * Height' * Channel)*. Following the Flatten layer, we add a dense layer which maps this new feature map to the desired output size. "
      ]
    },
    {
      "cell_type": "code",
      "metadata": {
        "id": "3CAc1r2vOJQv"
      },
      "source": [
        "model.add(Flatten())\n",
        "model.add(Dense(10))\n",
        "model.add(Activation('softmax'))"
      ],
      "execution_count": null,
      "outputs": []
    },
    {
      "cell_type": "markdown",
      "metadata": {
        "id": "aHInEJ-aON5v"
      },
      "source": [
        "Let's visualize the output shape in each layer."
      ]
    },
    {
      "cell_type": "code",
      "metadata": {
        "colab": {
          "base_uri": "https://localhost:8080/"
        },
        "id": "UD4NZtIxOTbY",
        "outputId": "398803a7-6524-453d-dfe5-b1523d2346b2"
      },
      "source": [
        "model.summary()"
      ],
      "execution_count": null,
      "outputs": [
        {
          "output_type": "stream",
          "name": "stdout",
          "text": [
            "Model: \"sequential_4\"\n",
            "_________________________________________________________________\n",
            " Layer (type)                Output Shape              Param #   \n",
            "=================================================================\n",
            " conv2d_4 (Conv2D)           (None, 28, 28, 16)        160       \n",
            "                                                                 \n",
            " activation_1 (Activation)   (None, 28, 28, 16)        0         \n",
            "                                                                 \n",
            " max_pooling2d_1 (MaxPooling  (None, 14, 14, 16)       0         \n",
            " 2D)                                                             \n",
            "                                                                 \n",
            " conv2d_5 (Conv2D)           (None, 14, 14, 16)        2320      \n",
            "                                                                 \n",
            " activation_2 (Activation)   (None, 14, 14, 16)        0         \n",
            "                                                                 \n",
            " max_pooling2d_2 (MaxPooling  (None, 7, 7, 16)         0         \n",
            " 2D)                                                             \n",
            "                                                                 \n",
            " flatten (Flatten)           (None, 784)               0         \n",
            "                                                                 \n",
            " dense (Dense)               (None, 10)                7850      \n",
            "                                                                 \n",
            " activation_3 (Activation)   (None, 10)                0         \n",
            "                                                                 \n",
            "=================================================================\n",
            "Total params: 10,330\n",
            "Trainable params: 10,330\n",
            "Non-trainable params: 0\n",
            "_________________________________________________________________\n"
          ]
        }
      ]
    },
    {
      "cell_type": "markdown",
      "metadata": {
        "id": "_F66ds58OTBu"
      },
      "source": [
        "Finally, we can train our CNN and check its performance on MNIST. "
      ]
    },
    {
      "cell_type": "code",
      "metadata": {
        "colab": {
          "base_uri": "https://localhost:8080/"
        },
        "id": "BmeolsG_Pi8A",
        "outputId": "23cc7214-0391-42ce-d171-4912d81f6785"
      },
      "source": [
        "# initiate RMSprop optimizer\n",
        "opt = RMSprop(lr=0.0001, decay=1e-6)\n",
        "\n",
        "model.compile(loss='categorical_crossentropy',\n",
        "              optimizer=opt,\n",
        "              metrics=['accuracy'])\n",
        "\n",
        "model.fit(x_train, y_train_class, batch_size=32, epochs=10,  verbose=0)\n",
        "\n",
        "score = model.evaluate(x_test, y_test_class, verbose=0)\n",
        "print('Test loss:', score[0])\n",
        "print('Test accuracy:', score[1])"
      ],
      "execution_count": null,
      "outputs": [
        {
          "output_type": "stream",
          "name": "stderr",
          "text": [
            "/usr/local/lib/python3.7/dist-packages/keras/optimizer_v2/rmsprop.py:130: UserWarning: The `lr` argument is deprecated, use `learning_rate` instead.\n",
            "  super(RMSprop, self).__init__(name, **kwargs)\n"
          ]
        },
        {
          "output_type": "stream",
          "name": "stdout",
          "text": [
            "Test loss: 0.08307666331529617\n",
            "Test accuracy: 0.974399983882904\n"
          ]
        }
      ]
    },
    {
      "cell_type": "markdown",
      "metadata": {
        "id": "Q0ZorPBtpLlZ"
      },
      "source": [
        "# Coursework\n"
      ]
    },
    {
      "cell_type": "markdown",
      "metadata": {
        "id": "2gkM3dPZbNcX"
      },
      "source": [
        "## Task 1: Classification\n",
        "\n",
        "At this point, we know what is a CNN, how they work, and the components needed to design them. In this first task, we want you to create a CNN that is able to outperform the Multi-layer Perceptron model from Tutorial 1. For the first part of the coursework, we train on CIFAR10, a  classical dataset for image classification. Let's first load the dataset and visualise some examples:"
      ]
    },
    {
      "cell_type": "code",
      "metadata": {
        "id": "zKWvv0VwZPH3"
      },
      "source": [
        "import matplotlib.pyplot as plt\n",
        "import numpy as np\n",
        "import tensorflow as tf\n",
        "tf.compat.v1.logging.set_verbosity(tf.compat.v1.logging.ERROR)\n",
        "from keras.models import Sequential\n",
        "from keras.layers import Dense, Dropout, Activation\n",
        "from keras.utils import np_utils\n",
        "from keras.datasets import cifar10\n",
        "from keras.optimizers import RMSprop\n",
        "\n",
        "# the data, shuffled and split between train and test sets\n",
        "(X_train, y_train), (X_test, y_test) = cifar10.load_data()\n",
        "\n",
        "print('Image shape: {0}'.format(X_train.shape[1:]))\n",
        "print('Total number of training samples: {0}'.format(X_train.shape[0]))\n",
        "print('Total number of test samples: {0}'.format(X_test.shape[0]))\n",
        "\n",
        "# Let's visualize some examples\n",
        "N=5\n",
        "start_val = 0 # pick an element for the code to plot the following N**2 values\n",
        "fig, axes = plt.subplots(N,N)\n",
        "items = list(range(0, 10))\n",
        "for row in range(N):\n",
        "  for col in range(N):\n",
        "    idx = start_val+row+N*col\n",
        "    axes[row,col].imshow(X_train[idx], cmap='gray')\n",
        "    fig.subplots_adjust(hspace=0.5)\n",
        "    y_target = int(y_train[idx])\n",
        "    target = str(items[y_target])\n",
        "    axes[row,col].set_title(target)\n",
        "    axes[row,col].set_xticks([])\n",
        "    axes[row,col].set_yticks([])"
      ],
      "execution_count": null,
      "outputs": []
    },
    {
      "cell_type": "markdown",
      "metadata": {
        "id": "-p9uVP3pccOW"
      },
      "source": [
        "CIFAR10 contains 50,000 32x32 color training images, labeled over 10 categories and 10,000 test images. We need to preprocess the images for the 1D neural network defined in the previous tutorial:"
      ]
    },
    {
      "cell_type": "code",
      "metadata": {
        "colab": {
          "base_uri": "https://localhost:8080/"
        },
        "id": "bFurVCqpclnm",
        "outputId": "6d4d6f92-47fa-4315-d0ac-5dd6ce83fc80"
      },
      "source": [
        "# Preprocess dataset for a 1D neural network\n",
        "X_train = X_train.astype('float32')\n",
        "X_test = X_test.astype('float32')\n",
        "\n",
        "# Normalize the image\n",
        "X_train /= 255\n",
        "X_test /= 255\n",
        "\n",
        "X_train_flatten = X_train.reshape(X_train.shape[0], X_train.shape[1] * X_train.shape[2]*3)\n",
        "X_test_flatten = X_test.reshape(X_test.shape[0], X_test.shape[1] * X_test.shape[2]*3)\n",
        "\n",
        "print('New X_train shape: {0}'.format(X_train_flatten.shape))\n",
        "\n",
        "Y_train_class = np_utils.to_categorical(y_train, 10)\n",
        "Y_test_class = np_utils.to_categorical(y_test, 10)\n",
        "\n",
        "print('New Y_train shape: {0}'.format(Y_train_class.shape))\n"
      ],
      "execution_count": null,
      "outputs": [
        {
          "output_type": "stream",
          "text": [
            "New X_train shape: (50000, 3072)\n",
            "New Y_train shape: (50000, 10)\n"
          ],
          "name": "stdout"
        }
      ]
    },
    {
      "cell_type": "markdown",
      "metadata": {
        "id": "mxFx2s3Fc6wM"
      },
      "source": [
        "Now, we are ready to define the Multi-layer Perceptron model and train it."
      ]
    },
    {
      "cell_type": "code",
      "metadata": {
        "colab": {
          "base_uri": "https://localhost:8080/"
        },
        "id": "KEZW-1pxbKlC",
        "outputId": "cc349846-bb1a-4300-bb16-805dfa6385ad"
      },
      "source": [
        "model = Sequential()\n",
        "\n",
        "model.add(Dense(32, activation='relu', input_shape=(X_train_flatten.shape[1:])))\n",
        "model.add(Dense(64, activation='relu'))\n",
        "model.add(Dense(128, activation='relu'))\n",
        "model.add(Dense(256, activation='relu'))\n",
        "model.add(Dense(512, activation='relu'))\n",
        "model.add(Dense(10, activation='softmax'))\n",
        "\n",
        "# initiate RMSprop optimizer\n",
        "opt = RMSprop(lr=0.0001, decay=1e-6)\n",
        "\n",
        "# Let's train the model using RMSprop\n",
        "model.compile(loss='categorical_crossentropy',\n",
        "              optimizer=opt,\n",
        "              metrics=['accuracy'])\n",
        "\n",
        "model.fit(X_train_flatten, Y_train_class, batch_size=32, epochs=10)\n",
        "\n",
        "score = model.evaluate(X_test_flatten, Y_test_class, verbose=0)\n",
        "print('Test loss:', score[0])\n",
        "print('Test accuracy:', score[1])"
      ],
      "execution_count": null,
      "outputs": [
        {
          "output_type": "stream",
          "text": [
            "Epoch 1/10\n",
            "1563/1563 [==============================] - 7s 3ms/step - loss: 2.0236 - accuracy: 0.2512\n",
            "Epoch 2/10\n",
            "1563/1563 [==============================] - 5s 3ms/step - loss: 1.7733 - accuracy: 0.3627\n",
            "Epoch 3/10\n",
            "1563/1563 [==============================] - 5s 3ms/step - loss: 1.6902 - accuracy: 0.3937\n",
            "Epoch 4/10\n",
            "1563/1563 [==============================] - 5s 3ms/step - loss: 1.6327 - accuracy: 0.4149\n",
            "Epoch 5/10\n",
            "1563/1563 [==============================] - 5s 3ms/step - loss: 1.5894 - accuracy: 0.4274\n",
            "Epoch 6/10\n",
            "1563/1563 [==============================] - 5s 3ms/step - loss: 1.5434 - accuracy: 0.4452\n",
            "Epoch 7/10\n",
            "1563/1563 [==============================] - 5s 3ms/step - loss: 1.5227 - accuracy: 0.4549\n",
            "Epoch 8/10\n",
            "1563/1563 [==============================] - 5s 3ms/step - loss: 1.5038 - accuracy: 0.4624\n",
            "Epoch 9/10\n",
            "1563/1563 [==============================] - 5s 3ms/step - loss: 1.4860 - accuracy: 0.4687\n",
            "Epoch 10/10\n",
            "1563/1563 [==============================] - 5s 3ms/step - loss: 1.4544 - accuracy: 0.4809\n",
            "Test loss: 1.4890371561050415\n",
            "Test accuracy: 0.4738999903202057\n"
          ],
          "name": "stdout"
        }
      ]
    },
    {
      "cell_type": "markdown",
      "metadata": {
        "id": "CEuYNmyHlVJd"
      },
      "source": [
        "### Problem Definition\n",
        "\n",
        "In this exercise, you are asked to test several CNN architectures in the code provided below. Do not modify the optimizer, loss used or parameters related to the training such as the learning rate, they will be investigated in future tutorials. You must focus on the architecture itself: number of convolutional layers, number of filters in every layer, activation functions, pooling operators, among others. Batch Normalization and Dropout layers, which are quite used in CNN architectures, will be also investigated in a future tutorial so you do not have to discuss them.\n",
        "\n",
        "\n",
        "**Report**:\n",
        "*   Present a bar figure with the test and training accuracies for different design choices. Discuss only the parameters that have a significant influence on the network's performance. Explain any discrepancy between training and test accuracies.\n",
        "*   Present a sketch that introduces your best architecture. See some examples on how to display networks in [cv-tricks' blog](https://cv-tricks.com/cnn/understand-resnet-alexnet-vgg-inception/).\n"
      ]
    },
    {
      "cell_type": "code",
      "metadata": {
        "colab": {
          "base_uri": "https://localhost:8080/"
        },
        "id": "r8ATD38dDM1q",
        "outputId": "a537d9c9-a768-44e5-d70d-10196405628e"
      },
      "source": [
        "import tensorflow as tf\n",
        "tf.compat.v1.logging.set_verbosity(tf.compat.v1.logging.ERROR)\n",
        "from keras.models import Sequential\n",
        "from keras.layers import Dense, Activation\n",
        "from keras.utils import np_utils\n",
        "from keras.datasets import cifar10\n",
        "from keras.optimizers import RMSprop\n",
        "from keras.layers import Conv2D, MaxPooling2D, Flatten\n",
        "import matplotlib.pyplot as plt\n",
        "\n",
        "\n",
        "# the data, shuffled and split between train and val sets\n",
        "# Here we are using the official test set as our validation set, in further\n",
        "# tutorials, test and validation splits will be explained properly.\n",
        "(x_train, y_train), (x_test, y_test) = cifar10.load_data()\n",
        "\n",
        "print('Image shape: {0}'.format(x_train.shape[1:]))\n",
        "print('Total number of training samples: {0}'.format(x_train.shape[0]))\n",
        "print('Total number of test samples: {0}'.format(x_test.shape[0]))\n",
        "\n",
        "x_train = x_train.astype('float32')\n",
        "x_test = x_test.astype('float32')\n",
        "\n",
        "# Normalize the image\n",
        "x_train /= 255\n",
        "x_test /= 255\n",
        "\n",
        "y_train_class = np_utils.to_categorical(y_train, 10)\n",
        "y_test_class = np_utils.to_categorical(y_test, 10)\n",
        "\n",
        "\n",
        "# . . . \n",
        "\n",
        "\n",
        "# Define here your architecture\n",
        "\n",
        "model = Sequential()\n",
        "model.add(Conv2D(64, (3,3), input_shape=(32, 32, 3), padding='same',strides=2))\n",
        "#model.add(Conv2D(256, (3,3), input_shape=(32, 32, 3),strides=2))\n",
        "model.add(Activation('relu'))\n",
        "model.add(Conv2D(64, (3,3), padding='same'))\n",
        "model.add(Activation('relu'))\n",
        "#model.add(Activation('linear'))\n",
        "#model.add(LeakyReLU(alpha=0.3))\n",
        "model.add(MaxPooling2D(pool_size=(2,2)))\n",
        "model.add(Conv2D(128, (3,3), padding='same'))\n",
        "#model.add(Conv2D(512, (3,3)))\n",
        "model.add(Activation('relu'))\n",
        "model.add(Conv2D(128, (3,3), padding='same'))\n",
        "model.add(Activation('relu'))\n",
        "#model.add(Activation('linear'))\n",
        "#model.add(LeakyReLU(alpha=0.3))\n",
        "model.add(MaxPooling2D(pool_size=(2,2)))\n",
        "model.add(Conv2D(256, (3,3), padding='same'))\n",
        "#model.add(Conv2D(512, (3,3)))\n",
        "\n",
        "model.add(Activation('relu'))\n",
        "model.add(Conv2D(256, (3,3), padding='same'))\n",
        "model.add(Activation('relu'))\n",
        "#model.add(Activation('linear'))\n",
        "#model.add(LeakyReLU(alpha=0.3))\n",
        "model.add(MaxPooling2D(pool_size=(2,2)))\n",
        "\n",
        "\n",
        "\n",
        "model.add(Flatten())\n",
        "#model.add(Dense(256,activation='relu'))\n",
        "model.add(Dense(10))\n",
        "model.add(Activation('softmax'))\n",
        "# . . . \n",
        "\n",
        "model.summary()\n",
        "# initiate RMSprop optimizer\n",
        "opt = RMSprop(lr=0.0001, decay=1e-6)\n",
        "\n",
        "model.compile(loss='categorical_crossentropy', optimizer=opt, metrics=['accuracy'])\n",
        "\n",
        "history=model.fit(x_train, y_train_class, batch_size=32, epochs=20,validation_data=(x_test,y_test_class))\n",
        "\n",
        "#score = model.evaluate(x_test, y_test_class, verbose=0)\n",
        "#print('training loss:',history.history['loss'])\n",
        "#print('training accuracy:',history.history['accuracy'])\n",
        "#print('Test loss:', score[0])\n",
        "#print('Test accuracy:', score[1])\n"
      ],
      "execution_count": null,
      "outputs": [
        {
          "output_type": "stream",
          "text": [
            "Image shape: (32, 32, 3)\n",
            "Total number of training samples: 50000\n",
            "Total number of test samples: 10000\n",
            "Model: \"sequential_1\"\n",
            "_________________________________________________________________\n",
            "Layer (type)                 Output Shape              Param #   \n",
            "=================================================================\n",
            "conv2d_6 (Conv2D)            (None, 16, 16, 64)        1792      \n",
            "_________________________________________________________________\n",
            "activation_7 (Activation)    (None, 16, 16, 64)        0         \n",
            "_________________________________________________________________\n",
            "conv2d_7 (Conv2D)            (None, 16, 16, 64)        36928     \n",
            "_________________________________________________________________\n",
            "activation_8 (Activation)    (None, 16, 16, 64)        0         \n",
            "_________________________________________________________________\n",
            "max_pooling2d_3 (MaxPooling2 (None, 8, 8, 64)          0         \n",
            "_________________________________________________________________\n",
            "conv2d_8 (Conv2D)            (None, 8, 8, 128)         73856     \n",
            "_________________________________________________________________\n",
            "activation_9 (Activation)    (None, 8, 8, 128)         0         \n",
            "_________________________________________________________________\n",
            "conv2d_9 (Conv2D)            (None, 8, 8, 128)         147584    \n",
            "_________________________________________________________________\n",
            "activation_10 (Activation)   (None, 8, 8, 128)         0         \n",
            "_________________________________________________________________\n",
            "max_pooling2d_4 (MaxPooling2 (None, 4, 4, 128)         0         \n",
            "_________________________________________________________________\n",
            "conv2d_10 (Conv2D)           (None, 4, 4, 256)         295168    \n",
            "_________________________________________________________________\n",
            "activation_11 (Activation)   (None, 4, 4, 256)         0         \n",
            "_________________________________________________________________\n",
            "conv2d_11 (Conv2D)           (None, 4, 4, 256)         590080    \n",
            "_________________________________________________________________\n",
            "activation_12 (Activation)   (None, 4, 4, 256)         0         \n",
            "_________________________________________________________________\n",
            "max_pooling2d_5 (MaxPooling2 (None, 2, 2, 256)         0         \n",
            "_________________________________________________________________\n",
            "flatten_1 (Flatten)          (None, 1024)              0         \n",
            "_________________________________________________________________\n",
            "dense_1 (Dense)              (None, 10)                10250     \n",
            "_________________________________________________________________\n",
            "activation_13 (Activation)   (None, 10)                0         \n",
            "=================================================================\n",
            "Total params: 1,155,658\n",
            "Trainable params: 1,155,658\n",
            "Non-trainable params: 0\n",
            "_________________________________________________________________\n",
            "Epoch 1/20\n",
            "1563/1563 [==============================] - 9s 5ms/step - loss: 1.8835 - accuracy: 0.3000 - val_loss: 1.4439 - val_accuracy: 0.4691\n",
            "Epoch 2/20\n",
            "1563/1563 [==============================] - 8s 5ms/step - loss: 1.4106 - accuracy: 0.4891 - val_loss: 1.2827 - val_accuracy: 0.5402\n",
            "Epoch 3/20\n",
            "1563/1563 [==============================] - 8s 5ms/step - loss: 1.2095 - accuracy: 0.5712 - val_loss: 1.2308 - val_accuracy: 0.5564\n",
            "Epoch 4/20\n",
            "1563/1563 [==============================] - 8s 5ms/step - loss: 1.0659 - accuracy: 0.6234 - val_loss: 1.0698 - val_accuracy: 0.6219\n",
            "Epoch 5/20\n",
            "1563/1563 [==============================] - 8s 5ms/step - loss: 0.9633 - accuracy: 0.6591 - val_loss: 1.0398 - val_accuracy: 0.6430\n",
            "Epoch 6/20\n",
            "1563/1563 [==============================] - 8s 5ms/step - loss: 0.8699 - accuracy: 0.6952 - val_loss: 0.8764 - val_accuracy: 0.6901\n",
            "Epoch 7/20\n",
            "1563/1563 [==============================] - 8s 5ms/step - loss: 0.7822 - accuracy: 0.7279 - val_loss: 0.9442 - val_accuracy: 0.6663\n",
            "Epoch 8/20\n",
            "1563/1563 [==============================] - 8s 5ms/step - loss: 0.7159 - accuracy: 0.7512 - val_loss: 0.8495 - val_accuracy: 0.7008\n",
            "Epoch 9/20\n",
            "1563/1563 [==============================] - 8s 5ms/step - loss: 0.6585 - accuracy: 0.7700 - val_loss: 0.7919 - val_accuracy: 0.7305\n",
            "Epoch 10/20\n",
            "1563/1563 [==============================] - 8s 5ms/step - loss: 0.5973 - accuracy: 0.7932 - val_loss: 0.7622 - val_accuracy: 0.7348\n",
            "Epoch 11/20\n",
            "1563/1563 [==============================] - 8s 5ms/step - loss: 0.5475 - accuracy: 0.8116 - val_loss: 0.7266 - val_accuracy: 0.7521\n",
            "Epoch 12/20\n",
            "1563/1563 [==============================] - 8s 5ms/step - loss: 0.4911 - accuracy: 0.8273 - val_loss: 0.7829 - val_accuracy: 0.7406\n",
            "Epoch 13/20\n",
            "1563/1563 [==============================] - 8s 5ms/step - loss: 0.4482 - accuracy: 0.8474 - val_loss: 0.7807 - val_accuracy: 0.7470\n",
            "Epoch 14/20\n",
            "1563/1563 [==============================] - 8s 5ms/step - loss: 0.3948 - accuracy: 0.8654 - val_loss: 0.7601 - val_accuracy: 0.7484\n",
            "Epoch 15/20\n",
            "1563/1563 [==============================] - 8s 5ms/step - loss: 0.3488 - accuracy: 0.8806 - val_loss: 0.7648 - val_accuracy: 0.7582\n",
            "Epoch 16/20\n",
            "1563/1563 [==============================] - 8s 5ms/step - loss: 0.3066 - accuracy: 0.8975 - val_loss: 0.7664 - val_accuracy: 0.7604\n",
            "Epoch 17/20\n",
            "1563/1563 [==============================] - 8s 5ms/step - loss: 0.2645 - accuracy: 0.9132 - val_loss: 0.7737 - val_accuracy: 0.7713\n",
            "Epoch 18/20\n",
            "1563/1563 [==============================] - 8s 5ms/step - loss: 0.2182 - accuracy: 0.9265 - val_loss: 0.8554 - val_accuracy: 0.7615\n",
            "Epoch 19/20\n",
            "1563/1563 [==============================] - 8s 5ms/step - loss: 0.1871 - accuracy: 0.9380 - val_loss: 0.9625 - val_accuracy: 0.7474\n",
            "Epoch 20/20\n",
            "1563/1563 [==============================] - 8s 5ms/step - loss: 0.1556 - accuracy: 0.9486 - val_loss: 0.9285 - val_accuracy: 0.7634\n"
          ],
          "name": "stdout"
        }
      ]
    },
    {
      "cell_type": "code",
      "metadata": {
        "colab": {
          "base_uri": "https://localhost:8080/",
          "height": 295
        },
        "id": "KWB37amliLzU",
        "outputId": "72e206c1-bc9e-45ee-a9f0-d6e25a6e980e"
      },
      "source": [
        "##training loss VS test loss for 256*512*512\n",
        "plt.plot(history.history['loss'])\n",
        "plt.plot(history.history['val_loss'])\n",
        "\n",
        "plt.title('model train vs test loss')\n",
        "plt.ylabel('loss')\n",
        "plt.xlabel('epoch')\n",
        "plt.legend(['train', 'test'], loc='upper right')\n",
        "plt.show()\n",
        "#loss=1.28"
      ],
      "execution_count": null,
      "outputs": [
        {
          "output_type": "display_data",
          "data": {
            "image/png": "[encoded data removed]",
            "text/plain": [
              "<Figure size 432x288 with 1 Axes>"
            ]
          },
          "metadata": {
            "tags": []
          }
        }
      ]
    },
    {
      "cell_type": "code",
      "metadata": {
        "colab": {
          "base_uri": "https://localhost:8080/",
          "height": 295
        },
        "id": "y1rRkOVRpZf0",
        "outputId": "2b584dd1-7e74-431c-d272-513211c8106c"
      },
      "source": [
        "##training loss VS test loss for 128*256*512\n",
        "plt.plot(history.history['loss'])\n",
        "plt.plot(history.history['val_loss'])\n",
        "\n",
        "plt.title('model train vs test loss')\n",
        "plt.ylabel('loss')\n",
        "plt.xlabel('epoch')\n",
        "plt.legend(['train', 'test'], loc='upper right')\n",
        "plt.show()\n",
        "#loss:0.84"
      ],
      "execution_count": null,
      "outputs": [
        {
          "output_type": "display_data",
          "data": {
            "image/png": "[encoded data removed]",
            "text/plain": [
              "<Figure size 432x288 with 1 Axes>"
            ]
          },
          "metadata": {
            "tags": []
          }
        }
      ]
    },
    {
      "cell_type": "code",
      "metadata": {
        "colab": {
          "base_uri": "https://localhost:8080/",
          "height": 295
        },
        "id": "Lbp-7XYUoGwL",
        "outputId": "d473e29c-372c-495a-b165-b3487fa10bfb"
      },
      "source": [
        "##training loss VS test loss for 128*128*128, 128 fully connect\n",
        "plt.plot(history.history['loss'])\n",
        "plt.plot(history.history['val_loss'])\n",
        "\n",
        "plt.title('model train vs test loss')\n",
        "plt.ylabel('loss')\n",
        "plt.xlabel('epoch')\n",
        "plt.legend(['train', 'test'], loc='upper right')\n",
        "plt.show()"
      ],
      "execution_count": null,
      "outputs": [
        {
          "output_type": "display_data",
          "data": {
            "image/png": "[encoded data removed]",
            "text/plain": [
              "<Figure size 432x288 with 1 Axes>"
            ]
          },
          "metadata": {
            "tags": []
          }
        }
      ]
    },
    {
      "cell_type": "code",
      "metadata": {
        "colab": {
          "base_uri": "https://localhost:8080/",
          "height": 295
        },
        "id": "wDspUAIJ6DY9",
        "outputId": "02cfaf87-a72a-4950-8644-7e5b2945ec81"
      },
      "source": [
        "##training loss VS test loss for 256*512*512, 256 fully connect\n",
        "plt.plot(history.history['loss'])\n",
        "plt.plot(history.history['val_loss'])\n",
        "\n",
        "plt.title('model train vs test loss')\n",
        "plt.ylabel('loss')\n",
        "plt.xlabel('epoch')\n",
        "plt.legend(['train', 'test'], loc='upper right')\n",
        "plt.show()\n",
        "#loss=val_loss: 1.3397"
      ],
      "execution_count": null,
      "outputs": [
        {
          "output_type": "display_data",
          "data": {
            "image/png": "[encoded data removed]",
            "text/plain": [
              "<Figure size 432x288 with 1 Axes>"
            ]
          },
          "metadata": {
            "tags": []
          }
        }
      ]
    },
    {
      "cell_type": "code",
      "metadata": {
        "id": "RUjVIcDwB55G"
      },
      "source": [
        "#train[0]:3conv layers, 1fully connect layers 10 output, conv filters:128,128,128, relu,stride=2,maxpooling(2,2)\n",
        "train_acc[0]=0.747219979763031\n",
        "test_acc[0]=0.6798999905586243\n",
        "\n",
        "#train[1]:2conv layers, 1fully connect layers 10 output, conv filters:128,128, relu,stride=2,maxpooling(2,2)\n",
        "train_acc[1]=0.687279999256134\n",
        "test_acc[1]=0.6642000079154968\n",
        "\n",
        "#train[2]:3conv layers, 1fully connect layers 10 output, conv filters:64,128,256, relu,stride=2,maxpooling(2,2)\n",
        "train_acc[2]=0.7481399774551392\n",
        "test_acc[2]=0.6840000152587891\n",
        "\n",
        "#train[3]:3conv layers, 1fully connect layers 10 output, conv filters:256,512,1024, relu,stride=2,maxpooling(2,2)\n",
        "train_acc[3]=0.9878600239753723\n",
        "test_acc[3]=0.76419997215271\n",
        "\n",
        "#train[4]:3conv layers, 1fully connect layers 10 output, conv filters:256,512,512, relu,stride=2,maxpooling(2,2)\n",
        "train_acc[4]=0.9633399844169617\n",
        "test_acc[4]=0.7465000152587891\n",
        "\n",
        "#train[5]:4conv layers, 1fully connect layers 10 output, conv filters:256,512,512,512 relu,stride=2,maxpooling(2,2)\n",
        "train_acc[5]=0.9900799989700317\n",
        "test_acc[5]=0.7577999830245972\n",
        "\n",
        "#train[6]:3conv layers, 1fully connect layers 10 output, conv filters:256,512,512 relu,stride=2,maxpooling(2,2),filter size:(11,11),(5,5),(3,3)\n",
        "train_acc[6]=0.9896600246429443\n",
        "test_acc[6]=0.7322999835014343\n",
        "\n",
        "#train[7]:3conv layers, 1fully connect layers 10 output, conv filters:256,512,512 leakagerelu,stride=2,maxpooling(2,2),filter size:(3,3),(3,3),(3,3) \n",
        "train_acc[7]=0.9986772537231445\n",
        "test_acc[7]=0.7493000030517578\n",
        "\n",
        "#train[8]:4conv layers, 1fully connect layers 10 output, conv filters:256,512,512 relu,stride=1,maxpooling(2,2),filter size:(3,3),(3,3),(3,3) no padding\n",
        "train_acc[8]=0.9636600017547607\n",
        "test_acc[8]=0.7501000165939331\n",
        "\n",
        "#train[9]:4conv layers, 1fully connect layers 10 output, conv filters:256,512,512 relu,stride=4,maxpooling(2,2),filter size:(3,3),(3,3),(3,3) \n",
        "train_acc[9]=0.8761600255966187\n",
        "test_acc[9]=0.6657000184059143\n",
        "\n",
        "#train[10]:4conv layers, 1fully connect layers 10 output, conv filters:256,512,512 relu,stride=1,no-maxpooling,filter size:(3,3),(3,3),(3,3) no padding\n",
        "train_acc[10]=0.9933800101280212\n",
        "test_acc[10]=0.7095999717712402\n",
        "\n",
        "#train[11]:3conv layers, 1fully connect layers 10 output, conv filters:128,128,128, relu,stride=2,maxpooling(2,2) no maxpooling\n",
        "train_acc[11]=0.8427799940109253\n",
        "test_acc[11]=0.7080000042915344\n",
        "\n",
        "#train[12]:3conv layers, 1fully connect layers 10 output, conv filters:128,128,128 relu,stride=2,maxpooling(2,2) maxpooling\n",
        "train_acc[12]=0.7446600198745728\n",
        "test_acc[12]=0.6984000205993652\n",
        "\n",
        "#train[13]:3conv layers, 1fully connect layers 10 output, conv filters:128,128,128 relu,stride=1,maxpooling(2,2) no maxpooling\n",
        "train_acc[12]=0.9781799912452698\n",
        "test_acc[12]=0.692300021648407\n",
        "\n",
        "#train[14]:3conv layers, 1fully connect layers 10 output, conv filters:256,512,512 relu,stride=2,no-maxpooling,filter size:(3,3),(3,3),(3,3)\n",
        "train_acc[13]=0.9875800013542175\n",
        "test_acc[13]=0.7121999859809875 \n",
        "\n",
        "#train[15]:3conv layers, 2fully connect layers,128 10 output, conv filters:128,128,128 relu,stride=2,maxpooling(2,2)  maxpooling\n",
        "train_acc[15]=0.7861599922180176\n",
        "test_acc[15]=0.7135999798774719\n",
        "\n",
        "#train[16]:3conv layers, 2fully connect layers,128 10 output, conv filters:256,512,512 relu,stride=2,maxpooling(2,2)  maxpooling\n",
        "train_acc[16]=0.9889799952507019\n",
        "test_acc[16]=0.7617999911308289\n",
        "\n",
        "#train[17]:3conv layers, 4fully connect layers,128,256,128 10 output, conv filters:256,512,512 relu,stride=2,maxpooling(2,2)  maxpooling\n",
        "train_acc[17]=0.9859600067138672\n",
        "test_acc[17]=0.7565000057220459\n",
        "#train[17]:3conv layers, 4fully connect layers,,256, 10 output, conv filters:256,512,1024 relu,stride=2,maxpooling(2,2)  maxpooling\n",
        "0.991919994354248\n",
        "0.7605000138282776"
      ],
      "execution_count": null,
      "outputs": []
    },
    {
      "cell_type": "code",
      "metadata": {
        "id": "xfj9EwAqnKuD"
      },
      "source": [
        "\n",
        "w, h = 9, 8;\n",
        "train_acc=[[0 for x in range(w)] for y in range(h)] \n",
        "test_acc=[[0 for x in range(w)] for y in range(h)] \n",
        "\n",
        "#默认 stride=2,maxpooling,1 dense,filter size(3,3),relu,padding\n",
        "#(1)first categories: 256*512*512\n",
        "#(1,1)默认\n",
        "train_acc[0][0]=0.9633399844169617\n",
        "test_acc[0][0]=0.7465000152587891\n",
        "#(1,2) stride=4\n",
        "train_acc[0][1]=0.8761600255966187\n",
        "test_acc[0][1]=0.6657000184059143\n",
        "#(1,3) no-maxpolling??????\n",
        "train_acc[0][2]=0.9875800013542175\n",
        "test_acc[0][2]=0.7504000067710876 \n",
        "#(1,4) 2 dense filter 128,10\n",
        "train_acc[0][3]=0.9889799952507019\n",
        "test_acc[0][3]=0.7617999911308289\n",
        "#(1,5) filter size(11,11),(5,5),(3,3)\n",
        "train_acc[0][4]=0.9896600246429443\n",
        "test_acc[0][4]=0.7322999835014343\n",
        "#(1,6) leakage relu\n",
        "train_acc[0][5]=0.9986772537231445\n",
        "test_acc[0][5]=0.7493000030517578\n",
        "#(1,7) stride=1\n",
        "train_acc[0][6]=0.9927800297737122\n",
        "test_acc[0][6]=0.7716000080108643\n",
        "#(1,8) stride=1, no padding\n",
        "train_acc[0][7]=0.963379979133606\n",
        "test_acc[0][7]=0.753000020980835\n",
        "#(1,9) linear\n",
        "train_acc[0][8]=0.9899200201034546\n",
        "test_acc[0][8]=0.7264999747276306\n",
        "\n",
        "#(2)second category:128*128*128\n",
        "#(2,1)默认\n",
        "train_acc[1][0]=0.747219979763031\n",
        "test_acc[1][0]=0.6798999905586243\n",
        "#(2,2) stride=4\n",
        "train_acc[1][1]=0.6439399719238281\n",
        "test_acc[1][1]=0.5989999771118164\n",
        "#(2,3) no-maxpolling\n",
        "train_acc[1][2]=0.8427799940109253\n",
        "test_acc[1][2]=0.7080000042915344\n",
        "#(2,4) 2 dense filter 128,10\n",
        "train_acc[1][3]=0.7861599922180176\n",
        "test_acc[1][3]=0.7135999798774719\n",
        "#(2,5) filter size(11,11),(5,5),(3,3)\n",
        "train_acc[1][4]=0.842519998550415\n",
        "test_acc[1][4]=0.6898999810218811\n",
        "#(2,6) leakage relu\n",
        "train_acc[1][5]=0.742900013923645\n",
        "test_acc[1][5]=0.6783000230789185\n",
        "#(2,7) stride=1\n",
        "train_acc[1][6]=0.7915599942207336\n",
        "test_acc[1][6]=0.720300018787384\n",
        "#(2,8) stride=1, no padding\n",
        "train_acc[1][7]=0.7491999864578247\n",
        "test_acc[1][7]=0.6983000040054321\n",
        "#(2,6) linear\n",
        "train_acc[1][8]=0.7746800184249878\n",
        "test_acc[1][8]=0.6941999793052673\n",
        "\n",
        "#(3)third category:128*256*512\n",
        "train_acc[3][0]=0.8767\n",
        "test_acc[3][0]=0.7301\n",
        "\n",
        "#(4)forth category:(64*128*256)*2\n",
        "train_acc[4][0]=0.9498\n",
        "test_acc[4][0]=0.7720\n",
        "\n",
        "#(5)fifth category:1024\n",
        "train_acc[2][0]=0.6993\n",
        "test_acc[2][0]=0.6443\n",
        "\n",
        "train_acc[5][0]=0\n",
        "test_acc[5][0]=0\n",
        "\n",
        "train_acc[6][0]=0\n",
        "test_acc[6][0]=0"
      ],
      "execution_count": null,
      "outputs": []
    },
    {
      "cell_type": "code",
      "metadata": {
        "colab": {
          "base_uri": "https://localhost:8080/",
          "height": 296
        },
        "id": "0tFwm6lN2k1V",
        "outputId": "910a8c42-7729-4741-c2c6-98d9b9636bdf"
      },
      "source": [
        "import numpy as np\n",
        "import matplotlib.pyplot as plt\n",
        "barWidth = 0.1\n",
        "# Set position of bar on X axis\n",
        "#r1 = np.arange(len())\n",
        "#print(train_acc[][1])\n",
        "default_train=[0 for x in range(8)]\n",
        "default_test=[0 for x in range(8)]\n",
        "for i in range(8):\n",
        "  default_train[i]=train_acc[i][0]\n",
        "  default_test[i]=test_acc[i][0]\n",
        "\n",
        "\n",
        "stride4_train=[0 for x in range(8)]\n",
        "stride4_test=[0 for x in range(8)]\n",
        "for i in range(8):\n",
        "  stride4_train[i]=train_acc[i][1]\n",
        "  stride4_test[i]=test_acc[i][1]\n",
        "\n",
        "nomaxpooling_train=[0 for x in range(8)]\n",
        "nomaxpooling_test=[0 for x in range(8)]\n",
        "for i in range(8):\n",
        "  nomaxpooling_train[i]=train_acc[i][2]\n",
        "  nomaxpooling_test[i]=test_acc[i][2]\n",
        "\n",
        "twodense_train=[0 for x in range(8)]\n",
        "twodense_test=[0 for x in range(8)]\n",
        "for i in range(8):\n",
        "  twodense_train[i]=train_acc[i][3]\n",
        "  twodense_test[i]=test_acc[i][3]\n",
        "\n",
        "filtersize_train=[0 for x in range(8)]\n",
        "filtersize_test=[0 for x in range(8)]\n",
        "for i in range(8):\n",
        "  filtersize_train[i]=train_acc[i][4]\n",
        "  filtersize_test[i]=test_acc[i][4]\n",
        "\n",
        "leakage_train=[0 for x in range(8)]\n",
        "leakage_test=[0 for x in range(8)]\n",
        "for i in range(8):\n",
        "  leakage_train[i]=train_acc[i][5]\n",
        "  leakage_test[i]=test_acc[i][5]\n",
        "\n",
        "stride1_train=[0 for x in range(8)]\n",
        "stride1_test=[0 for x in range(8)]\n",
        "for i in range(8):\n",
        "  stride1_train[i]=train_acc[i][6]\n",
        "  stride1_test[i]=test_acc[i][6]\n",
        "\n",
        "nopaddingstride1_train=[0 for x in range(8)]\n",
        "nopaddingstride1_test=[0 for x in range(8)]\n",
        "for i in range(8):\n",
        "  nopaddingstride1_train[i]=train_acc[i][7]\n",
        "  nopaddingstride1_test[i]=test_acc[i][7]\n",
        "\n",
        "linear_train=[0 for x in range(8)]\n",
        "linear_test=[0 for x in range(8)]\n",
        "for i in range(8):\n",
        "  linear_train[i]=train_acc[i][8]\n",
        "  linear_test[i]=test_acc[i][8]\n",
        "\n",
        "r1 = np.arange(len(default_train))\n",
        "r2 = [x + barWidth for x in r1]\n",
        "r3 = [x + barWidth for x in r2]\n",
        "r4 = [x + barWidth for x in r3]\n",
        "r5 = [x + barWidth for x in r4]\n",
        "r6 = [x + barWidth for x in r5]\n",
        "r7 = [x + barWidth for x in r6]\n",
        "r8 = [x + barWidth for x in r7]\n",
        "r9 = [x + barWidth for x in r8]\n",
        "\n",
        "\n",
        "\n",
        "plt.bar(r1, default_train, color='#7f6d5f', width=barWidth, edgecolor='white', label='default')\n",
        "plt.bar(r2, stride4_train, color='#557f2d', width=barWidth, edgecolor='white', label='stride=4')\n",
        "plt.bar(r3, nomaxpooling_train, color='#bcbd22', width=barWidth, edgecolor='white', label='no-maxpooling')\n",
        "plt.bar(r4, twodense_train, color='#1f77b4', width=barWidth, edgecolor='white', label='add_128_dense')\n",
        "plt.bar(r5, filtersize_train, color='#ff7f0e', width=barWidth, edgecolor='white', label='larger_filter_size')\n",
        "plt.bar(r6, leakage_train, color='#2ca02c', width=barWidth, edgecolor='white', label='leakage_relu')\n",
        "plt.bar(r7, stride1_train, color='#d62728', width=barWidth, edgecolor='white', label='stride=1')\n",
        "plt.bar(r8, nopaddingstride1_train, color='#9467bd', width=barWidth, edgecolor='white', label='stride=1,no_padding')\n",
        "plt.bar(r9, linear_train, color='#17becf', width=barWidth, edgecolor='white', label='linear')\n",
        "plt.xlabel('CNN_size', fontweight='bold')\n",
        "plt.ylabel('accuracy',fontweight='bold')\n",
        "plt.title('training accuracy for five different CNN')\n",
        "plt.xticks([r + 0.35 for r in range(len(default_train))], ['first','second','third','forth','fifth','','',''])\n",
        "\n",
        "plt.legend()\n",
        "#plt.show()\n",
        "plt.savefig('train.jpg')\n"
      ],
      "execution_count": null,
      "outputs": [
        {
          "output_type": "display_data",
          "data": {
            "image/png": "[encoded data removed]",
            "text/plain": [
              "<Figure size 432x288 with 1 Axes>"
            ]
          },
          "metadata": {
            "tags": [],
            "needs_background": "light"
          }
        }
      ]
    },
    {
      "cell_type": "code",
      "metadata": {
        "colab": {
          "base_uri": "https://localhost:8080/",
          "height": 296
        },
        "id": "x2BkyPGSSwf1",
        "outputId": "7555512f-3350-4f0c-a165-735024937e7c"
      },
      "source": [
        "from matplotlib import pyplot as plt\n",
        "r1 = np.arange(len(default_test))\n",
        "r2 = [x + barWidth for x in r1]\n",
        "r3 = [x + barWidth for x in r2]\n",
        "r4 = [x + barWidth for x in r3]\n",
        "r5 = [x + barWidth for x in r4]\n",
        "r6 = [x + barWidth for x in r5]\n",
        "r7 = [x + barWidth for x in r6]\n",
        "r8 = [x + barWidth for x in r7]\n",
        "r9 = [x + barWidth for x in r8]\n",
        "\n",
        "\n",
        "\n",
        "plt.bar(r1, default_test, color='#7f6d5f', width=barWidth, edgecolor='white', label='default')\n",
        "plt.bar(r2, stride4_test, color='#557f2d', width=barWidth, edgecolor='white', label='stride=4')\n",
        "plt.bar(r3, nomaxpooling_test, color='#bcbd22', width=barWidth, edgecolor='white', label='no-maxpooling')\n",
        "plt.bar(r4, twodense_test, color='#1f77b4', width=barWidth, edgecolor='white', label='add_128_dense')\n",
        "plt.bar(r5, filtersize_test, color='#ff7f0e', width=barWidth, edgecolor='white', label='larger_filter_size')\n",
        "plt.bar(r6, leakage_test, color='#2ca02c', width=barWidth, edgecolor='white', label='leakage_relu')\n",
        "plt.bar(r7, stride1_test, color='#d62728', width=barWidth, edgecolor='white', label='stride=1')\n",
        "plt.bar(r8, nopaddingstride1_test, color='#9467bd', width=barWidth, edgecolor='white', label='stride=1,no_padding')\n",
        "plt.bar(r9, linear_test, color='#17becf', width=barWidth, edgecolor='white', label='linear')\n",
        "plt.xlabel('CNN_size', fontweight='bold')\n",
        "plt.ylabel('accuracy',fontweight='bold')\n",
        "plt.ylim((0.0,1.0))\n",
        "plt.title('testing accuracy for five different CNN')\n",
        "plt.xticks([r + barWidth for r in range(len(default_test))], ['first','second','third','forth','fifth','','',''])\n",
        "\n",
        "plt.legend()\n",
        "#plt.show()\n",
        "plt.savefig('test.jpg')"
      ],
      "execution_count": null,
      "outputs": [
        {
          "output_type": "display_data",
          "data": {
            "image/png": "[encoded data removed]",
            "text/plain": [
              "<Figure size 432x288 with 1 Axes>"
            ]
          },
          "metadata": {
            "tags": [],
            "needs_background": "light"
          }
        }
      ]
    },
    {
      "cell_type": "markdown",
      "metadata": {
        "id": "3w8eUV9RDPkL"
      },
      "source": [
        "\n",
        "---\n",
        "---\n",
        "\n",
        "## Task 2: Regression\n",
        "\n",
        "Now we face a regression task instead of a classification problem. Loss function, activations, and dataset will change in the following task. Thus, instead of having one vector with the probabilities of each class, in this regression problem, the output is a single scalar. \n",
        "\n",
        "For this second task, we chose the task of estimating house prices based on input images. To get the data run the following script, which clones Ahmed and Moustafa’s [repository](https://github.com/emanhamed/Houses-dataset) into colmap."
      ]
    },
    {
      "cell_type": "code",
      "metadata": {
        "colab": {
          "base_uri": "https://localhost:8080/"
        },
        "id": "Ibukle2ODMEp",
        "outputId": "576f904d-2796-456e-8b6b-afa2c80475e4"
      },
      "source": [
        "!git clone https://github.com/emanhamed/Houses-dataset\n",
        "%cd /content/Houses-dataset/Houses\\ Dataset"
      ],
      "execution_count": null,
      "outputs": [
        {
          "output_type": "stream",
          "text": [
            "Cloning into 'Houses-dataset'...\n",
            "remote: Enumerating objects: 2166, done.\u001b[K\n",
            "remote: Total 2166 (delta 0), reused 0 (delta 0), pack-reused 2166\u001b[K\n",
            "Receiving objects: 100% (2166/2166), 176.26 MiB | 6.99 MiB/s, done.\n",
            "Resolving deltas: 100% (20/20), done.\n",
            "/content/Houses-dataset/Houses Dataset\n"
          ],
          "name": "stdout"
        }
      ]
    },
    {
      "cell_type": "markdown",
      "metadata": {
        "id": "Ye6xldkVEV-t"
      },
      "source": [
        "This dataset contains four images of the house (kitchen, frontal, bedroom and bathroom), and attributes (number of bedrooms, number of bathrooms, zip code...). For our exercise, we only use the images of the house. We start with front door images. "
      ]
    },
    {
      "cell_type": "code",
      "metadata": {
        "colab": {
          "base_uri": "https://localhost:8080/",
          "height": 285
        },
        "id": "71urud9ZHq9d",
        "outputId": "16ce0524-058f-4530-df10-21210ce4134e"
      },
      "source": [
        "import cv2\n",
        "import numpy as np\n",
        "import matplotlib.pyplot as plt\n",
        "from numpy.random import seed\n",
        "\n",
        "house_section = 'frontal' # select between: kitchen, frontal, bedroom or bathroom\n",
        "print('We have selected {} images. You can switch to the kitchen, frontal, bedroom or bathroom images by changing house_section variable.'.format(house_section))\n",
        "images = []\n",
        "for i_im in range(1, 536):\n",
        "  image = cv2.imread(str(i_im)+'_'+house_section+'.jpg')\n",
        "  image = cv2.resize(image, (64, 64))\n",
        "  images.append(image)\n",
        "\n",
        "labels = []\n",
        "f = open('HousesInfo.txt', \"r\")\n",
        "for x in f:\n",
        "  label = (x).split(' ')[-1].split('\\n')[0]\n",
        "  labels.append(label)\n",
        "\n",
        "# Let's visualize some examples\n",
        "N=3\n",
        "start_val = 0 # pick an element for the code to plot the following N**2 values\n",
        "fig, axes = plt.subplots(N,N)\n",
        "for row in range(N):\n",
        "  for col in range(N):\n",
        "    idx = start_val+row+N*col    \n",
        "    tmp = cv2.cvtColor(images[idx],cv2.COLOR_BGR2RGB)\n",
        "    axes[row,col].imshow(tmp, cmap='gray')\n",
        "    fig.subplots_adjust(hspace=0.5)\n",
        "    target = int(labels[idx])\n",
        "    axes[row,col].set_title(str(target) + '$')\n",
        "    axes[row,col].set_xticks([])\n",
        "    axes[row,col].set_yticks([])"
      ],
      "execution_count": null,
      "outputs": [
        {
          "output_type": "stream",
          "text": [
            "We have selected frontal images. You can switch to the kitchen, frontal, bedroom or bathroom images by changing house_section variable.\n"
          ],
          "name": "stdout"
        },
        {
          "output_type": "display_data",
          "data": {
            "image/png": "[encoded data removed]",
            "text/plain": [
              "<Figure size 432x288 with 9 Axes>"
            ]
          },
          "metadata": {
            "tags": []
          }
        }
      ]
    },
    {
      "cell_type": "markdown",
      "metadata": {
        "id": "scNfczb73nGS"
      },
      "source": [
        "Prepare the dataset for training the model:"
      ]
    },
    {
      "cell_type": "code",
      "metadata": {
        "colab": {
          "base_uri": "https://localhost:8080/"
        },
        "id": "FORNJ1QU2L-t",
        "outputId": "58a234c2-18ec-4b7e-e079-a1dee3e9fc5c"
      },
      "source": [
        "seed(1234)\n",
        "images = np.asarray(images).astype('float32')\n",
        "labels = np.asarray(labels).astype('float32')\n",
        "\n",
        "# Normalize the image\n",
        "max_price = labels.max()\n",
        "images /= 255.\n",
        "labels /= max_price\n",
        "\n",
        "random_idx = np.random.permutation(len(images))\n",
        "images = images[random_idx]\n",
        "labels = labels[random_idx]\n",
        "\n",
        "split_size_val = int(0.8*len(images))\n",
        "X_train, X_val = images[:split_size_val], images[split_size_val+1:]\n",
        "Y_train, Y_val = labels[:split_size_val], labels[split_size_val+1:]\n",
        "\n",
        "# Print shape of training and test images \n",
        "print('X_train image shape: {0}'.format(X_train.shape))\n",
        "print('X_val image shape: {0}'.format(X_val.shape))\n",
        "\n",
        "# Print shape of training and test labels \n",
        "print('Y_train labels shape: {0}'.format(Y_train.shape))\n",
        "print('Y_val labels shape: {0}'.format(Y_val.shape))"
      ],
      "execution_count": null,
      "outputs": [
        {
          "output_type": "stream",
          "text": [
            "X_train image shape: (428, 64, 64, 3)\n",
            "X_val image shape: (106, 64, 64, 3)\n",
            "Y_train labels shape: (428,)\n",
            "Y_val labels shape: (106,)\n"
          ],
          "name": "stdout"
        }
      ]
    },
    {
      "cell_type": "markdown",
      "metadata": {
        "id": "JGC6dXqdM2eU"
      },
      "source": [
        "### Problem Definition\n",
        "\n",
        "Similar to the previous task, you are asked to design a CNN architecture able to perform the estimation of house prices based on the `frontal` house image. Design a new model by changing parameters such as the number of convolutional layers, activation functions, strides, or pooling operators, among others."
      ]
    },
    {
      "cell_type": "code",
      "metadata": {
        "id": "YE8g42x3M2Ko"
      },
      "source": [
        "import tensorflow as tf\n",
        "tf.compat.v1.logging.set_verbosity(tf.compat.v1.logging.ERROR)\n",
        "from keras.models import Sequential\n",
        "from keras.layers import Dense, Activation,Dropout\n",
        "from keras.utils import np_utils\n",
        "from keras.optimizers import Adam\n",
        "from tensorflow.keras import regularizers\n",
        "from keras.layers import LeakyReLU\n",
        "from keras.layers import Conv2D, MaxPooling2D, Flatten\n",
        "from keras.layers.normalization import BatchNormalization\n",
        "tf.random.set_seed(1234)\n",
        "\n",
        "chanDim = -1\n",
        "model = Sequential()\n",
        "\n",
        "# . . . \n",
        "\n",
        "\n",
        "\n",
        "\n",
        "model.add(Conv2D(8, (2,2), input_shape=(64, 64, 3), padding='same'))\n",
        "\n",
        "model.add(Activation('relu'))\n",
        "model.add(BatchNormalization(axis=chanDim))\n",
        "\n",
        "\n",
        "\n",
        "model.add(MaxPooling2D(pool_size=(2,2)))\n",
        "#model.add(AveragePooling2D(pool_size=(2,2)))\n",
        "\n",
        "\n",
        "model.add(Conv2D(16, (2,2), input_shape=(64, 64, 3), padding='same'))\n",
        "\n",
        "model.add(Activation('relu'))\n",
        "model.add(BatchNormalization(axis=chanDim))\n",
        "\n",
        "\n",
        "\n",
        "model.add(MaxPooling2D(pool_size=(2,2)))\n",
        "#model.add(AveragePooling2D(pool_size=(2,2)))\n",
        "\n",
        "model.add(Conv2D(32, (2,2), input_shape=(64, 64, 3), padding='same'))\n",
        "\n",
        "model.add(Activation('relu'))\n",
        "model.add(BatchNormalization(axis=chanDim))\n",
        "\n",
        "\n",
        "\n",
        "model.add(MaxPooling2D(pool_size=(2,2)))\n",
        "#model.add(AveragePooling2D(pool_size=(2,2)))\n",
        "\n",
        "model.add(Conv2D(32, (2,2), input_shape=(64, 64, 3), padding='same'))\n",
        "\n",
        "model.add(Activation('relu'))\n",
        "model.add(BatchNormalization(axis=chanDim))\n",
        "\n",
        "\n",
        "model.add(MaxPooling2D(pool_size=(2,2)))\n",
        "\n",
        "model.add(Flatten())\n",
        "model.add(Dense(1024,activation='relu'))\n",
        "model.add(BatchNormalization())\n",
        "model.add(Dropout(0.5))\n",
        "\n",
        "model.add(Dense(256,activation='relu'))\n",
        "\n",
        "model.add(Dense(1,activation='linear'))\n",
        "\n",
        "\n",
        "\n",
        "\n",
        "\n",
        "# . . . \n",
        "\n",
        "model.summary()\n",
        "opt = Adam(lr=1e-3, decay=1e-3 / 200)\n",
        "model.compile(loss=\"mean_absolute_percentage_error\", optimizer=opt, metrics=['mean_absolute_percentage_error'])\n",
        "\n",
        "# train the model\n",
        "print(\"[INFO] training model...\")\n",
        "history=model.fit(X_train, Y_train, validation_data=(X_val, Y_val), epochs=100, batch_size=32)"
      ],
      "execution_count": null,
      "outputs": []
    },
    {
      "cell_type": "code",
      "metadata": {
        "id": "ghXJsBOxLpmI"
      },
      "source": [
        "train_FC=history.history['loss']\n",
        "test_FC=history.history['val_loss']"
      ],
      "execution_count": null,
      "outputs": []
    },
    {
      "cell_type": "code",
      "metadata": {
        "id": "X1b6D-pWKqZM"
      },
      "source": [
        "train_wider=history.history['loss']\n",
        "test_wider=history.history['val_loss']"
      ],
      "execution_count": null,
      "outputs": []
    },
    {
      "cell_type": "code",
      "metadata": {
        "colab": {
          "base_uri": "https://localhost:8080/"
        },
        "id": "qVRQoIjmTqFt",
        "outputId": "70be6c60-d393-426d-87b3-6d08ec2c36f8"
      },
      "source": [
        "prices_predicted = model.predict(X_val).flatten()\n",
        "diff = ((prices_predicted - Y_val) / Y_val) * 100\n",
        "error_mean = np.mean(np.abs(diff))\n",
        "\n",
        "print(\"Predicting house prices - Estimation Error: {:.2f}%\".format(error_mean))"
      ],
      "execution_count": null,
      "outputs": [
        {
          "output_type": "stream",
          "text": [
            "Predicting house prices - Estimation Error: 72.18%\n"
          ],
          "name": "stdout"
        }
      ]
    },
    {
      "cell_type": "code",
      "metadata": {
        "colab": {
          "base_uri": "https://localhost:8080/",
          "height": 295
        },
        "id": "I7LmF0gipcVf",
        "outputId": "a6ad719e-8de4-4568-fd71-fe1e8752bab9"
      },
      "source": [
        "#plt.plot(history.history['loss'])\n",
        "plt.plot(train_wider)\n",
        "#plt.plot(history.history['val_loss'])\n",
        "plt.plot(test_wider)\n",
        "\n",
        "plt.title('model train vs test loss')\n",
        "plt.ylabel('loss')\n",
        "plt.xlabel('epoch')\n",
        "plt.ylim((50.0,200.0))\n",
        "plt.legend(['train', 'test'], loc='upper right')\n",
        "#plt.show()\n",
        "plt.savefig('/content/sample_data/loss_FC.jpg')"
      ],
      "execution_count": null,
      "outputs": [
        {
          "output_type": "display_data",
          "data": {
            "image/png": "[encoded data removed]",
            "text/plain": [
              "<Figure size 432x288 with 1 Axes>"
            ]
          },
          "metadata": {
            "tags": []
          }
        }
      ]
    },
    {
      "cell_type": "code",
      "metadata": {
        "colab": {
          "base_uri": "https://localhost:8080/",
          "height": 295
        },
        "id": "PjAw5pV2-WY2",
        "outputId": "4fd84a55-5201-4a3a-f35d-a950123f7304"
      },
      "source": [
        "plt.plot(history.history['loss'])\n",
        "plt.plot(history.history['val_loss'])\n",
        "\n",
        "plt.title('model train vs test loss')\n",
        "plt.ylabel('loss')\n",
        "plt.xlabel('epoch')\n",
        "plt.ylim((50.0,150.0))\n",
        "plt.legend(['train', 'test'], loc='upper right')\n",
        "#plt.show()\n",
        "plt.savefig('/content/sample_data/loss_wider.jpg')"
      ],
      "execution_count": null,
      "outputs": [
        {
          "output_type": "display_data",
          "data": {
            "image/png": "[encoded data removed]",
            "text/plain": [
              "<Figure size 432x288 with 1 Axes>"
            ]
          },
          "metadata": {
            "tags": []
          }
        }
      ]
    },
    {
      "cell_type": "code",
      "metadata": {
        "colab": {
          "base_uri": "https://localhost:8080/",
          "height": 233
        },
        "id": "NW1L-3E9qBhG",
        "outputId": "421858f4-3be1-4df5-c52c-545c85e68262"
      },
      "source": [
        "#training loss vs testing loss for 128*128*128\n",
        "plt.plot(history.history['accuracy'])\n",
        "plt.plot(history.history['val_accuracy'])\n",
        "\n",
        "plt.title('model train vs test accuracy')\n",
        "plt.ylabel('loss')\n",
        "plt.xlabel('epoch')\n",
        "plt.legend(['train', 'test'], loc='lower right')\n",
        "plt.text(17,0.8,(20,0.84),color='r')\n",
        "plt.show()\n",
        "plt.savefig('accuracy.jpg')"
      ],
      "execution_count": null,
      "outputs": [
        {
          "output_type": "error",
          "ename": "KeyError",
          "evalue": "ignored",
          "traceback": [
            "\u001b[0;31m---------------------------------------------------------------------------\u001b[0m",
            "\u001b[0;31mKeyError\u001b[0m                                  Traceback (most recent call last)",
            "\u001b[0;32m<ipython-input-10-c33b3f66c416>\u001b[0m in \u001b[0;36m<module>\u001b[0;34m()\u001b[0m\n\u001b[1;32m      1\u001b[0m \u001b[0;31m#training loss vs testing loss for 128*128*128\u001b[0m\u001b[0;34m\u001b[0m\u001b[0;34m\u001b[0m\u001b[0;34m\u001b[0m\u001b[0m\n\u001b[0;32m----> 2\u001b[0;31m \u001b[0mplt\u001b[0m\u001b[0;34m.\u001b[0m\u001b[0mplot\u001b[0m\u001b[0;34m(\u001b[0m\u001b[0mhistory\u001b[0m\u001b[0;34m.\u001b[0m\u001b[0mhistory\u001b[0m\u001b[0;34m[\u001b[0m\u001b[0;34m'accuracy'\u001b[0m\u001b[0;34m]\u001b[0m\u001b[0;34m)\u001b[0m\u001b[0;34m\u001b[0m\u001b[0;34m\u001b[0m\u001b[0m\n\u001b[0m\u001b[1;32m      3\u001b[0m \u001b[0mplt\u001b[0m\u001b[0;34m.\u001b[0m\u001b[0mplot\u001b[0m\u001b[0;34m(\u001b[0m\u001b[0mhistory\u001b[0m\u001b[0;34m.\u001b[0m\u001b[0mhistory\u001b[0m\u001b[0;34m[\u001b[0m\u001b[0;34m'val_accuracy'\u001b[0m\u001b[0;34m]\u001b[0m\u001b[0;34m)\u001b[0m\u001b[0;34m\u001b[0m\u001b[0;34m\u001b[0m\u001b[0m\n\u001b[1;32m      4\u001b[0m \u001b[0;34m\u001b[0m\u001b[0m\n\u001b[1;32m      5\u001b[0m \u001b[0mplt\u001b[0m\u001b[0;34m.\u001b[0m\u001b[0mtitle\u001b[0m\u001b[0;34m(\u001b[0m\u001b[0;34m'model train vs test accuracy'\u001b[0m\u001b[0;34m)\u001b[0m\u001b[0;34m\u001b[0m\u001b[0;34m\u001b[0m\u001b[0m\n",
            "\u001b[0;31mKeyError\u001b[0m: 'accuracy'"
          ]
        }
      ]
    },
    {
      "cell_type": "code",
      "metadata": {
        "colab": {
          "base_uri": "https://localhost:8080/"
        },
        "id": "LMQb1P0MpUX6",
        "outputId": "5086eb7c-6933-4d4b-a474-e2b2d3f2ef6d"
      },
      "source": [
        "import tensorflow as tf\n",
        "tf.compat.v1.logging.set_verbosity(tf.compat.v1.logging.ERROR)\n",
        "from keras.models import Sequential\n",
        "from keras.layers import Dense, Activation,Dropout\n",
        "from keras.utils import np_utils\n",
        "from keras.optimizers import Adam\n",
        "from tensorflow.keras import regularizers\n",
        "from keras.layers import LeakyReLU\n",
        "from keras.layers import Conv2D, MaxPooling2D, Flatten, AveragePooling2D\n",
        "from keras.layers.normalization import BatchNormalization\n",
        "tf.random.set_seed(1234)\n",
        "\n",
        "chanDim = -1\n",
        "model = Sequential()\n",
        "\n",
        "# . . . \n",
        "\n",
        "model.add(Conv2D(128, (3,3), input_shape=(64, 64, 3), padding='same'))\n",
        "\n",
        "model.add(LeakyReLU(alpha=0.1))\n",
        "#model.add(Activation('relu'))\n",
        "#model.add(BatchNormalization(axis=chanDim))\n",
        "\n",
        "\n",
        "model.add(MaxPooling2D(pool_size=(2,2)))\n",
        "#model.add(AveragePooling2D(pool_size=(2,2)))\n",
        "\n",
        "\n",
        "model.add(Conv2D(256, (3,3), input_shape=(64, 64, 3), padding='same'))\n",
        "\n",
        "model.add(LeakyReLU(alpha=0.1))\n",
        "#model.add(Activation('relu'))\n",
        "#model.add(BatchNormalization(axis=chanDim))\n",
        "\n",
        "\n",
        "\n",
        "model.add(MaxPooling2D(pool_size=(2,2)))\n",
        "\n",
        "\n",
        "model.add(Conv2D(256, (3,3), input_shape=(64, 64, 3), padding='same'))\n",
        "\n",
        "model.add(LeakyReLU(alpha=0.1))\n",
        "#model.add(Activation('relu'))\n",
        "\n",
        "\n",
        "\n",
        "\n",
        "model.add(MaxPooling2D(pool_size=(2,2)))\n",
        "\n",
        "\n",
        "model.add(Flatten())\n",
        "#model.add(Dense(64,activation='relu'))\n",
        "#model.add(BatchNormalization(axis=chanDim))\n",
        "#model.add(Dropout(0.2))\n",
        "\n",
        "model.add(Dense(16,activation='relu'))\n",
        "\n",
        "model.add(Dense(1,activation='linear'))\n",
        "\n",
        "\n",
        "\n",
        "\n",
        "\n",
        "# . . . \n",
        "\n",
        "model.summary()\n",
        "opt = Adam(lr=1e-3, decay=1e-3 / 200)\n",
        "model.compile(loss=\"mean_absolute_percentage_error\", optimizer=opt, metrics=['mean_absolute_percentage_error'])\n",
        "\n",
        "# train the model\n",
        "print(\"[INFO] training model...\")\n",
        "history=model.fit(X_train, Y_train, validation_data=(X_val, Y_val), epochs=100, batch_size=32)"
      ],
      "execution_count": null,
      "outputs": [
        {
          "output_type": "stream",
          "text": [
            "Model: \"sequential_1\"\n",
            "_________________________________________________________________\n",
            "Layer (type)                 Output Shape              Param #   \n",
            "=================================================================\n",
            "conv2d_3 (Conv2D)            (None, 64, 64, 128)       3584      \n",
            "_________________________________________________________________\n",
            "leaky_re_lu_3 (LeakyReLU)    (None, 64, 64, 128)       0         \n",
            "_________________________________________________________________\n",
            "max_pooling2d_3 (MaxPooling2 (None, 32, 32, 128)       0         \n",
            "_________________________________________________________________\n",
            "conv2d_4 (Conv2D)            (None, 32, 32, 256)       295168    \n",
            "_________________________________________________________________\n",
            "leaky_re_lu_4 (LeakyReLU)    (None, 32, 32, 256)       0         \n",
            "_________________________________________________________________\n",
            "max_pooling2d_4 (MaxPooling2 (None, 16, 16, 256)       0         \n",
            "_________________________________________________________________\n",
            "conv2d_5 (Conv2D)            (None, 16, 16, 256)       590080    \n",
            "_________________________________________________________________\n",
            "leaky_re_lu_5 (LeakyReLU)    (None, 16, 16, 256)       0         \n",
            "_________________________________________________________________\n",
            "max_pooling2d_5 (MaxPooling2 (None, 8, 8, 256)         0         \n",
            "_________________________________________________________________\n",
            "flatten_1 (Flatten)          (None, 16384)             0         \n",
            "_________________________________________________________________\n",
            "dense_2 (Dense)              (None, 16)                262160    \n",
            "_________________________________________________________________\n",
            "dense_3 (Dense)              (None, 1)                 17        \n",
            "=================================================================\n",
            "Total params: 1,151,009\n",
            "Trainable params: 1,151,009\n",
            "Non-trainable params: 0\n",
            "_________________________________________________________________\n",
            "[INFO] training model...\n",
            "Epoch 1/100\n",
            "14/14 [==============================] - 5s 38ms/step - loss: 769.4200 - mean_absolute_percentage_error: 769.4200 - val_loss: 92.8753 - val_mean_absolute_percentage_error: 92.8753\n",
            "Epoch 2/100\n",
            "14/14 [==============================] - 0s 14ms/step - loss: 86.9593 - mean_absolute_percentage_error: 86.9593 - val_loss: 74.8362 - val_mean_absolute_percentage_error: 74.8362\n",
            "Epoch 3/100\n",
            "14/14 [==============================] - 0s 15ms/step - loss: 71.7826 - mean_absolute_percentage_error: 71.7826 - val_loss: 68.6554 - val_mean_absolute_percentage_error: 68.6554\n",
            "Epoch 4/100\n",
            "14/14 [==============================] - 0s 15ms/step - loss: 72.9583 - mean_absolute_percentage_error: 72.9583 - val_loss: 67.3911 - val_mean_absolute_percentage_error: 67.3911\n",
            "Epoch 5/100\n",
            "14/14 [==============================] - 0s 14ms/step - loss: 72.4210 - mean_absolute_percentage_error: 72.4210 - val_loss: 67.8986 - val_mean_absolute_percentage_error: 67.8986\n",
            "Epoch 6/100\n",
            "14/14 [==============================] - 0s 14ms/step - loss: 72.5341 - mean_absolute_percentage_error: 72.5341 - val_loss: 69.0148 - val_mean_absolute_percentage_error: 69.0148\n",
            "Epoch 7/100\n",
            "14/14 [==============================] - 0s 14ms/step - loss: 70.8218 - mean_absolute_percentage_error: 70.8218 - val_loss: 69.7064 - val_mean_absolute_percentage_error: 69.7064\n",
            "Epoch 8/100\n",
            "14/14 [==============================] - 0s 14ms/step - loss: 70.9839 - mean_absolute_percentage_error: 70.9839 - val_loss: 69.0217 - val_mean_absolute_percentage_error: 69.0217\n",
            "Epoch 9/100\n",
            "14/14 [==============================] - 0s 15ms/step - loss: 71.3720 - mean_absolute_percentage_error: 71.3720 - val_loss: 69.5432 - val_mean_absolute_percentage_error: 69.5432\n",
            "Epoch 10/100\n",
            "14/14 [==============================] - 0s 14ms/step - loss: 72.0098 - mean_absolute_percentage_error: 72.0098 - val_loss: 69.3998 - val_mean_absolute_percentage_error: 69.3998\n",
            "Epoch 11/100\n",
            "14/14 [==============================] - 0s 15ms/step - loss: 66.6948 - mean_absolute_percentage_error: 66.6948 - val_loss: 69.4664 - val_mean_absolute_percentage_error: 69.4664\n",
            "Epoch 12/100\n",
            "14/14 [==============================] - 0s 15ms/step - loss: 69.1564 - mean_absolute_percentage_error: 69.1564 - val_loss: 68.6395 - val_mean_absolute_percentage_error: 68.6395\n",
            "Epoch 13/100\n",
            "14/14 [==============================] - 0s 15ms/step - loss: 69.8844 - mean_absolute_percentage_error: 69.8844 - val_loss: 69.1858 - val_mean_absolute_percentage_error: 69.1858\n",
            "Epoch 14/100\n",
            "14/14 [==============================] - 0s 14ms/step - loss: 69.4222 - mean_absolute_percentage_error: 69.4222 - val_loss: 69.7525 - val_mean_absolute_percentage_error: 69.7525\n",
            "Epoch 15/100\n",
            "14/14 [==============================] - 0s 14ms/step - loss: 70.3097 - mean_absolute_percentage_error: 70.3097 - val_loss: 69.1385 - val_mean_absolute_percentage_error: 69.1385\n",
            "Epoch 16/100\n",
            "14/14 [==============================] - 0s 15ms/step - loss: 68.6886 - mean_absolute_percentage_error: 68.6886 - val_loss: 68.8755 - val_mean_absolute_percentage_error: 68.8755\n",
            "Epoch 17/100\n",
            "14/14 [==============================] - 0s 14ms/step - loss: 70.2635 - mean_absolute_percentage_error: 70.2635 - val_loss: 69.2640 - val_mean_absolute_percentage_error: 69.2640\n",
            "Epoch 18/100\n",
            "14/14 [==============================] - 0s 14ms/step - loss: 69.5629 - mean_absolute_percentage_error: 69.5629 - val_loss: 69.0405 - val_mean_absolute_percentage_error: 69.0405\n",
            "Epoch 19/100\n",
            "14/14 [==============================] - 0s 15ms/step - loss: 70.7434 - mean_absolute_percentage_error: 70.7434 - val_loss: 69.4399 - val_mean_absolute_percentage_error: 69.4399\n",
            "Epoch 20/100\n",
            "14/14 [==============================] - 0s 22ms/step - loss: 72.6591 - mean_absolute_percentage_error: 72.6591 - val_loss: 68.9264 - val_mean_absolute_percentage_error: 68.9264\n",
            "Epoch 21/100\n",
            "14/14 [==============================] - 0s 14ms/step - loss: 70.7092 - mean_absolute_percentage_error: 70.7092 - val_loss: 68.2387 - val_mean_absolute_percentage_error: 68.2387\n",
            "Epoch 22/100\n",
            "14/14 [==============================] - 0s 14ms/step - loss: 72.4251 - mean_absolute_percentage_error: 72.4251 - val_loss: 69.0586 - val_mean_absolute_percentage_error: 69.0586\n",
            "Epoch 23/100\n",
            "14/14 [==============================] - 0s 14ms/step - loss: 70.2952 - mean_absolute_percentage_error: 70.2952 - val_loss: 69.2281 - val_mean_absolute_percentage_error: 69.2281\n",
            "Epoch 24/100\n",
            "14/14 [==============================] - 0s 14ms/step - loss: 70.8151 - mean_absolute_percentage_error: 70.8151 - val_loss: 68.9002 - val_mean_absolute_percentage_error: 68.9002\n",
            "Epoch 25/100\n",
            "14/14 [==============================] - 0s 14ms/step - loss: 68.8269 - mean_absolute_percentage_error: 68.8269 - val_loss: 67.9606 - val_mean_absolute_percentage_error: 67.9606\n",
            "Epoch 26/100\n",
            "14/14 [==============================] - 0s 14ms/step - loss: 70.4105 - mean_absolute_percentage_error: 70.4105 - val_loss: 69.9355 - val_mean_absolute_percentage_error: 69.9355\n",
            "Epoch 27/100\n",
            "14/14 [==============================] - 0s 14ms/step - loss: 71.0155 - mean_absolute_percentage_error: 71.0155 - val_loss: 70.2896 - val_mean_absolute_percentage_error: 70.2896\n",
            "Epoch 28/100\n",
            "14/14 [==============================] - 0s 15ms/step - loss: 69.7791 - mean_absolute_percentage_error: 69.7791 - val_loss: 69.2087 - val_mean_absolute_percentage_error: 69.2087\n",
            "Epoch 29/100\n",
            "14/14 [==============================] - 0s 14ms/step - loss: 69.4936 - mean_absolute_percentage_error: 69.4936 - val_loss: 68.9123 - val_mean_absolute_percentage_error: 68.9123\n",
            "Epoch 30/100\n",
            "14/14 [==============================] - 0s 15ms/step - loss: 69.8712 - mean_absolute_percentage_error: 69.8712 - val_loss: 69.3006 - val_mean_absolute_percentage_error: 69.3006\n",
            "Epoch 31/100\n",
            "14/14 [==============================] - 0s 14ms/step - loss: 71.6459 - mean_absolute_percentage_error: 71.6459 - val_loss: 69.4092 - val_mean_absolute_percentage_error: 69.4092\n",
            "Epoch 32/100\n",
            "14/14 [==============================] - 0s 15ms/step - loss: 69.8193 - mean_absolute_percentage_error: 69.8193 - val_loss: 68.9370 - val_mean_absolute_percentage_error: 68.9370\n",
            "Epoch 33/100\n",
            "14/14 [==============================] - 0s 15ms/step - loss: 70.7941 - mean_absolute_percentage_error: 70.7941 - val_loss: 68.9697 - val_mean_absolute_percentage_error: 68.9697\n",
            "Epoch 34/100\n",
            "14/14 [==============================] - 0s 14ms/step - loss: 69.9430 - mean_absolute_percentage_error: 69.9430 - val_loss: 68.5340 - val_mean_absolute_percentage_error: 68.5340\n",
            "Epoch 35/100\n",
            "14/14 [==============================] - 0s 14ms/step - loss: 70.9212 - mean_absolute_percentage_error: 70.9212 - val_loss: 69.5137 - val_mean_absolute_percentage_error: 69.5137\n",
            "Epoch 36/100\n",
            "14/14 [==============================] - 0s 15ms/step - loss: 70.6237 - mean_absolute_percentage_error: 70.6237 - val_loss: 69.2980 - val_mean_absolute_percentage_error: 69.2980\n",
            "Epoch 37/100\n",
            "14/14 [==============================] - 0s 14ms/step - loss: 69.7794 - mean_absolute_percentage_error: 69.7794 - val_loss: 68.7594 - val_mean_absolute_percentage_error: 68.7594\n",
            "Epoch 38/100\n",
            "14/14 [==============================] - 0s 15ms/step - loss: 69.9689 - mean_absolute_percentage_error: 69.9689 - val_loss: 69.3319 - val_mean_absolute_percentage_error: 69.3319\n",
            "Epoch 39/100\n",
            "14/14 [==============================] - 0s 15ms/step - loss: 69.6962 - mean_absolute_percentage_error: 69.6962 - val_loss: 69.7556 - val_mean_absolute_percentage_error: 69.7556\n",
            "Epoch 40/100\n",
            "14/14 [==============================] - 0s 14ms/step - loss: 72.2076 - mean_absolute_percentage_error: 72.2076 - val_loss: 68.7055 - val_mean_absolute_percentage_error: 68.7055\n",
            "Epoch 41/100\n",
            "14/14 [==============================] - 0s 15ms/step - loss: 70.8727 - mean_absolute_percentage_error: 70.8727 - val_loss: 71.0375 - val_mean_absolute_percentage_error: 71.0375\n",
            "Epoch 42/100\n",
            "14/14 [==============================] - 0s 15ms/step - loss: 70.3322 - mean_absolute_percentage_error: 70.3322 - val_loss: 68.8348 - val_mean_absolute_percentage_error: 68.8348\n",
            "Epoch 43/100\n",
            "14/14 [==============================] - 0s 14ms/step - loss: 71.2829 - mean_absolute_percentage_error: 71.2829 - val_loss: 68.2933 - val_mean_absolute_percentage_error: 68.2933\n",
            "Epoch 44/100\n",
            "14/14 [==============================] - 0s 14ms/step - loss: 67.2534 - mean_absolute_percentage_error: 67.2534 - val_loss: 68.4947 - val_mean_absolute_percentage_error: 68.4947\n",
            "Epoch 45/100\n",
            "14/14 [==============================] - 0s 14ms/step - loss: 71.6427 - mean_absolute_percentage_error: 71.6427 - val_loss: 70.1384 - val_mean_absolute_percentage_error: 70.1384\n",
            "Epoch 46/100\n",
            "14/14 [==============================] - 0s 14ms/step - loss: 70.9250 - mean_absolute_percentage_error: 70.9250 - val_loss: 69.2460 - val_mean_absolute_percentage_error: 69.2460\n",
            "Epoch 47/100\n",
            "14/14 [==============================] - 0s 14ms/step - loss: 69.3259 - mean_absolute_percentage_error: 69.3259 - val_loss: 68.6143 - val_mean_absolute_percentage_error: 68.6143\n",
            "Epoch 48/100\n",
            "14/14 [==============================] - 0s 15ms/step - loss: 69.6862 - mean_absolute_percentage_error: 69.6862 - val_loss: 69.5892 - val_mean_absolute_percentage_error: 69.5892\n",
            "Epoch 49/100\n",
            "14/14 [==============================] - 0s 14ms/step - loss: 70.4832 - mean_absolute_percentage_error: 70.4832 - val_loss: 69.6842 - val_mean_absolute_percentage_error: 69.6842\n",
            "Epoch 50/100\n",
            "14/14 [==============================] - 0s 15ms/step - loss: 68.7792 - mean_absolute_percentage_error: 68.7792 - val_loss: 70.1023 - val_mean_absolute_percentage_error: 70.1023\n",
            "Epoch 51/100\n",
            "14/14 [==============================] - 0s 14ms/step - loss: 68.3195 - mean_absolute_percentage_error: 68.3195 - val_loss: 69.8913 - val_mean_absolute_percentage_error: 69.8913\n",
            "Epoch 52/100\n",
            "14/14 [==============================] - 0s 15ms/step - loss: 71.1613 - mean_absolute_percentage_error: 71.1613 - val_loss: 69.3454 - val_mean_absolute_percentage_error: 69.3454\n",
            "Epoch 53/100\n",
            "14/14 [==============================] - 0s 15ms/step - loss: 69.1768 - mean_absolute_percentage_error: 69.1768 - val_loss: 68.1177 - val_mean_absolute_percentage_error: 68.1177\n",
            "Epoch 54/100\n",
            "14/14 [==============================] - 0s 15ms/step - loss: 69.4877 - mean_absolute_percentage_error: 69.4877 - val_loss: 69.3225 - val_mean_absolute_percentage_error: 69.3225\n",
            "Epoch 55/100\n",
            "14/14 [==============================] - 0s 14ms/step - loss: 75.4301 - mean_absolute_percentage_error: 75.4301 - val_loss: 69.5801 - val_mean_absolute_percentage_error: 69.5801\n",
            "Epoch 56/100\n",
            "14/14 [==============================] - 0s 15ms/step - loss: 70.1321 - mean_absolute_percentage_error: 70.1321 - val_loss: 69.0637 - val_mean_absolute_percentage_error: 69.0637\n",
            "Epoch 57/100\n",
            "14/14 [==============================] - 0s 15ms/step - loss: 70.7630 - mean_absolute_percentage_error: 70.7630 - val_loss: 69.1889 - val_mean_absolute_percentage_error: 69.1889\n",
            "Epoch 58/100\n",
            "14/14 [==============================] - 0s 14ms/step - loss: 72.6377 - mean_absolute_percentage_error: 72.6377 - val_loss: 68.8550 - val_mean_absolute_percentage_error: 68.8550\n",
            "Epoch 59/100\n",
            "14/14 [==============================] - 0s 14ms/step - loss: 71.1838 - mean_absolute_percentage_error: 71.1838 - val_loss: 69.1790 - val_mean_absolute_percentage_error: 69.1790\n",
            "Epoch 60/100\n",
            "14/14 [==============================] - 0s 14ms/step - loss: 71.8481 - mean_absolute_percentage_error: 71.8481 - val_loss: 69.4785 - val_mean_absolute_percentage_error: 69.4785\n",
            "Epoch 61/100\n",
            "14/14 [==============================] - 0s 15ms/step - loss: 72.3266 - mean_absolute_percentage_error: 72.3266 - val_loss: 68.8416 - val_mean_absolute_percentage_error: 68.8416\n",
            "Epoch 62/100\n",
            "14/14 [==============================] - 0s 15ms/step - loss: 71.7245 - mean_absolute_percentage_error: 71.7245 - val_loss: 69.6923 - val_mean_absolute_percentage_error: 69.6923\n",
            "Epoch 63/100\n",
            "14/14 [==============================] - 0s 15ms/step - loss: 70.6001 - mean_absolute_percentage_error: 70.6001 - val_loss: 69.1135 - val_mean_absolute_percentage_error: 69.1135\n",
            "Epoch 64/100\n",
            "14/14 [==============================] - 0s 21ms/step - loss: 69.6878 - mean_absolute_percentage_error: 69.6878 - val_loss: 69.6196 - val_mean_absolute_percentage_error: 69.6196\n",
            "Epoch 65/100\n",
            "14/14 [==============================] - 0s 14ms/step - loss: 68.3379 - mean_absolute_percentage_error: 68.3379 - val_loss: 68.8730 - val_mean_absolute_percentage_error: 68.8730\n",
            "Epoch 66/100\n",
            "14/14 [==============================] - 0s 14ms/step - loss: 69.0115 - mean_absolute_percentage_error: 69.0115 - val_loss: 68.5083 - val_mean_absolute_percentage_error: 68.5083\n",
            "Epoch 67/100\n",
            "14/14 [==============================] - 0s 15ms/step - loss: 71.1050 - mean_absolute_percentage_error: 71.1050 - val_loss: 69.7792 - val_mean_absolute_percentage_error: 69.7792\n",
            "Epoch 68/100\n",
            "14/14 [==============================] - 0s 15ms/step - loss: 71.1452 - mean_absolute_percentage_error: 71.1452 - val_loss: 69.9213 - val_mean_absolute_percentage_error: 69.9213\n",
            "Epoch 69/100\n",
            "14/14 [==============================] - 0s 14ms/step - loss: 69.6473 - mean_absolute_percentage_error: 69.6473 - val_loss: 69.8606 - val_mean_absolute_percentage_error: 69.8606\n",
            "Epoch 70/100\n",
            "14/14 [==============================] - 0s 14ms/step - loss: 73.4242 - mean_absolute_percentage_error: 73.4242 - val_loss: 70.5268 - val_mean_absolute_percentage_error: 70.5268\n",
            "Epoch 71/100\n",
            "14/14 [==============================] - 0s 14ms/step - loss: 70.4647 - mean_absolute_percentage_error: 70.4647 - val_loss: 70.1774 - val_mean_absolute_percentage_error: 70.1774\n",
            "Epoch 72/100\n",
            "14/14 [==============================] - 0s 15ms/step - loss: 68.7187 - mean_absolute_percentage_error: 68.7187 - val_loss: 69.5152 - val_mean_absolute_percentage_error: 69.5152\n",
            "Epoch 73/100\n",
            "14/14 [==============================] - 0s 14ms/step - loss: 69.5974 - mean_absolute_percentage_error: 69.5974 - val_loss: 68.3319 - val_mean_absolute_percentage_error: 68.3319\n",
            "Epoch 74/100\n",
            "14/14 [==============================] - 0s 14ms/step - loss: 71.8260 - mean_absolute_percentage_error: 71.8260 - val_loss: 69.1491 - val_mean_absolute_percentage_error: 69.1491\n",
            "Epoch 75/100\n",
            "14/14 [==============================] - 0s 15ms/step - loss: 70.2555 - mean_absolute_percentage_error: 70.2555 - val_loss: 69.4152 - val_mean_absolute_percentage_error: 69.4152\n",
            "Epoch 76/100\n",
            "14/14 [==============================] - 0s 14ms/step - loss: 73.2977 - mean_absolute_percentage_error: 73.2977 - val_loss: 67.9899 - val_mean_absolute_percentage_error: 67.9899\n",
            "Epoch 77/100\n",
            "14/14 [==============================] - 0s 15ms/step - loss: 70.1079 - mean_absolute_percentage_error: 70.1079 - val_loss: 69.3803 - val_mean_absolute_percentage_error: 69.3803\n",
            "Epoch 78/100\n",
            "14/14 [==============================] - 0s 15ms/step - loss: 69.5682 - mean_absolute_percentage_error: 69.5682 - val_loss: 69.0836 - val_mean_absolute_percentage_error: 69.0836\n",
            "Epoch 79/100\n",
            "14/14 [==============================] - 0s 14ms/step - loss: 70.6654 - mean_absolute_percentage_error: 70.6654 - val_loss: 69.9135 - val_mean_absolute_percentage_error: 69.9135\n",
            "Epoch 80/100\n",
            "14/14 [==============================] - 0s 15ms/step - loss: 69.8577 - mean_absolute_percentage_error: 69.8577 - val_loss: 69.3900 - val_mean_absolute_percentage_error: 69.3900\n",
            "Epoch 81/100\n",
            "14/14 [==============================] - 0s 14ms/step - loss: 70.5562 - mean_absolute_percentage_error: 70.5562 - val_loss: 69.6229 - val_mean_absolute_percentage_error: 69.6229\n",
            "Epoch 82/100\n",
            "14/14 [==============================] - 0s 14ms/step - loss: 70.1052 - mean_absolute_percentage_error: 70.1052 - val_loss: 69.5912 - val_mean_absolute_percentage_error: 69.5912\n",
            "Epoch 83/100\n",
            "14/14 [==============================] - 0s 14ms/step - loss: 71.4674 - mean_absolute_percentage_error: 71.4674 - val_loss: 69.0940 - val_mean_absolute_percentage_error: 69.0940\n",
            "Epoch 84/100\n",
            "14/14 [==============================] - 0s 14ms/step - loss: 71.2273 - mean_absolute_percentage_error: 71.2273 - val_loss: 68.7846 - val_mean_absolute_percentage_error: 68.7846\n",
            "Epoch 85/100\n",
            "14/14 [==============================] - 0s 14ms/step - loss: 71.6413 - mean_absolute_percentage_error: 71.6413 - val_loss: 68.9052 - val_mean_absolute_percentage_error: 68.9052\n",
            "Epoch 86/100\n",
            "14/14 [==============================] - 0s 14ms/step - loss: 70.8603 - mean_absolute_percentage_error: 70.8603 - val_loss: 68.9845 - val_mean_absolute_percentage_error: 68.9845\n",
            "Epoch 87/100\n",
            "14/14 [==============================] - 0s 14ms/step - loss: 72.1469 - mean_absolute_percentage_error: 72.1469 - val_loss: 68.6989 - val_mean_absolute_percentage_error: 68.6989\n",
            "Epoch 88/100\n",
            "14/14 [==============================] - 0s 14ms/step - loss: 68.8775 - mean_absolute_percentage_error: 68.8775 - val_loss: 69.4073 - val_mean_absolute_percentage_error: 69.4073\n",
            "Epoch 89/100\n",
            "14/14 [==============================] - 0s 14ms/step - loss: 71.5027 - mean_absolute_percentage_error: 71.5027 - val_loss: 70.2690 - val_mean_absolute_percentage_error: 70.2690\n",
            "Epoch 90/100\n",
            "14/14 [==============================] - 0s 14ms/step - loss: 71.0137 - mean_absolute_percentage_error: 71.0137 - val_loss: 67.9910 - val_mean_absolute_percentage_error: 67.9910\n",
            "Epoch 91/100\n",
            "14/14 [==============================] - 0s 15ms/step - loss: 70.2821 - mean_absolute_percentage_error: 70.2821 - val_loss: 69.5947 - val_mean_absolute_percentage_error: 69.5947\n",
            "Epoch 92/100\n",
            "14/14 [==============================] - 0s 15ms/step - loss: 72.6759 - mean_absolute_percentage_error: 72.6759 - val_loss: 70.1716 - val_mean_absolute_percentage_error: 70.1716\n",
            "Epoch 93/100\n",
            "14/14 [==============================] - 0s 15ms/step - loss: 68.2712 - mean_absolute_percentage_error: 68.2712 - val_loss: 68.0393 - val_mean_absolute_percentage_error: 68.0393\n",
            "Epoch 94/100\n",
            "14/14 [==============================] - 0s 14ms/step - loss: 69.5129 - mean_absolute_percentage_error: 69.5129 - val_loss: 68.0899 - val_mean_absolute_percentage_error: 68.0899\n",
            "Epoch 95/100\n",
            "14/14 [==============================] - 0s 15ms/step - loss: 72.0008 - mean_absolute_percentage_error: 72.0008 - val_loss: 70.6585 - val_mean_absolute_percentage_error: 70.6585\n",
            "Epoch 96/100\n",
            "14/14 [==============================] - 0s 14ms/step - loss: 72.0886 - mean_absolute_percentage_error: 72.0886 - val_loss: 70.4276 - val_mean_absolute_percentage_error: 70.4276\n",
            "Epoch 97/100\n",
            "14/14 [==============================] - 0s 15ms/step - loss: 70.7705 - mean_absolute_percentage_error: 70.7705 - val_loss: 68.7563 - val_mean_absolute_percentage_error: 68.7563\n",
            "Epoch 98/100\n",
            "14/14 [==============================] - 0s 15ms/step - loss: 69.0209 - mean_absolute_percentage_error: 69.0209 - val_loss: 70.0096 - val_mean_absolute_percentage_error: 70.0096\n",
            "Epoch 99/100\n",
            "14/14 [==============================] - 0s 15ms/step - loss: 68.3183 - mean_absolute_percentage_error: 68.3183 - val_loss: 69.4386 - val_mean_absolute_percentage_error: 69.4386\n",
            "Epoch 100/100\n",
            "14/14 [==============================] - 0s 15ms/step - loss: 70.4708 - mean_absolute_percentage_error: 70.4708 - val_loss: 69.0645 - val_mean_absolute_percentage_error: 69.0645\n"
          ],
          "name": "stdout"
        }
      ]
    },
    {
      "cell_type": "code",
      "metadata": {
        "colab": {
          "base_uri": "https://localhost:8080/"
        },
        "id": "F34FfpPRUbHn",
        "outputId": "411fff91-da07-4516-d7d1-c28001997ea2"
      },
      "source": [
        "import tensorflow as tf\n",
        "tf.compat.v1.logging.set_verbosity(tf.compat.v1.logging.ERROR)\n",
        "from keras.models import Sequential\n",
        "from keras.layers import Dense, Activation,Dropout\n",
        "from keras.utils import np_utils\n",
        "from keras.optimizers import Adam\n",
        "from tensorflow.keras import regularizers\n",
        "from keras.layers import LeakyReLU\n",
        "from keras.layers import Conv2D, MaxPooling2D, Flatten, AveragePooling2D\n",
        "from keras.layers.normalization import BatchNormalization\n",
        "tf.random.set_seed(1234)\n",
        "\n",
        "chanDim = -1\n",
        "model = Sequential()\n",
        "\n",
        "# . . . \n",
        "\n",
        "model.add(Conv2D(8, (2,2), input_shape=(64, 64, 3), padding='same'))\n",
        "\n",
        "model.add(Activation('relu'))\n",
        "\n",
        "model.add(Conv2D(8, (2,2), input_shape=(64, 64, 3), padding='same'))\n",
        "\n",
        "model.add(Activation('relu'))\n",
        "\n",
        "#model.add(Conv2D(8, (2,2), input_shape=(64, 64, 3), padding='same'))\n",
        "\n",
        "#model.add(Activation('relu'))\n",
        "#model.add(BatchNormalization(axis=chanDim))\n",
        "\n",
        "model.add(MaxPooling2D(pool_size=(2,2)))\n",
        "#model.add(AveragePooling2D(pool_size=(2,2)))\n",
        "\n",
        "\n",
        "model.add(Conv2D(16, (2,2), input_shape=(64, 64, 3), padding='same'))\n",
        "\n",
        "model.add(Activation('relu'))\n",
        "\n",
        "model.add(Conv2D(16, (2,2), input_shape=(64, 64, 3), padding='same'))\n",
        "\n",
        "model.add(Activation('relu'))\n",
        "\n",
        "#model.add(Conv2D(16, (2,2), input_shape=(64, 64, 3), padding='same'))\n",
        "\n",
        "#model.add(Activation('relu'))\n",
        "#model.add(BatchNormalization(axis=chanDim))\n",
        "\n",
        "\n",
        "model.add(MaxPooling2D(pool_size=(2,2)))\n",
        "#model.add(AveragePooling2D(pool_size=(2,2)))\n",
        "\n",
        "model.add(Conv2D(32, (2,2), input_shape=(64, 64, 3), padding='same'))\n",
        "\n",
        "model.add(Activation('relu'))\n",
        "\n",
        "#model.add(Conv2D(32, (2,2), input_shape=(64, 64, 3), padding='same'))\n",
        "\n",
        "#model.add(Activation('relu'))\n",
        "#model.add(BatchNormalization(axis=chanDim))\n",
        "\n",
        "\n",
        "\n",
        "model.add(MaxPooling2D(pool_size=(2,2)))\n",
        "#model.add(AveragePooling2D(pool_size=(2,2)))\n",
        "\n",
        "model.add(Conv2D(32, (2,2), input_shape=(64, 64, 3), padding='same'))\n",
        "\n",
        "model.add(Activation('relu'))\n",
        "#model.add(BatchNormalization(axis=chanDim))\n",
        "\n",
        "\n",
        "\n",
        "model.add(MaxPooling2D(pool_size=(2,2)))\n",
        "\n",
        "\n",
        "model.add(Flatten())\n",
        "#model.add(Dense(512,activation='relu'))\n",
        "#model.add(BatchNormalization(axis=chanDim))\n",
        "#model.add(Dropout(0.2))\n",
        "\n",
        "#model.add(Dense(4,activation='relu'))\n",
        "\n",
        "model.add(Dense(1,activation='linear'))\n",
        "\n",
        "\n",
        "\n",
        "\n",
        "\n",
        "# . . . \n",
        "\n",
        "model.summary()\n",
        "opt = Adam(lr=1e-3, decay=1e-3 / 200)\n",
        "model.compile(loss=\"mean_absolute_percentage_error\", optimizer=opt, metrics=['mean_absolute_percentage_error'])\n",
        "\n",
        "# train the model\n",
        "print(\"[INFO] training model...\")\n",
        "history=model.fit(X_train, Y_train, validation_data=(X_val, Y_val), epochs=100, batch_size=32)"
      ],
      "execution_count": null,
      "outputs": [
        {
          "output_type": "stream",
          "text": [
            "Model: \"sequential_2\"\n",
            "_________________________________________________________________\n",
            "Layer (type)                 Output Shape              Param #   \n",
            "=================================================================\n",
            "conv2d_6 (Conv2D)            (None, 64, 64, 8)         104       \n",
            "_________________________________________________________________\n",
            "activation_6 (Activation)    (None, 64, 64, 8)         0         \n",
            "_________________________________________________________________\n",
            "conv2d_7 (Conv2D)            (None, 64, 64, 8)         264       \n",
            "_________________________________________________________________\n",
            "activation_7 (Activation)    (None, 64, 64, 8)         0         \n",
            "_________________________________________________________________\n",
            "max_pooling2d_6 (MaxPooling2 (None, 32, 32, 8)         0         \n",
            "_________________________________________________________________\n",
            "conv2d_8 (Conv2D)            (None, 32, 32, 16)        528       \n",
            "_________________________________________________________________\n",
            "activation_8 (Activation)    (None, 32, 32, 16)        0         \n",
            "_________________________________________________________________\n",
            "conv2d_9 (Conv2D)            (None, 32, 32, 16)        1040      \n",
            "_________________________________________________________________\n",
            "activation_9 (Activation)    (None, 32, 32, 16)        0         \n",
            "_________________________________________________________________\n",
            "max_pooling2d_7 (MaxPooling2 (None, 16, 16, 16)        0         \n",
            "_________________________________________________________________\n",
            "conv2d_10 (Conv2D)           (None, 16, 16, 32)        2080      \n",
            "_________________________________________________________________\n",
            "activation_10 (Activation)   (None, 16, 16, 32)        0         \n",
            "_________________________________________________________________\n",
            "max_pooling2d_8 (MaxPooling2 (None, 8, 8, 32)          0         \n",
            "_________________________________________________________________\n",
            "conv2d_11 (Conv2D)           (None, 8, 8, 32)          4128      \n",
            "_________________________________________________________________\n",
            "activation_11 (Activation)   (None, 8, 8, 32)          0         \n",
            "_________________________________________________________________\n",
            "max_pooling2d_9 (MaxPooling2 (None, 4, 4, 32)          0         \n",
            "_________________________________________________________________\n",
            "flatten_2 (Flatten)          (None, 512)               0         \n",
            "_________________________________________________________________\n",
            "dense_4 (Dense)              (None, 1)                 513       \n",
            "=================================================================\n",
            "Total params: 8,657\n",
            "Trainable params: 8,657\n",
            "Non-trainable params: 0\n",
            "_________________________________________________________________\n",
            "[INFO] training model...\n",
            "Epoch 1/100\n",
            "14/14 [==============================] - 1s 32ms/step - loss: 182.7049 - mean_absolute_percentage_error: 182.7049 - val_loss: 69.8947 - val_mean_absolute_percentage_error: 69.8947\n",
            "Epoch 2/100\n",
            "14/14 [==============================] - 0s 8ms/step - loss: 69.8242 - mean_absolute_percentage_error: 69.8242 - val_loss: 63.5273 - val_mean_absolute_percentage_error: 63.5273\n",
            "Epoch 3/100\n",
            "14/14 [==============================] - 0s 8ms/step - loss: 67.7339 - mean_absolute_percentage_error: 67.7339 - val_loss: 62.5044 - val_mean_absolute_percentage_error: 62.5044\n",
            "Epoch 4/100\n",
            "14/14 [==============================] - 0s 9ms/step - loss: 68.3596 - mean_absolute_percentage_error: 68.3596 - val_loss: 62.9723 - val_mean_absolute_percentage_error: 62.9723\n",
            "Epoch 5/100\n",
            "14/14 [==============================] - 0s 8ms/step - loss: 63.9712 - mean_absolute_percentage_error: 63.9712 - val_loss: 60.1530 - val_mean_absolute_percentage_error: 60.1530\n",
            "Epoch 6/100\n",
            "14/14 [==============================] - 0s 8ms/step - loss: 62.3705 - mean_absolute_percentage_error: 62.3705 - val_loss: 57.7698 - val_mean_absolute_percentage_error: 57.7698\n",
            "Epoch 7/100\n",
            "14/14 [==============================] - 0s 8ms/step - loss: 57.2417 - mean_absolute_percentage_error: 57.2417 - val_loss: 57.5723 - val_mean_absolute_percentage_error: 57.5723\n",
            "Epoch 8/100\n",
            "14/14 [==============================] - 0s 8ms/step - loss: 57.5609 - mean_absolute_percentage_error: 57.5609 - val_loss: 58.4192 - val_mean_absolute_percentage_error: 58.4192\n",
            "Epoch 9/100\n",
            "14/14 [==============================] - 0s 8ms/step - loss: 62.9803 - mean_absolute_percentage_error: 62.9803 - val_loss: 56.3055 - val_mean_absolute_percentage_error: 56.3055\n",
            "Epoch 10/100\n",
            "14/14 [==============================] - 0s 8ms/step - loss: 54.7485 - mean_absolute_percentage_error: 54.7485 - val_loss: 53.8438 - val_mean_absolute_percentage_error: 53.8438\n",
            "Epoch 11/100\n",
            "14/14 [==============================] - 0s 8ms/step - loss: 56.4568 - mean_absolute_percentage_error: 56.4568 - val_loss: 54.9210 - val_mean_absolute_percentage_error: 54.9210\n",
            "Epoch 12/100\n",
            "14/14 [==============================] - 0s 8ms/step - loss: 56.5138 - mean_absolute_percentage_error: 56.5138 - val_loss: 53.8609 - val_mean_absolute_percentage_error: 53.8609\n",
            "Epoch 13/100\n",
            "14/14 [==============================] - 0s 8ms/step - loss: 52.5524 - mean_absolute_percentage_error: 52.5524 - val_loss: 52.9768 - val_mean_absolute_percentage_error: 52.9768\n",
            "Epoch 14/100\n",
            "14/14 [==============================] - 0s 8ms/step - loss: 51.1497 - mean_absolute_percentage_error: 51.1497 - val_loss: 52.7139 - val_mean_absolute_percentage_error: 52.7139\n",
            "Epoch 15/100\n",
            "14/14 [==============================] - 0s 8ms/step - loss: 48.1163 - mean_absolute_percentage_error: 48.1163 - val_loss: 52.9782 - val_mean_absolute_percentage_error: 52.9782\n",
            "Epoch 16/100\n",
            "14/14 [==============================] - 0s 8ms/step - loss: 51.4715 - mean_absolute_percentage_error: 51.4715 - val_loss: 52.1878 - val_mean_absolute_percentage_error: 52.1878\n",
            "Epoch 17/100\n",
            "14/14 [==============================] - 0s 8ms/step - loss: 49.1427 - mean_absolute_percentage_error: 49.1427 - val_loss: 53.9194 - val_mean_absolute_percentage_error: 53.9194\n",
            "Epoch 18/100\n",
            "14/14 [==============================] - 0s 8ms/step - loss: 55.1343 - mean_absolute_percentage_error: 55.1343 - val_loss: 57.1139 - val_mean_absolute_percentage_error: 57.1139\n",
            "Epoch 19/100\n",
            "14/14 [==============================] - 0s 8ms/step - loss: 56.4769 - mean_absolute_percentage_error: 56.4769 - val_loss: 57.6051 - val_mean_absolute_percentage_error: 57.6051\n",
            "Epoch 20/100\n",
            "14/14 [==============================] - 0s 8ms/step - loss: 58.8328 - mean_absolute_percentage_error: 58.8328 - val_loss: 52.5835 - val_mean_absolute_percentage_error: 52.5835\n",
            "Epoch 21/100\n",
            "14/14 [==============================] - 0s 8ms/step - loss: 53.8553 - mean_absolute_percentage_error: 53.8553 - val_loss: 49.7651 - val_mean_absolute_percentage_error: 49.7651\n",
            "Epoch 22/100\n",
            "14/14 [==============================] - 0s 8ms/step - loss: 47.6581 - mean_absolute_percentage_error: 47.6581 - val_loss: 50.5881 - val_mean_absolute_percentage_error: 50.5881\n",
            "Epoch 23/100\n",
            "14/14 [==============================] - 0s 9ms/step - loss: 45.4857 - mean_absolute_percentage_error: 45.4857 - val_loss: 52.5726 - val_mean_absolute_percentage_error: 52.5726\n",
            "Epoch 24/100\n",
            "14/14 [==============================] - 0s 8ms/step - loss: 48.5253 - mean_absolute_percentage_error: 48.5253 - val_loss: 51.0695 - val_mean_absolute_percentage_error: 51.0695\n",
            "Epoch 25/100\n",
            "14/14 [==============================] - 0s 8ms/step - loss: 47.6588 - mean_absolute_percentage_error: 47.6588 - val_loss: 50.1492 - val_mean_absolute_percentage_error: 50.1492\n",
            "Epoch 26/100\n",
            "14/14 [==============================] - 0s 8ms/step - loss: 43.8423 - mean_absolute_percentage_error: 43.8423 - val_loss: 50.0652 - val_mean_absolute_percentage_error: 50.0652\n",
            "Epoch 27/100\n",
            "14/14 [==============================] - 0s 8ms/step - loss: 46.3545 - mean_absolute_percentage_error: 46.3545 - val_loss: 53.6497 - val_mean_absolute_percentage_error: 53.6497\n",
            "Epoch 28/100\n",
            "14/14 [==============================] - 0s 8ms/step - loss: 47.9258 - mean_absolute_percentage_error: 47.9258 - val_loss: 48.9402 - val_mean_absolute_percentage_error: 48.9402\n",
            "Epoch 29/100\n",
            "14/14 [==============================] - 0s 8ms/step - loss: 42.8196 - mean_absolute_percentage_error: 42.8196 - val_loss: 47.0530 - val_mean_absolute_percentage_error: 47.0530\n",
            "Epoch 30/100\n",
            "14/14 [==============================] - 0s 8ms/step - loss: 40.1177 - mean_absolute_percentage_error: 40.1177 - val_loss: 47.4670 - val_mean_absolute_percentage_error: 47.4670\n",
            "Epoch 31/100\n",
            "14/14 [==============================] - 0s 8ms/step - loss: 42.7490 - mean_absolute_percentage_error: 42.7490 - val_loss: 50.7082 - val_mean_absolute_percentage_error: 50.7082\n",
            "Epoch 32/100\n",
            "14/14 [==============================] - 0s 9ms/step - loss: 47.9231 - mean_absolute_percentage_error: 47.9231 - val_loss: 52.3366 - val_mean_absolute_percentage_error: 52.3366\n",
            "Epoch 33/100\n",
            "14/14 [==============================] - 0s 8ms/step - loss: 44.6436 - mean_absolute_percentage_error: 44.6436 - val_loss: 52.5049 - val_mean_absolute_percentage_error: 52.5049\n",
            "Epoch 34/100\n",
            "14/14 [==============================] - 0s 8ms/step - loss: 43.7004 - mean_absolute_percentage_error: 43.7004 - val_loss: 51.5049 - val_mean_absolute_percentage_error: 51.5049\n",
            "Epoch 35/100\n",
            "14/14 [==============================] - 0s 8ms/step - loss: 42.2055 - mean_absolute_percentage_error: 42.2055 - val_loss: 53.9480 - val_mean_absolute_percentage_error: 53.9480\n",
            "Epoch 36/100\n",
            "14/14 [==============================] - 0s 8ms/step - loss: 43.8867 - mean_absolute_percentage_error: 43.8867 - val_loss: 49.8494 - val_mean_absolute_percentage_error: 49.8494\n",
            "Epoch 37/100\n",
            "14/14 [==============================] - 0s 8ms/step - loss: 41.3853 - mean_absolute_percentage_error: 41.3853 - val_loss: 51.5304 - val_mean_absolute_percentage_error: 51.5304\n",
            "Epoch 38/100\n",
            "14/14 [==============================] - 0s 8ms/step - loss: 39.8982 - mean_absolute_percentage_error: 39.8982 - val_loss: 48.9953 - val_mean_absolute_percentage_error: 48.9953\n",
            "Epoch 39/100\n",
            "14/14 [==============================] - 0s 8ms/step - loss: 38.5649 - mean_absolute_percentage_error: 38.5649 - val_loss: 50.4406 - val_mean_absolute_percentage_error: 50.4406\n",
            "Epoch 40/100\n",
            "14/14 [==============================] - 0s 9ms/step - loss: 36.6530 - mean_absolute_percentage_error: 36.6530 - val_loss: 47.0234 - val_mean_absolute_percentage_error: 47.0234\n",
            "Epoch 41/100\n",
            "14/14 [==============================] - 0s 8ms/step - loss: 37.0693 - mean_absolute_percentage_error: 37.0693 - val_loss: 49.8321 - val_mean_absolute_percentage_error: 49.8321\n",
            "Epoch 42/100\n",
            "14/14 [==============================] - 0s 8ms/step - loss: 37.7889 - mean_absolute_percentage_error: 37.7889 - val_loss: 48.3112 - val_mean_absolute_percentage_error: 48.3112\n",
            "Epoch 43/100\n",
            "14/14 [==============================] - 0s 8ms/step - loss: 37.1983 - mean_absolute_percentage_error: 37.1983 - val_loss: 51.9869 - val_mean_absolute_percentage_error: 51.9869\n",
            "Epoch 44/100\n",
            "14/14 [==============================] - 0s 8ms/step - loss: 35.2063 - mean_absolute_percentage_error: 35.2063 - val_loss: 48.1481 - val_mean_absolute_percentage_error: 48.1481\n",
            "Epoch 45/100\n",
            "14/14 [==============================] - 0s 8ms/step - loss: 33.1154 - mean_absolute_percentage_error: 33.1154 - val_loss: 47.6782 - val_mean_absolute_percentage_error: 47.6782\n",
            "Epoch 46/100\n",
            "14/14 [==============================] - 0s 8ms/step - loss: 36.7180 - mean_absolute_percentage_error: 36.7180 - val_loss: 47.8117 - val_mean_absolute_percentage_error: 47.8117\n",
            "Epoch 47/100\n",
            "14/14 [==============================] - 0s 9ms/step - loss: 36.1802 - mean_absolute_percentage_error: 36.1802 - val_loss: 52.5788 - val_mean_absolute_percentage_error: 52.5788\n",
            "Epoch 48/100\n",
            "14/14 [==============================] - 0s 8ms/step - loss: 33.1549 - mean_absolute_percentage_error: 33.1549 - val_loss: 50.5256 - val_mean_absolute_percentage_error: 50.5256\n",
            "Epoch 49/100\n",
            "14/14 [==============================] - 0s 8ms/step - loss: 36.7758 - mean_absolute_percentage_error: 36.7758 - val_loss: 49.0935 - val_mean_absolute_percentage_error: 49.0935\n",
            "Epoch 50/100\n",
            "14/14 [==============================] - 0s 8ms/step - loss: 37.0973 - mean_absolute_percentage_error: 37.0973 - val_loss: 48.2196 - val_mean_absolute_percentage_error: 48.2196\n",
            "Epoch 51/100\n",
            "14/14 [==============================] - 0s 8ms/step - loss: 37.8394 - mean_absolute_percentage_error: 37.8394 - val_loss: 48.6769 - val_mean_absolute_percentage_error: 48.6769\n",
            "Epoch 52/100\n",
            "14/14 [==============================] - 0s 8ms/step - loss: 34.4481 - mean_absolute_percentage_error: 34.4481 - val_loss: 49.9631 - val_mean_absolute_percentage_error: 49.9631\n",
            "Epoch 53/100\n",
            "14/14 [==============================] - 0s 8ms/step - loss: 33.7714 - mean_absolute_percentage_error: 33.7714 - val_loss: 47.0672 - val_mean_absolute_percentage_error: 47.0672\n",
            "Epoch 54/100\n",
            "14/14 [==============================] - 0s 8ms/step - loss: 31.7065 - mean_absolute_percentage_error: 31.7065 - val_loss: 49.6179 - val_mean_absolute_percentage_error: 49.6179\n",
            "Epoch 55/100\n",
            "14/14 [==============================] - 0s 8ms/step - loss: 34.3331 - mean_absolute_percentage_error: 34.3331 - val_loss: 47.3004 - val_mean_absolute_percentage_error: 47.3004\n",
            "Epoch 56/100\n",
            "14/14 [==============================] - 0s 8ms/step - loss: 32.1372 - mean_absolute_percentage_error: 32.1372 - val_loss: 49.0012 - val_mean_absolute_percentage_error: 49.0012\n",
            "Epoch 57/100\n",
            "14/14 [==============================] - 0s 16ms/step - loss: 32.0746 - mean_absolute_percentage_error: 32.0746 - val_loss: 48.5304 - val_mean_absolute_percentage_error: 48.5304\n",
            "Epoch 58/100\n",
            "14/14 [==============================] - 0s 8ms/step - loss: 31.4520 - mean_absolute_percentage_error: 31.4520 - val_loss: 48.9851 - val_mean_absolute_percentage_error: 48.9851\n",
            "Epoch 59/100\n",
            "14/14 [==============================] - 0s 8ms/step - loss: 32.6393 - mean_absolute_percentage_error: 32.6393 - val_loss: 48.2492 - val_mean_absolute_percentage_error: 48.2492\n",
            "Epoch 60/100\n",
            "14/14 [==============================] - 0s 8ms/step - loss: 30.8775 - mean_absolute_percentage_error: 30.8775 - val_loss: 52.5015 - val_mean_absolute_percentage_error: 52.5015\n",
            "Epoch 61/100\n",
            "14/14 [==============================] - 0s 8ms/step - loss: 33.1675 - mean_absolute_percentage_error: 33.1675 - val_loss: 50.4745 - val_mean_absolute_percentage_error: 50.4745\n",
            "Epoch 62/100\n",
            "14/14 [==============================] - 0s 8ms/step - loss: 30.7816 - mean_absolute_percentage_error: 30.7816 - val_loss: 56.3098 - val_mean_absolute_percentage_error: 56.3098\n",
            "Epoch 63/100\n",
            "14/14 [==============================] - 0s 8ms/step - loss: 40.6166 - mean_absolute_percentage_error: 40.6166 - val_loss: 51.6788 - val_mean_absolute_percentage_error: 51.6788\n",
            "Epoch 64/100\n",
            "14/14 [==============================] - 0s 9ms/step - loss: 34.5285 - mean_absolute_percentage_error: 34.5285 - val_loss: 49.4364 - val_mean_absolute_percentage_error: 49.4364\n",
            "Epoch 65/100\n",
            "14/14 [==============================] - 0s 8ms/step - loss: 31.6491 - mean_absolute_percentage_error: 31.6491 - val_loss: 52.5978 - val_mean_absolute_percentage_error: 52.5978\n",
            "Epoch 66/100\n",
            "14/14 [==============================] - 0s 8ms/step - loss: 29.1355 - mean_absolute_percentage_error: 29.1355 - val_loss: 49.5051 - val_mean_absolute_percentage_error: 49.5051\n",
            "Epoch 67/100\n",
            "14/14 [==============================] - 0s 8ms/step - loss: 32.7543 - mean_absolute_percentage_error: 32.7543 - val_loss: 46.0432 - val_mean_absolute_percentage_error: 46.0432\n",
            "Epoch 68/100\n",
            "14/14 [==============================] - 0s 8ms/step - loss: 34.3018 - mean_absolute_percentage_error: 34.3018 - val_loss: 48.0352 - val_mean_absolute_percentage_error: 48.0352\n",
            "Epoch 69/100\n",
            "14/14 [==============================] - 0s 8ms/step - loss: 32.9295 - mean_absolute_percentage_error: 32.9295 - val_loss: 51.2668 - val_mean_absolute_percentage_error: 51.2668\n",
            "Epoch 70/100\n",
            "14/14 [==============================] - 0s 8ms/step - loss: 42.4187 - mean_absolute_percentage_error: 42.4187 - val_loss: 51.2668 - val_mean_absolute_percentage_error: 51.2668\n",
            "Epoch 71/100\n",
            "14/14 [==============================] - 0s 8ms/step - loss: 35.4880 - mean_absolute_percentage_error: 35.4880 - val_loss: 49.0892 - val_mean_absolute_percentage_error: 49.0892\n",
            "Epoch 72/100\n",
            "14/14 [==============================] - 0s 9ms/step - loss: 37.4506 - mean_absolute_percentage_error: 37.4506 - val_loss: 49.8594 - val_mean_absolute_percentage_error: 49.8594\n",
            "Epoch 73/100\n",
            "14/14 [==============================] - 0s 8ms/step - loss: 32.8594 - mean_absolute_percentage_error: 32.8594 - val_loss: 49.0467 - val_mean_absolute_percentage_error: 49.0467\n",
            "Epoch 74/100\n",
            "14/14 [==============================] - 0s 9ms/step - loss: 32.3545 - mean_absolute_percentage_error: 32.3545 - val_loss: 52.8427 - val_mean_absolute_percentage_error: 52.8427\n",
            "Epoch 75/100\n",
            "14/14 [==============================] - 0s 9ms/step - loss: 32.7645 - mean_absolute_percentage_error: 32.7645 - val_loss: 47.8931 - val_mean_absolute_percentage_error: 47.8931\n",
            "Epoch 76/100\n",
            "14/14 [==============================] - 0s 8ms/step - loss: 32.2257 - mean_absolute_percentage_error: 32.2257 - val_loss: 50.1669 - val_mean_absolute_percentage_error: 50.1669\n",
            "Epoch 77/100\n",
            "14/14 [==============================] - 0s 8ms/step - loss: 32.2773 - mean_absolute_percentage_error: 32.2773 - val_loss: 52.2166 - val_mean_absolute_percentage_error: 52.2166\n",
            "Epoch 78/100\n",
            "14/14 [==============================] - 0s 8ms/step - loss: 28.7297 - mean_absolute_percentage_error: 28.7297 - val_loss: 51.3723 - val_mean_absolute_percentage_error: 51.3723\n",
            "Epoch 79/100\n",
            "14/14 [==============================] - 0s 8ms/step - loss: 32.5627 - mean_absolute_percentage_error: 32.5627 - val_loss: 52.9353 - val_mean_absolute_percentage_error: 52.9353\n",
            "Epoch 80/100\n",
            "14/14 [==============================] - 0s 9ms/step - loss: 31.1485 - mean_absolute_percentage_error: 31.1485 - val_loss: 49.9652 - val_mean_absolute_percentage_error: 49.9652\n",
            "Epoch 81/100\n",
            "14/14 [==============================] - 0s 8ms/step - loss: 34.0395 - mean_absolute_percentage_error: 34.0395 - val_loss: 54.3230 - val_mean_absolute_percentage_error: 54.3230\n",
            "Epoch 82/100\n",
            "14/14 [==============================] - 0s 8ms/step - loss: 28.4333 - mean_absolute_percentage_error: 28.4333 - val_loss: 57.3185 - val_mean_absolute_percentage_error: 57.3185\n",
            "Epoch 83/100\n",
            "14/14 [==============================] - 0s 9ms/step - loss: 31.6515 - mean_absolute_percentage_error: 31.6515 - val_loss: 58.2782 - val_mean_absolute_percentage_error: 58.2782\n",
            "Epoch 84/100\n",
            "14/14 [==============================] - 0s 8ms/step - loss: 31.1319 - mean_absolute_percentage_error: 31.1319 - val_loss: 49.8376 - val_mean_absolute_percentage_error: 49.8376\n",
            "Epoch 85/100\n",
            "14/14 [==============================] - 0s 9ms/step - loss: 29.0580 - mean_absolute_percentage_error: 29.0580 - val_loss: 50.4900 - val_mean_absolute_percentage_error: 50.4900\n",
            "Epoch 86/100\n",
            "14/14 [==============================] - 0s 8ms/step - loss: 30.7285 - mean_absolute_percentage_error: 30.7285 - val_loss: 57.0549 - val_mean_absolute_percentage_error: 57.0549\n",
            "Epoch 87/100\n",
            "14/14 [==============================] - 0s 9ms/step - loss: 29.3100 - mean_absolute_percentage_error: 29.3100 - val_loss: 49.5285 - val_mean_absolute_percentage_error: 49.5285\n",
            "Epoch 88/100\n",
            "14/14 [==============================] - 0s 8ms/step - loss: 28.7973 - mean_absolute_percentage_error: 28.7973 - val_loss: 50.0189 - val_mean_absolute_percentage_error: 50.0189\n",
            "Epoch 89/100\n",
            "14/14 [==============================] - 0s 9ms/step - loss: 31.5330 - mean_absolute_percentage_error: 31.5330 - val_loss: 52.0412 - val_mean_absolute_percentage_error: 52.0412\n",
            "Epoch 90/100\n",
            "14/14 [==============================] - 0s 8ms/step - loss: 27.7719 - mean_absolute_percentage_error: 27.7719 - val_loss: 53.4592 - val_mean_absolute_percentage_error: 53.4592\n",
            "Epoch 91/100\n",
            "14/14 [==============================] - 0s 8ms/step - loss: 26.5749 - mean_absolute_percentage_error: 26.5749 - val_loss: 49.0230 - val_mean_absolute_percentage_error: 49.0230\n",
            "Epoch 92/100\n",
            "14/14 [==============================] - 0s 8ms/step - loss: 30.1235 - mean_absolute_percentage_error: 30.1235 - val_loss: 55.4498 - val_mean_absolute_percentage_error: 55.4498\n",
            "Epoch 93/100\n",
            "14/14 [==============================] - 0s 8ms/step - loss: 25.2211 - mean_absolute_percentage_error: 25.2211 - val_loss: 51.1612 - val_mean_absolute_percentage_error: 51.1612\n",
            "Epoch 94/100\n",
            "14/14 [==============================] - 0s 9ms/step - loss: 27.3442 - mean_absolute_percentage_error: 27.3442 - val_loss: 58.2583 - val_mean_absolute_percentage_error: 58.2583\n",
            "Epoch 95/100\n",
            "14/14 [==============================] - 0s 8ms/step - loss: 32.3912 - mean_absolute_percentage_error: 32.3912 - val_loss: 52.5744 - val_mean_absolute_percentage_error: 52.5744\n",
            "Epoch 96/100\n",
            "14/14 [==============================] - 0s 8ms/step - loss: 29.2384 - mean_absolute_percentage_error: 29.2384 - val_loss: 49.9530 - val_mean_absolute_percentage_error: 49.9530\n",
            "Epoch 97/100\n",
            "14/14 [==============================] - 0s 9ms/step - loss: 26.3636 - mean_absolute_percentage_error: 26.3636 - val_loss: 59.0288 - val_mean_absolute_percentage_error: 59.0288\n",
            "Epoch 98/100\n",
            "14/14 [==============================] - 0s 8ms/step - loss: 28.7728 - mean_absolute_percentage_error: 28.7728 - val_loss: 59.3642 - val_mean_absolute_percentage_error: 59.3642\n",
            "Epoch 99/100\n",
            "14/14 [==============================] - 0s 9ms/step - loss: 30.3560 - mean_absolute_percentage_error: 30.3560 - val_loss: 51.6391 - val_mean_absolute_percentage_error: 51.6391\n",
            "Epoch 100/100\n",
            "14/14 [==============================] - 0s 8ms/step - loss: 29.7604 - mean_absolute_percentage_error: 29.7604 - val_loss: 50.3998 - val_mean_absolute_percentage_error: 50.3998\n"
          ],
          "name": "stdout"
        }
      ]
    },
    {
      "cell_type": "code",
      "metadata": {
        "id": "BViRUJuTVER_"
      },
      "source": [
        "train_wider=history.history['loss']\n",
        "test_wider=history.history['val_loss']\n",
        "#shallow"
      ],
      "execution_count": null,
      "outputs": []
    },
    {
      "cell_type": "code",
      "metadata": {
        "id": "fgqkdE--Z-iG"
      },
      "source": [
        "train_FC=history.history['loss']\n",
        "test_FC=history.history['val_loss']\n",
        "#fully_connect_layer"
      ],
      "execution_count": null,
      "outputs": []
    },
    {
      "cell_type": "code",
      "metadata": {
        "id": "5v1SbWjuJX4P"
      },
      "source": [
        "w=100\n",
        "#train_good=[0 for x in range(w)]\n",
        "train_good=history.history['loss']\n",
        "test_good=history.history['val_loss']"
      ],
      "execution_count": null,
      "outputs": []
    },
    {
      "cell_type": "markdown",
      "metadata": {
        "id": "JyXrXBFVQ-tL"
      },
      "source": [
        "The metric used in this problem to evaluate the performance is the same we used for training the model, the mean absolute percentage error. Mean absolute percentage error is defined as $\\frac{100}{n} \\sum_n \\frac{|\\hat{y} - y|}{|y|}$ where $y$ is the ground-truth, $\\hat{y}$ is the estimation of the model and `n` the number of elements in the set we are evaluating."
      ]
    },
    {
      "cell_type": "code",
      "metadata": {
        "colab": {
          "base_uri": "https://localhost:8080/",
          "height": 295
        },
        "id": "DilCVBqGIYWK",
        "outputId": "9470e630-5f05-4f5f-f779-4c544ee75c3b"
      },
      "source": [
        "### plot immediately\n",
        "plt.plot(history.history['loss'])\n",
        "#plt.plot(train_good)\n",
        "plt.plot(history.history['val_loss'])\n",
        "#plt.plot(test_good)\n",
        "\n",
        "plt.title('model train vs test loss')\n",
        "plt.ylabel('loss')\n",
        "plt.xlabel('epoch')\n",
        "plt.legend(['train', 'test'], loc='upper right')\n",
        "plt.ylim((0.0,200.0))\n",
        "#plt.show()\n",
        "plt.savefig('/content/sample_data/loss_good.jpg')"
      ],
      "execution_count": null,
      "outputs": [
        {
          "output_type": "display_data",
          "data": {
            "image/png": "[encoded data removed]",
            "text/plain": [
              "<Figure size 432x288 with 1 Axes>"
            ]
          },
          "metadata": {
            "tags": []
          }
        }
      ]
    },
    {
      "cell_type": "code",
      "metadata": {
        "colab": {
          "base_uri": "https://localhost:8080/",
          "height": 295
        },
        "id": "MatahETDMJW7",
        "outputId": "ae1f05d1-d931-4a95-f10e-48955f22ea1b"
      },
      "source": [
        "plt.plot(train_good)\n",
        "plt.plot(train_FC,'y:')\n",
        "plt.plot(train_wider,'g--')\n",
        "plt.plot(test_good)\n",
        "plt.plot(test_FC,'c:')\n",
        "plt.plot(test_wider,'r--')\n",
        "plt.title('model train vs test loss')\n",
        "plt.ylabel('loss')\n",
        "plt.xlabel('epoch')\n",
        "plt.legend(['train_deeper','train_complex_FC','train_shallow', 'test_deeper','test_complex_FC','test_shallow'], loc='upper right')\n",
        "plt.ylim((0.0,150.0))\n",
        "\n",
        "plt.savefig('/content/sample_data/loss_compare.jpg')"
      ],
      "execution_count": null,
      "outputs": [
        {
          "output_type": "display_data",
          "data": {
            "image/png": "[encoded data removed]",
            "text/plain": [
              "<Figure size 432x288 with 1 Axes>"
            ]
          },
          "metadata": {
            "tags": []
          }
        }
      ]
    },
    {
      "cell_type": "code",
      "metadata": {
        "colab": {
          "base_uri": "https://localhost:8080/"
        },
        "id": "u2u2qQh90C3K",
        "outputId": "f8292dd9-6abf-4e9f-b2dd-d6274c98689e"
      },
      "source": [
        "prices_predicted = model.predict(X_val).flatten()\n",
        "diff = ((prices_predicted - Y_val) / Y_val) * 100\n",
        "error_mean = np.mean(np.abs(diff))\n",
        "\n",
        "print(\"Predicting house prices - Estimation Error: {:.2f}%\".format(error_mean))"
      ],
      "execution_count": null,
      "outputs": [
        {
          "output_type": "stream",
          "text": [
            "Predicting house prices - Estimation Error: 76.45%\n"
          ],
          "name": "stdout"
        }
      ]
    },
    {
      "cell_type": "code",
      "metadata": {
        "id": "aLLAb7NQrymR"
      },
      "source": [
        "#frontal loss: 59.4864 - mean_absolute_percentage_error: 59.4864 - val_loss: 53.6987 - val_mean_absolute_percentage_error: 53.6987\n",
        "#kitchen loss: 45.1600 - mean_absolute_percentage_error: 43.0451 - val_loss: 59.0978 - val_mean_absolute_percentage_error: 62.5577\n",
        "#bedroom loss: 47.3783 - mean_absolute_percentage_error: 47.3783 - val_loss: 53.8438 - val_mean_absolute_percentage_error: 53.8438\n",
        "#bathroom loss: 57.9031 - mean_absolute_percentage_error: 57.9031 - val_loss: 69.2568 - val_mean_absolute_percentage_error: 69.2568"
      ],
      "execution_count": null,
      "outputs": []
    },
    {
      "cell_type": "code",
      "metadata": {
        "id": "lm3sHhJ-Zp9Y",
        "colab": {
          "base_uri": "https://localhost:8080/",
          "height": 134
        },
        "outputId": "0b15e15d-16c1-4302-d8ef-3930c456be32"
      },
      "source": [
        "import numpy as np\n",
        "def softmax(x, temperature=0.025): \n",
        "    \"\"\"Compute softmax values for each sets of scores in x.\"\"\"\n",
        "    x = (x - np.expand_dims(np.max(x, 1), 1))\n",
        "    x = x/temperature    \n",
        "    e_x = np.exp(x)\n",
        "    return e_x / (np.expand_dims(e_x.sum(1), -1) + 1e-5)\n",
        "\n",
        "a=[[0.001,0.0022],[0.3,0.00004]]\n",
        "y=softmax(a)\n",
        "print(y)"
      ],
      "execution_count": null,
      "outputs": [
        {
          "output_type": "error",
          "ename": "SyntaxError",
          "evalue": "ignored",
          "traceback": [
            "\u001b[0;36m  File \u001b[0;32m\"<ipython-input-8-0c749541fa39>\"\u001b[0;36m, line \u001b[0;32m9\u001b[0m\n\u001b[0;31m    a=[[0.001,0.0022];[0.3,0.00004]]\u001b[0m\n\u001b[0m                     ^\u001b[0m\n\u001b[0;31mSyntaxError\u001b[0m\u001b[0;31m:\u001b[0m invalid syntax\n"
          ]
        }
      ]
    },
    {
      "cell_type": "markdown",
      "metadata": {
        "id": "n2uJs6-xG6lD"
      },
      "source": [
        "**Report**:\n",
        "\n",
        "\n",
        "*   Propose a CNN architecture that has an estimation error in the validation set below 75%. \n",
        "*   Present a figure showing the training and validation loss vs the number of training iterations for different architectural design choices. Discuss the gap between the training and validation loss depending on the proposed architecture.\n",
        "*   Report a table with results when using any of the other images from the house (kitchen, bedroom, and bathroom)."
      ]
    }
  ]
}