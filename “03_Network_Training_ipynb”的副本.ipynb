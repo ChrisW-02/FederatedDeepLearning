{
  "nbformat": 4,
  "nbformat_minor": 0,
  "metadata": {
    "colab": {
      "provenance": [],
      "collapsed_sections": [],
      "include_colab_link": true
    },
    "kernelspec": {
      "name": "python3",
      "display_name": "Python 3"
    },
    "accelerator": "GPU"
  },
  "cells": [
    {
      "cell_type": "markdown",
      "metadata": {
        "id": "view-in-github",
        "colab_type": "text"
      },
      "source": [
        "<a href=\"https://colab.research.google.com/github/ChrisW-02/FederatedDeepLearning/blob/main/%E2%80%9C03_Network_Training_ipynb%E2%80%9D%E7%9A%84%E5%89%AF%E6%9C%AC.ipynb\" target=\"_parent\"><img src=\"https://colab.research.google.com/assets/colab-badge.svg\" alt=\"Open In Colab\"/></a>"
      ]
    },
    {
      "cell_type": "markdown",
      "metadata": {
        "id": "91E7ozNTWvS9"
      },
      "source": [
        "# Network Training\n",
        "\n",
        "In this tutorial, we introduce different topics related to the training of deep neural networks, including data augmentation, optimization/regularization techniques, weight initializations and hyperparameters tuning.\n"
      ]
    },
    {
      "cell_type": "markdown",
      "metadata": {
        "id": "hVa-ZTYsXhNT"
      },
      "source": [
        "## Preliminary\n",
        "\n",
        "We load the MNIST dataset and define a model for digit classification by using our own function `get_data_model`. We also define a new function `plot_history`, which plots the training loss and, if required, the validation loss. We will use these functions throughout the tutorial."
      ]
    },
    {
      "cell_type": "code",
      "metadata": {
        "id": "2aGBJBVmXd8b",
        "colab": {
          "base_uri": "https://localhost:8080/"
        },
        "outputId": "8df3c150-073b-4edd-9089-311c4bfbc139"
      },
      "source": [
        "import numpy as np\n",
        "import keras \n",
        "from keras.models import Sequential\n",
        "from keras.layers import Dense\n",
        "from keras.utils import np_utils, to_categorical\n",
        "import matplotlib.pyplot as plt\n",
        "from keras.datasets import mnist\n",
        "import tensorflow as tf\n",
        "\n",
        "def plot_history(history, metric = None):\n",
        "  # Plots the loss history of training and validation (if existing)\n",
        "  # and a given metric\n",
        "  # Be careful because the axis ranges are automatically adapted\n",
        "  # which may not desirable to compare different runs.\n",
        "  # Also, in some cases you may want to combine several curves in one\n",
        "  # figure for easier comparison, which this function does not do.\n",
        "  \n",
        "  if metric != None:\n",
        "    fig, axes = plt.subplots(2,1)\n",
        "    axes[0].plot(history.history[metric])\n",
        "    try:\n",
        "      axes[0].plot(history.history['val_'+metric])\n",
        "      axes[0].legend(['Train', 'Val'])\n",
        "    except:\n",
        "      pass\n",
        "    axes[0].set_title('{:s}'.format(metric))\n",
        "    axes[0].set_ylabel('{:s}'.format(metric))\n",
        "    axes[0].set_xlabel('Epoch')\n",
        "    fig.subplots_adjust(hspace=0.5)\n",
        "    axes[1].plot(history.history['loss'])\n",
        "    try:\n",
        "      axes[1].plot(history.history['val_loss'])\n",
        "      axes[1].legend(['Train', 'Val'])\n",
        "    except:\n",
        "      pass\n",
        "    axes[1].set_title('Model Loss')\n",
        "    axes[1].set_ylabel('Loss')\n",
        "    axes[1].set_xlabel('Epoch')\n",
        "  else:\n",
        "    plt.plot(history.history['loss'])\n",
        "    try:\n",
        "      plt.plot(history.history['val_loss'])\n",
        "      plt.legend(['Train', 'Val'])\n",
        "    except:\n",
        "      pass\n",
        "    plt.title('Model Loss')\n",
        "    plt.ylabel('Loss')\n",
        "    plt.xlabel('Epoch')\n",
        "  \n",
        "def get_data_model(args = {}):\n",
        "  # Returns simple model, flattened MNIST data and categorical labels\n",
        "  num_classes=10\n",
        "  \n",
        "  # the data, shuffled and split between train and test sets\n",
        "  (x_train, y_train), (x_test, y_test) = mnist.load_data()\n",
        "  x_train = x_train.reshape(x_train.shape[0], x_train.shape[1] * x_train.shape[2])\n",
        "  x_test = x_test.reshape(x_test.shape[0], x_test.shape[1] * x_test.shape[2])\n",
        "\n",
        "  x_train= x_train.astype('float32')\n",
        "  x_test= x_test.astype('float32')\n",
        "\n",
        "  x_train /= 255\n",
        "  x_test /= 255\n",
        "\n",
        "  y_train=to_categorical(y_train,num_classes)\n",
        "  y_test=to_categorical(y_test,num_classes)\n",
        "\n",
        "  # Load a simple non-convolutional model\n",
        "  model = Sequential()\n",
        "  model.add(Dense(512, activation='relu', input_shape=(784,), **args))\n",
        "  model.add(Dense(512, activation='relu', **args))\n",
        "  model.add(Dense(10, activation='softmax', **args))\n",
        "  return model, x_train, y_train, x_test, y_test\n",
        "\n",
        "model, x_train, y_train, x_test, y_test = get_data_model()\n",
        "model.summary()\n"
      ],
      "execution_count": null,
      "outputs": [
        {
          "output_type": "stream",
          "text": [
            "Downloading data from https://storage.googleapis.com/tensorflow/tf-keras-datasets/mnist.npz\n",
            "11493376/11490434 [==============================] - 0s 0us/step\n",
            "Model: \"sequential\"\n",
            "_________________________________________________________________\n",
            "Layer (type)                 Output Shape              Param #   \n",
            "=================================================================\n",
            "dense (Dense)                (None, 512)               401920    \n",
            "_________________________________________________________________\n",
            "dense_1 (Dense)              (None, 512)               262656    \n",
            "_________________________________________________________________\n",
            "dense_2 (Dense)              (None, 10)                5130      \n",
            "=================================================================\n",
            "Total params: 669,706\n",
            "Trainable params: 669,706\n",
            "Non-trainable params: 0\n",
            "_________________________________________________________________\n"
          ],
          "name": "stdout"
        }
      ]
    },
    {
      "cell_type": "markdown",
      "metadata": {
        "id": "mRx68ymWLCT7"
      },
      "source": [
        "## Optimizers\n",
        "\n",
        "In a deep learning problem, the weights of a network are updated to minimize the loss in each optimization step. Optimizers define the specific method used to update in each timestep the weights of the network. For example, the vanilla Stochastic Gradient Descent (SGD) only uses the gradient of the weight with respect to the loss in the current timestep $t$, along with the learning rate, to update the weights. However, other optimizers use more sophisticate methods (e.g., keeping track of past gradient updates to use as momentum) to compute the weights' updates.\n",
        "\n",
        "Since there are optimizers more prone to get stuck in local minima, the choice of the optimizer can potentially affect both the final performance and the speed of convergence.  A nice visualization of such behavior is the following animation, where you can notice some methods, i.e., Adadelta (yellow), and Rmsprop (black) converge significantly faster than SGD (red), which gets stuck in a local minimum. \n",
        "\n",
        "![](http://ruder.io/content/images/2016/09/saddle_point_evaluation_optimizers.gif)\n",
        "\n",
        "The animation above is from [Sebastian Ruder's blog](http://ruder.io/optimizing-gradient-descent/), who wrote an interesting article showing the formulation and properties of the different optimizers. We are not going to analyze the properties of the different optimizers, but you can read the blog post if you are interested in how optimizers work. As a rule of thumb, Adam is usually easier to tune due to the adaptive learning rate, whereas SGD with momentum [has been shown](https://arxiv.org/pdf/1712.07628.pdf) to reach better results when tuned correctly.\n",
        "\n",
        "In this tutorial, we will follow a hands-on approach and will mainly focus on how to use them in Keras. The official documentation [Optimizers in Keras](https://keras.io/optimizers/) lists all the available optimizers. The optimizer we use is passed as an argument to the `compile` function after we build our model. An easy way to do so is passing the optimizer in the form of a string, which will use the default parameters.  For example, in the next piece of code we use Adam with the default Keras parameters as our optimizer."
      ]
    },
    {
      "cell_type": "code",
      "metadata": {
        "id": "9od5lUWMWu5X",
        "colab": {
          "base_uri": "https://localhost:8080/"
        },
        "outputId": "8c5aa985-191d-4332-bb16-ce37977bd061"
      },
      "source": [
        "model, x_train, y_train, x_test, y_test = get_data_model()\n",
        "model.compile(optimizer='adam',loss='categorical_crossentropy')\n",
        "model.fit(x_train,y_train,batch_size=100, epochs=10, verbose=1,validation_data=(x_test,y_test))"
      ],
      "execution_count": null,
      "outputs": [
        {
          "output_type": "stream",
          "text": [
            "Epoch 1/10\n",
            "600/600 [==============================] - 3s 3ms/step - loss: 0.3797 - val_loss: 0.1008\n",
            "Epoch 2/10\n",
            "600/600 [==============================] - 1s 2ms/step - loss: 0.0767 - val_loss: 0.0736\n",
            "Epoch 3/10\n",
            "600/600 [==============================] - 1s 2ms/step - loss: 0.0461 - val_loss: 0.0722\n",
            "Epoch 4/10\n",
            "600/600 [==============================] - 1s 2ms/step - loss: 0.0325 - val_loss: 0.0796\n",
            "Epoch 5/10\n",
            "600/600 [==============================] - 1s 2ms/step - loss: 0.0253 - val_loss: 0.0677\n",
            "Epoch 6/10\n",
            "600/600 [==============================] - 1s 2ms/step - loss: 0.0220 - val_loss: 0.0776\n",
            "Epoch 7/10\n",
            "600/600 [==============================] - 1s 2ms/step - loss: 0.0185 - val_loss: 0.0760\n",
            "Epoch 8/10\n",
            "600/600 [==============================] - 1s 2ms/step - loss: 0.0141 - val_loss: 0.0735\n",
            "Epoch 9/10\n",
            "600/600 [==============================] - 1s 2ms/step - loss: 0.0142 - val_loss: 0.0755\n",
            "Epoch 10/10\n",
            "600/600 [==============================] - 1s 2ms/step - loss: 0.0152 - val_loss: 0.0725\n"
          ],
          "name": "stdout"
        },
        {
          "output_type": "execute_result",
          "data": {
            "text/plain": [
              "<tensorflow.python.keras.callbacks.History at 0x7f3f324d49e8>"
            ]
          },
          "metadata": {
            "tags": []
          },
          "execution_count": 2
        }
      ]
    },
    {
      "cell_type": "markdown",
      "metadata": {
        "id": "hGIIvNFPRZI3"
      },
      "source": [
        "However, it is quite usual to change some of the parameters of the optimizer, such as the learning rate, which controls the update rate of the weights, depending on the problem we are trying to solve. To do so in Keras, instead of passing a string to the `compile` function, we can pass an object with our optimizer with custom parameters. For example, in the following code, we use Adam optimizer with a different learning rate."
      ]
    },
    {
      "cell_type": "code",
      "metadata": {
        "id": "QCMtC0nERXhi",
        "colab": {
          "base_uri": "https://localhost:8080/"
        },
        "outputId": "60b5ab6e-f923-4d40-d7c1-6ad85c90b9c8"
      },
      "source": [
        "from keras.optimizers import Adam\n",
        "opt = Adam(lr=3e-4)\n",
        "model, x_train, y_train, x_test, y_test = get_data_model()\n",
        "model.compile(loss='categorical_crossentropy', optimizer=opt)\n",
        "model.fit(x_train,y_train,batch_size=100, epochs=10, verbose=1,validation_data=(x_test,y_test))"
      ],
      "execution_count": null,
      "outputs": [
        {
          "output_type": "stream",
          "text": [
            "Epoch 1/10\n",
            "600/600 [==============================] - 2s 2ms/step - loss: 0.5662 - val_loss: 0.1335\n",
            "Epoch 2/10\n",
            "600/600 [==============================] - 1s 2ms/step - loss: 0.1172 - val_loss: 0.1016\n",
            "Epoch 3/10\n",
            "600/600 [==============================] - 1s 2ms/step - loss: 0.0770 - val_loss: 0.0838\n",
            "Epoch 4/10\n",
            "600/600 [==============================] - 1s 2ms/step - loss: 0.0518 - val_loss: 0.0703\n",
            "Epoch 5/10\n",
            "600/600 [==============================] - 1s 2ms/step - loss: 0.0350 - val_loss: 0.0739\n",
            "Epoch 6/10\n",
            "600/600 [==============================] - 1s 2ms/step - loss: 0.0272 - val_loss: 0.0769\n",
            "Epoch 7/10\n",
            "600/600 [==============================] - 1s 2ms/step - loss: 0.0193 - val_loss: 0.0703\n",
            "Epoch 8/10\n",
            "600/600 [==============================] - 1s 2ms/step - loss: 0.0152 - val_loss: 0.0742\n",
            "Epoch 9/10\n",
            "600/600 [==============================] - 1s 2ms/step - loss: 0.0105 - val_loss: 0.0684\n",
            "Epoch 10/10\n",
            "600/600 [==============================] - 1s 2ms/step - loss: 0.0089 - val_loss: 0.0703\n"
          ],
          "name": "stdout"
        },
        {
          "output_type": "execute_result",
          "data": {
            "text/plain": [
              "<tensorflow.python.keras.callbacks.History at 0x7f3ed22146d8>"
            ]
          },
          "metadata": {
            "tags": []
          },
          "execution_count": 3
        }
      ]
    },
    {
      "cell_type": "markdown",
      "metadata": {
        "id": "-yDSecajTyc6"
      },
      "source": [
        "## Initializers\n",
        "\n",
        "\n",
        "Neural Networks have a large number of weights that need to be initialized properly. Weight initialization is a crucial step in tuning neural networks as different initial values can lead the model to reach different local minima. If your initial weights are too small, the network may have problems learning due to small/vanishing gradients. However, if they are too large, you may run into exploding gradients or you could saturate an activation in the network (e.g. a sigmoid). Hence, we need a proper initialization with not too large nor not too small weights. In [this link](https://www.deeplearning.ai/ai-notes/initialization/) you can find an explanation of the importance of weight initialization.  The weights are usually randomly initialized by different algorithms, e.g. Xavier, He_normal or LeCun, all of them theoretically motivated to have specific properties following different assumptions.\n",
        "\n",
        "In Keras, you can set the particular initialization strategy you want to use as an argument when declaring a layer. The available initialization methods in Keras are listed [here](https://keras.io/api/layers/initializers/).  The initializers are passed to the layers via the arguments `kernel_initializer` and `bias_initializer`. For instance, in the function `Dense()`, which defines the mapping $y= Ax + b$, you can initialize the kernel values ($A$ in the equation) with a normal distribution (by default the `stddev` is 0.05) and the bias ($b$ in the equation) with $0$ using the code below."
      ]
    },
    {
      "cell_type": "code",
      "metadata": {
        "id": "A6lzySByXcMB"
      },
      "source": [
        "linear_layer = Dense(64, kernel_initializer='random_normal',\n",
        "                bias_initializer='zeros')"
      ],
      "execution_count": null,
      "outputs": []
    },
    {
      "cell_type": "markdown",
      "metadata": {
        "id": "oF_EVmyooqYL"
      },
      "source": [
        "Now let's check the weights of the layers and see if they follow the distributions we set. "
      ]
    },
    {
      "cell_type": "code",
      "metadata": {
        "id": "YgHC0CSmowIK",
        "colab": {
          "base_uri": "https://localhost:8080/"
        },
        "outputId": "d3fd5417-ae29-4bf4-d660-5b39f5a4476e"
      },
      "source": [
        "from keras.layers import Input\n",
        "import numpy as np\n",
        "from keras import backend as K\n",
        "input_x = K.variable(np.random.random((1, 64)))\n",
        "y = linear_layer(input_x)\n",
        "weights = linear_layer.get_weights()\n",
        "# Weights return an array with [kernel, bias]\n",
        "# Let's see the kernel weights\n",
        "print(weights[0])"
      ],
      "execution_count": null,
      "outputs": [
        {
          "output_type": "stream",
          "text": [
            "[[-0.05089943  0.04354979  0.00195552 ...  0.04353672 -0.04895469\n",
            "   0.00172264]\n",
            " [ 0.02293559 -0.01924025  0.00730292 ...  0.10533267 -0.00311388\n",
            "  -0.12461647]\n",
            " [ 0.00852507 -0.02962258 -0.01300682 ... -0.16006082  0.06487807\n",
            "  -0.02080085]\n",
            " ...\n",
            " [ 0.01064037  0.00185156 -0.03409615 ...  0.00440259  0.0644574\n",
            "  -0.06922719]\n",
            " [-0.00996474  0.0643058  -0.07382846 ...  0.03907828 -0.01728559\n",
            "  -0.01744987]\n",
            " [-0.01121944  0.03332819 -0.02417843 ...  0.02076796  0.00124941\n",
            "   0.02165109]]\n"
          ],
          "name": "stdout"
        }
      ]
    },
    {
      "cell_type": "code",
      "metadata": {
        "id": "kLDzNuqUp2M8",
        "colab": {
          "base_uri": "https://localhost:8080/"
        },
        "outputId": "4958efa3-78be-4858-ec94-0cb41131130e"
      },
      "source": [
        "# Now let's check that the mean is 0 and stddev is 0.05\n",
        "print(weights[0].mean(), weights[0].std())"
      ],
      "execution_count": null,
      "outputs": [
        {
          "output_type": "stream",
          "text": [
            "-0.0002771609 0.049258575\n"
          ],
          "name": "stdout"
        }
      ]
    },
    {
      "cell_type": "code",
      "metadata": {
        "id": "Uohj6D4rqTfT",
        "colab": {
          "base_uri": "https://localhost:8080/"
        },
        "outputId": "ce94a611-9606-4726-8b74-c26bee5f1d86"
      },
      "source": [
        "# Let's print the bias now\n",
        "print(weights[1])"
      ],
      "execution_count": null,
      "outputs": [
        {
          "output_type": "stream",
          "text": [
            "[0. 0. 0. 0. 0. 0. 0. 0. 0. 0. 0. 0. 0. 0. 0. 0. 0. 0. 0. 0. 0. 0. 0. 0.\n",
            " 0. 0. 0. 0. 0. 0. 0. 0. 0. 0. 0. 0. 0. 0. 0. 0. 0. 0. 0. 0. 0. 0. 0. 0.\n",
            " 0. 0. 0. 0. 0. 0. 0. 0. 0. 0. 0. 0. 0. 0. 0. 0.]\n"
          ],
          "name": "stdout"
        }
      ]
    },
    {
      "cell_type": "markdown",
      "metadata": {
        "id": "69NkDCipqbmg"
      },
      "source": [
        "By default the kernel weights are initialized as `'glorot_uniform'` and the bias to `'zeros'`. Glorot Uniform, which is also called Xavier Uniform initialization, was defined [here](http://proceedings.mlr.press/v9/glorot10a/glorot10a.pdf). The Xavier Uniform initialization samples the weights from a uniform distribution, whose range depends on the number of input and output units. Another initializer quite used is the `he_normal`, which draws the weights from a truncated normal distribution. Usually, the initialization used by default in Keras works quite well and allows the model to train properly."
      ]
    },
    {
      "cell_type": "markdown",
      "metadata": {
        "id": "1-8ittW2L1DI"
      },
      "source": [
        "## Loss\n",
        "\n",
        "Another important step in training deep neural networks is the choice of the loss function, which strictly depends on your problem. The full list of standard losses in Keras is available [here](https://keras.io/losses/). Although in past tutorials we already used some losses, we now introduce two typical losses, cross-entropy and mean squared error, for two standard problems in machine learning: classification and regression."
      ]
    },
    {
      "cell_type": "markdown",
      "metadata": {
        "id": "0T8aSdjCtSSO"
      },
      "source": [
        "### Classification\n",
        "\n",
        "For classification problems, the standard loss used is the cross-entropy loss. For the binary case, the formula is $\\mathcal{L} = y\\log(p) + (1-y)\\log(1-p)$, where $p$ is a probability value between $[0, 1]$.\n",
        "Typically a [Sigmoid activation](https://en.wikipedia.org/wiki/Sigmoid_function) is applied in the binary case to constrain the activations to force the output value to be between $[0, 1]$. In Keras, the presented binary classification loss is called `binary_crossentropy`, and it accepts as target a vector with an element in the range $[0, 1]$ (usually either $0$ or $1$) per input element. We show in the following code an example of binary classification. To do so, we transform MNIST into a binary classification problem by classifying if a number is between 0-4 or 5-9."
      ]
    },
    {
      "cell_type": "code",
      "metadata": {
        "id": "LUQhLNxr5VA7",
        "colab": {
          "base_uri": "https://localhost:8080/",
          "height": 295
        },
        "outputId": "2bba5ba4-5c19-4c62-9290-67f42837edd5"
      },
      "source": [
        "model, x_train, y_train, x_test, y_test = get_data_model()\n",
        "model.pop()\n",
        "model.add(Dense(1, activation='sigmoid'))\n",
        "\n",
        "# This three lines transform the problem in a binary one\n",
        "# We want to know if the number is bigger than 5 (label 1) or smaller (label 0)\n",
        "y_train = np.argmax(y_train, axis = 1)\n",
        "y_train[y_train < 5] = 0\n",
        "y_train[y_train >= 5] = 1\n",
        "\n",
        "\n",
        "model.compile(optimizer='adam',loss='binary_crossentropy', metrics=['binary_accuracy'])\n",
        "history = model.fit(x_train, y_train, epochs=3, batch_size=32,  validation_split=0.2, verbose = 0)\n",
        "plot_history(history, 'binary_accuracy')"
      ],
      "execution_count": null,
      "outputs": [
        {
          "output_type": "display_data",
          "data": {
            "image/png": "[encoded data removed]",
            "text/plain": [
              "<Figure size 432x288 with 2 Axes>"
            ]
          },
          "metadata": {
            "tags": [],
            "needs_background": "light"
          }
        }
      ]
    },
    {
      "cell_type": "markdown",
      "metadata": {
        "id": "6jvNHqg--XYy"
      },
      "source": [
        "When the number of classes is higher than 2, we use the cross-entropy loss, which is $\\mathcal{L} = -\\sum_i y_i\\log(p_i)$. The loss is called `categorical_crossentropy` in Keras and accepts one-hot encoded vectors. A one-hot encoded vector has dimensionality $C$, where $C$ is the number of classes. All of the elements are set to 0, minus the corresponding class $c$, which is set to 1. If we have a vector of labels with a scalar from $[0, C)$ per training example, we can transform it into a one-hot encoding form by using the function `to_categorical`.  \n",
        "\n",
        "Let's see an example using MNIST data."
      ]
    },
    {
      "cell_type": "code",
      "metadata": {
        "id": "v_YBOLN77S1I",
        "colab": {
          "base_uri": "https://localhost:8080/"
        },
        "outputId": "141f8673-a31b-4b20-8735-31342a9e15bc"
      },
      "source": [
        "(x_train, y_train), (x_test, y_test) = mnist.load_data()\n",
        "# The labels are an scalar from 0 to 9 per example\n",
        "one_hot_vector = keras.utils.to_categorical(y_train[:5])\n",
        "for i in range(5):\n",
        "  print('Label Value: {}. One-hot encoded vector: {}\\n'.format(y_train[i], one_hot_vector[i]))"
      ],
      "execution_count": null,
      "outputs": [
        {
          "output_type": "stream",
          "text": [
            "Label Value: 5. One-hot encoded vector: [0. 0. 0. 0. 0. 1. 0. 0. 0. 0.]\n",
            "\n",
            "Label Value: 0. One-hot encoded vector: [1. 0. 0. 0. 0. 0. 0. 0. 0. 0.]\n",
            "\n",
            "Label Value: 4. One-hot encoded vector: [0. 0. 0. 0. 1. 0. 0. 0. 0. 0.]\n",
            "\n",
            "Label Value: 1. One-hot encoded vector: [0. 1. 0. 0. 0. 0. 0. 0. 0. 0.]\n",
            "\n",
            "Label Value: 9. One-hot encoded vector: [0. 0. 0. 0. 0. 0. 0. 0. 0. 1.]\n",
            "\n"
          ],
          "name": "stdout"
        }
      ]
    },
    {
      "cell_type": "markdown",
      "metadata": {
        "id": "OR_lJgB6CfFd"
      },
      "source": [
        "The input for the cross-entropy needs to be a probability distribution, meaning that the sum of the elements should be $\\sum_i p_i = 1$. To make the output vector of our model add up to 1, we use the [Softmax activation](https://en.wikipedia.org/wiki/Softmax_function)  function as shown in the following code cell."
      ]
    },
    {
      "cell_type": "code",
      "metadata": {
        "id": "BVTAPlc_B99R",
        "colab": {
          "base_uri": "https://localhost:8080/",
          "height": 295
        },
        "outputId": "bcb8c88e-eafc-48bf-ea84-48550248a529"
      },
      "source": [
        "# We use the function get_data_model, which already applies to_categorical\n",
        "_, x_train, y_train, x_test, y_test = get_data_model()\n",
        "\n",
        "### Model defined with softmax\n",
        "model = Sequential()\n",
        "model.add(Dense(512, activation='relu', input_shape=(784,)))\n",
        "model.add(Dense(512, activation='relu'))\n",
        "model.add(Dense(10, activation='softmax'))\n",
        "\n",
        "model.compile(optimizer='adam',loss='categorical_crossentropy', metrics=['categorical_accuracy'])\n",
        "history = model.fit(x_train, y_train, epochs=3, batch_size=32,  validation_split=0.2, verbose = 0)\n",
        "plot_history(history, 'categorical_accuracy')"
      ],
      "execution_count": null,
      "outputs": [
        {
          "output_type": "display_data",
          "data": {
            "image/png": "[encoded data removed]",
            "text/plain": [
              "<Figure size 432x288 with 2 Axes>"
            ]
          },
          "metadata": {
            "tags": [],
            "needs_background": "light"
          }
        }
      ]
    },
    {
      "cell_type": "markdown",
      "metadata": {
        "id": "J8VtF7C_UPgf"
      },
      "source": [
        "If you prefer to provide the label as an integer instead of doing the one-hot transformation, you can use the ``sparse_categorical_crossentropy`` loss in Keras."
      ]
    },
    {
      "cell_type": "markdown",
      "metadata": {
        "id": "iFuOCwNftQgH"
      },
      "source": [
        "### Regression\n",
        "In regression problems, it is common to use as losses the Mean Squared Error (MSE) or Mean Absolute Error (MAE). We now show a quick example using the Boston Housing dataset, which contains a set of input features and we aim to predict the price of the house."
      ]
    },
    {
      "cell_type": "code",
      "metadata": {
        "id": "Li20u1NjrwS5",
        "colab": {
          "base_uri": "https://localhost:8080/"
        },
        "outputId": "c7a6eb60-f329-404d-b96f-fc6d413e9348"
      },
      "source": [
        "from keras.datasets import boston_housing\n",
        "\n",
        "(x_train, y_train), (x_test, y_test) = boston_housing.load_data()\n",
        "print(y_train[:10])"
      ],
      "execution_count": null,
      "outputs": [
        {
          "output_type": "stream",
          "text": [
            "Downloading data from https://storage.googleapis.com/tensorflow/tf-keras-datasets/boston_housing.npz\n",
            "57344/57026 [==============================] - 0s 0us/step\n",
            "[15.2 42.3 50.  21.1 17.7 18.5 11.3 15.6 15.6 14.4]\n"
          ],
          "name": "stdout"
        }
      ]
    },
    {
      "cell_type": "markdown",
      "metadata": {
        "id": "0JO5_oiCyPzR"
      },
      "source": [
        "We see that the labels are float numbers (the price of the house), and our goal is to predict those float numbers. To do so, we need a network that has only one output. In the following code cells, we will train a network using either MAE or MSE. First, we use MAE."
      ]
    },
    {
      "cell_type": "code",
      "metadata": {
        "id": "RSJH6_Mfsjp-"
      },
      "source": [
        "model_mae = Sequential()\n",
        "model_mae.add(Dense(100, activation='relu', input_shape=(13,)))\n",
        "model_mae.add(Dense(1))\n",
        "model_mae.compile(optimizer='adam',loss='mean_absolute_error', metrics=['mean_absolute_error', 'mean_squared_error'])\n",
        "history = model_mae.fit(x_train, y_train, epochs=100, batch_size=32,  validation_split=0.2, verbose = 0)"
      ],
      "execution_count": null,
      "outputs": []
    },
    {
      "cell_type": "code",
      "metadata": {
        "id": "J2xZRys8zNsD",
        "colab": {
          "base_uri": "https://localhost:8080/",
          "height": 295
        },
        "outputId": "e2fc19db-8274-4d1d-d76f-41d06a31b594"
      },
      "source": [
        "plot_history(history, 'mean_absolute_error')"
      ],
      "execution_count": null,
      "outputs": [
        {
          "output_type": "display_data",
          "data": {
            "image/png": "[encoded data removed]",
            "text/plain": [
              "<Figure size 432x288 with 2 Axes>"
            ]
          },
          "metadata": {
            "tags": [],
            "needs_background": "light"
          }
        }
      ]
    },
    {
      "cell_type": "markdown",
      "metadata": {
        "id": "TcJ-jplbVA4U"
      },
      "source": [
        "Now we use the MSE loss:"
      ]
    },
    {
      "cell_type": "code",
      "metadata": {
        "id": "2XYKtV1GzMQg"
      },
      "source": [
        "model_mse = Sequential()\n",
        "model_mse.add(Dense(100, activation='relu', input_shape=(13,)))\n",
        "model_mse.add(Dense(1))\n",
        "model_mse.compile(optimizer='adam',loss='mean_squared_error', metrics=['mean_absolute_error', 'mean_squared_error'])\n",
        "history = model_mse.fit(x_train, y_train, epochs=100, batch_size=32,  validation_split=0.2, verbose = 0)"
      ],
      "execution_count": null,
      "outputs": []
    },
    {
      "cell_type": "code",
      "metadata": {
        "id": "SBZB_MDCw1Os",
        "colab": {
          "base_uri": "https://localhost:8080/",
          "height": 295
        },
        "outputId": "da281af0-c228-494f-f894-69976f801029"
      },
      "source": [
        "plot_history(history, 'mean_squared_error')"
      ],
      "execution_count": null,
      "outputs": [
        {
          "output_type": "display_data",
          "data": {
            "image/png": "[encoded data removed]",
            "text/plain": [
              "<Figure size 432x288 with 2 Axes>"
            ]
          },
          "metadata": {
            "tags": [],
            "needs_background": "light"
          }
        }
      ]
    },
    {
      "cell_type": "code",
      "metadata": {
        "id": "aMHRntQU0mrM",
        "colab": {
          "base_uri": "https://localhost:8080/"
        },
        "outputId": "1729654a-75f8-41bf-b091-c342dc8c93bd"
      },
      "source": [
        "results = model_mae.evaluate(x_test, y_test)\n",
        "print('MAE trained model achieves MAE: {:.4f} and MSE: {:.4f}'.format(results[1], results[2]))"
      ],
      "execution_count": null,
      "outputs": [
        {
          "output_type": "stream",
          "text": [
            "4/4 [==============================] - 0s 3ms/step - loss: 4.5336 - mean_absolute_error: 4.5336 - mean_squared_error: 42.7336\n",
            "MAE trained model achieves MAE: 4.5336 and MSE: 42.7336\n"
          ],
          "name": "stdout"
        }
      ]
    },
    {
      "cell_type": "code",
      "metadata": {
        "id": "df2igCnI030F",
        "colab": {
          "base_uri": "https://localhost:8080/"
        },
        "outputId": "5f100c1c-aee7-4081-a61b-5fe7e90e27d0"
      },
      "source": [
        "results = model_mse.evaluate(x_test, y_test)\n",
        "print('MSE trained model achieves MAE: {:.4f} and MSE: {:.4f}'.format(results[1], results[2]))"
      ],
      "execution_count": null,
      "outputs": [
        {
          "output_type": "stream",
          "text": [
            "4/4 [==============================] - 0s 3ms/step - loss: 38.2884 - mean_absolute_error: 4.8626 - mean_squared_error: 38.2884\n",
            "MSE trained model achieves MAE: 4.8626 and MSE: 38.2884\n"
          ],
          "name": "stdout"
        }
      ]
    },
    {
      "cell_type": "markdown",
      "metadata": {
        "id": "hWr2tc7l0IdG"
      },
      "source": [
        "The resulting plots show that training using MSE as loss achieves a better MSE and worse MAE in the test set compared to the model training with MAE loss, which is a sensible result."
      ]
    },
    {
      "cell_type": "markdown",
      "metadata": {
        "id": "z_VeO_-ORHnn"
      },
      "source": [
        "A problem usually treated as a regression problem with deep learning approaches is depth estimation, where the depth of an image is estimated using the RGB information. Some other regression losses are also used in some settings (e.g. Huber loss or Reverse Huber loss, or the already introduced Mean Percentage Absolute Error), but MAE and MSE are widely used. "
      ]
    },
    {
      "cell_type": "markdown",
      "metadata": {
        "id": "miKutjvgtXuS"
      },
      "source": [
        "## Regularization\n",
        "As mentioned in the lecture, regularization is an effective tool to fight some of the problems we may have during training, such as vanishing/exploding gradients or overfitting to the training set. We now mention some of the usual ways to regularize our training process. "
      ]
    },
    {
      "cell_type": "markdown",
      "metadata": {
        "id": "F-VrqhSbWJ9t"
      },
      "source": [
        "### Loss Regularizers\n",
        "\n",
        "[Regularizers](https://keras.io/regularizers/)  put some penalties to the optimization process. In practice, by penalizing large values, weights are constrained to be smaller in magnitude, which reduces the capacity of the model and can help us prevent overfitting.\n",
        "\n",
        "In Keras, regularization works on a per-layer basis. Hence, you can define a regularization function for each layer. You can specify three regularization parameters, each one related to a different type of penalty. If we define the output of a layer as $y=Wx+b$, then:\n",
        "\n",
        "*   `kernel_regularizer`: a penalty applied to the kernel weights. Larger regularization values result in smaller $W$.\n",
        "*   `bias_regularizer`: a penalty applied to the bias of the network. Larger regularization values result in smaller $b$.\n",
        "*   `activity_regularizer`: a penalty applied to the output of the layer. Larger regularization values result in smaller outputs $y=Wx+b$.\n",
        "\n",
        "Standard regularizers that can be applied are $l_1$, $l_2$ and $l_1+l_2$. \n",
        "In the example below, we check the difference in training and validation accuracy by varying the used regularization strategy.\n"
      ]
    },
    {
      "cell_type": "code",
      "metadata": {
        "id": "zv4c80XD_Yzr",
        "colab": {
          "base_uri": "https://localhost:8080/",
          "height": 365
        },
        "outputId": "45602baa-1dd1-4457-c835-edfd631f63ff"
      },
      "source": [
        "from keras import regularizers\n",
        "test_accuracy = []\n",
        "train_accuracy = []\n",
        "reg_values = [0.001, 0.0]\n",
        "\n",
        "for reg_val in reg_values: \n",
        "  print('Training with regularization value of {:f}'.format(reg_val))\n",
        "  args_dict = {'kernel_regularizer': regularizers.l1(reg_val)}\n",
        "  model, x_train, y_train, x_test, y_test = get_data_model(args_dict)\n",
        "  model.compile(optimizer='adam',loss='categorical_crossentropy', metrics=['accuracy'])\n",
        "  history = model.fit(x_train, y_train, epochs=10, batch_size=256, verbose=0)\n",
        "  train_accuracy.append(history.history['accuracy'][-1])\n",
        "  test_accuracy.append(model.evaluate(x_test, y_test)[-1])\n",
        "\n",
        "import matplotlib.pyplot as plt\n",
        "plt.figure()\n",
        "plt.plot(reg_values, train_accuracy)\n",
        "plt.plot(reg_values, test_accuracy)\n",
        "plt.legend(['Training acc.', 'Test acc.'])\n",
        "plt.title('Accuracy vs. Regularization value')\n",
        "plt.ylabel('Accuracy')\n",
        "plt.xlabel('Regularization value')\n",
        "plt.show()"
      ],
      "execution_count": null,
      "outputs": [
        {
          "output_type": "stream",
          "text": [
            "Training with regularization value of 0.001000\n",
            "313/313 [==============================] - 1s 2ms/step - loss: 0.6461 - accuracy: 0.9303\n",
            "Training with regularization value of 0.000000\n",
            "313/313 [==============================] - 1s 2ms/step - loss: 0.0738 - accuracy: 0.9806\n"
          ],
          "name": "stdout"
        },
        {
          "output_type": "display_data",
          "data": {
            "image/png": "[encoded data removed]",
            "text/plain": [
              "<Figure size 432x288 with 1 Axes>"
            ]
          },
          "metadata": {
            "tags": [],
            "needs_background": "light"
          }
        }
      ]
    },
    {
      "cell_type": "markdown",
      "metadata": {
        "id": "liYOHIYT8YlT"
      },
      "source": [
        "In this example, we show how a large regularization value dropped the final test accuracy, and also reduced the gap between training and test accuracy. The reason is that large regularization values put a constraint on the possible weights learnt by the network, which reduces the model capacity. Hence, you need to be careful when using regularization techniques as a large value can actually hurt the performance of the network. "
      ]
    },
    {
      "cell_type": "markdown",
      "metadata": {
        "id": "FJ-J7tWRTQU7"
      },
      "source": [
        "### Dropout\n",
        "\n",
        "Dropout is another regularization technique that can be applied to the network. Dropout is a layer that, during training, randomly deactivates some of the neurons of the model, which restricts the model from relying too much on specific patterns. The dropout value, i.e., the probability of disabling any given feature element, is a parameter set when defining the layer. In the evaluation phase, dropout does not have any effect on the model. The dropout layer implemented on Keras also scales during training the non-zero elements by $1/(1-p_{drop})$ to maintain a similar data magnitude between training and evaluation. \n",
        "\n",
        "We now show an example using a dropout value is 0.3."
      ]
    },
    {
      "cell_type": "code",
      "metadata": {
        "id": "HEqZN0LyTv1F"
      },
      "source": [
        "prob_drop = 0.3\n",
        "drop = keras.layers.Dropout(prob_drop)"
      ],
      "execution_count": null,
      "outputs": []
    },
    {
      "cell_type": "code",
      "metadata": {
        "id": "Pqcb3TWCWe4e",
        "colab": {
          "base_uri": "https://localhost:8080/"
        },
        "outputId": "fc188c74-5229-46ce-c17c-b3935643d8ab"
      },
      "source": [
        "from keras.layers import Dropout\n",
        "import numpy as np\n",
        "from keras import backend as K\n",
        "\n",
        "x = np.random.random((1, 512))\n",
        "input_x = K.variable(x)\n",
        "# Set learning phase is used to manually setting\n",
        "# the phase (0 evaluation, 1 training)\n",
        "# Dropout only affects training, so we set it to 1\n",
        "K.set_learning_phase(True)\n",
        "y = K.eval(drop(input_x))\n",
        "print('Input (10 elements)')\n",
        "print(x[0,0:10])\n",
        "print('Output (10 elements)')\n",
        "print(y[0,0:10])"
      ],
      "execution_count": null,
      "outputs": [
        {
          "output_type": "stream",
          "text": [
            "Input (10 elements)\n",
            "[0.23251229 0.41840792 0.64771062 0.18091352 0.17791903 0.43692847\n",
            " 0.65290574 0.92316996 0.62221078 0.1835678 ]\n",
            "Output (10 elements)\n",
            "[0.         0.59772563 0.9253009  0.         0.         0.\n",
            " 0.93272257 0.         0.88887256 0.26223972]\n"
          ],
          "name": "stdout"
        },
        {
          "output_type": "stream",
          "text": [
            "/usr/local/lib/python3.6/dist-packages/tensorflow/python/keras/backend.py:434: UserWarning: `tf.keras.backend.set_learning_phase` is deprecated and will be removed after 2020-10-11. To update it, simply pass a True/False value to the `training` argument of the `__call__` method of your layer or model.\n",
            "  warnings.warn('`tf.keras.backend.set_learning_phase` is deprecated and '\n"
          ],
          "name": "stderr"
        }
      ]
    },
    {
      "cell_type": "markdown",
      "metadata": {
        "id": "iXhWs8c1Xw3h"
      },
      "source": [
        "We now check what percentage of elements have been set to 0, and what is the scaling value the other elements have."
      ]
    },
    {
      "cell_type": "code",
      "metadata": {
        "id": "8njS0-XRXVsc",
        "colab": {
          "base_uri": "https://localhost:8080/"
        },
        "outputId": "1bd42103-f741-48dd-b7ea-284b5da98d75"
      },
      "source": [
        "print('Drop percentage, should be close to {:f}'.format(prob_drop))\n",
        "print(((y==0).sum())/(1.0*y.shape[1]))\n",
        "\n",
        "print('Scaling value, should be {:f}'.format(1/(1-prob_drop)))\n",
        "print(((y[y!=0]).sum())/(1.0*x[y!=0].sum()))"
      ],
      "execution_count": null,
      "outputs": [
        {
          "output_type": "stream",
          "text": [
            "Drop percentage, should be close to 0.300000\n",
            "0.310546875\n",
            "Scaling value, should be 1.428571\n",
            "1.4285715707992472\n"
          ],
          "name": "stdout"
        }
      ]
    },
    {
      "cell_type": "markdown",
      "metadata": {
        "id": "tZ7pTTajW130"
      },
      "source": [
        "Similarly to any of the past layers we have introduced, we can add a Dropout layer to any model using:"
      ]
    },
    {
      "cell_type": "code",
      "metadata": {
        "id": "r9-0atwnW7tN"
      },
      "source": [
        "from keras.models import Sequential\n",
        "from keras.layers import Dropout\n",
        "model = Sequential()\n",
        "model.add(Dropout(0.3))"
      ],
      "execution_count": null,
      "outputs": []
    },
    {
      "cell_type": "markdown",
      "metadata": {
        "id": "BucSkwhQ_sJ-"
      },
      "source": [
        "Now we show the training curves of a model without dropout and a model with dropout. First, without dropout:"
      ]
    },
    {
      "cell_type": "code",
      "metadata": {
        "colab": {
          "base_uri": "https://localhost:8080/",
          "height": 295
        },
        "id": "0ZRBM9YL9R69",
        "outputId": "470601f7-7e4e-4c97-a5c0-cbf7738f0611"
      },
      "source": [
        "model, x_train, y_train, x_test, y_test = get_data_model()\n",
        "model.compile(optimizer='adam',loss='categorical_crossentropy', metrics=['categorical_accuracy'])\n",
        "history = model.fit(x_train, y_train, epochs=20, batch_size=32, validation_split=0.2, verbose=0)\n",
        "plot_history(history, 'categorical_accuracy')"
      ],
      "execution_count": null,
      "outputs": [
        {
          "output_type": "display_data",
          "data": {
            "image/png": "[encoded data removed]",
            "text/plain": [
              "<Figure size 432x288 with 2 Axes>"
            ]
          },
          "metadata": {
            "tags": [],
            "needs_background": "light"
          }
        }
      ]
    },
    {
      "cell_type": "markdown",
      "metadata": {
        "id": "UbpQAl82_2u9"
      },
      "source": [
        "Now we add Dropout."
      ]
    },
    {
      "cell_type": "code",
      "metadata": {
        "colab": {
          "base_uri": "https://localhost:8080/",
          "height": 295
        },
        "id": "lnJDBvYe899Y",
        "outputId": "dc242098-d258-44fe-8888-5e98de6f71bf"
      },
      "source": [
        "_, x_train, y_train, x_test, y_test = get_data_model()\n",
        "model = Sequential()\n",
        "model.add(Dense(512, activation='relu', input_shape=(784,)))\n",
        "model.add(Dropout(0.3))\n",
        "model.add(Dense(512, activation='relu'))\n",
        "model.add(Dropout(0.3))\n",
        "model.add(Dense(10, activation='softmax'))\n",
        "model.compile(optimizer='adam',loss='categorical_crossentropy', metrics=['categorical_accuracy'])\n",
        "history = model.fit(x_train, y_train, epochs=20, batch_size=32, validation_split=0.2, verbose=0)\n",
        "plot_history(history, 'categorical_accuracy')"
      ],
      "execution_count": null,
      "outputs": [
        {
          "output_type": "display_data",
          "data": {
            "image/png": "[encoded data removed]",
            "text/plain": [
              "<Figure size 432x288 with 2 Axes>"
            ]
          },
          "metadata": {
            "tags": [],
            "needs_background": "light"
          }
        }
      ]
    },
    {
      "cell_type": "markdown",
      "metadata": {
        "id": "f8wXhZPs-N-v"
      },
      "source": [
        "Notice how the validation loss stays closer to the training loss in the model with dropout compared to the original model."
      ]
    },
    {
      "cell_type": "markdown",
      "metadata": {
        "id": "C98HL1rgVACR"
      },
      "source": [
        "### Batch Normalization\n",
        "\n",
        "Batch Normalization normalizes the features by centering them around zero and rescaling them to have variance 1, which leads to faster and more stable training. To do so, batch normalization uses the statistics of the batch. Specifically, a batch normalization layer computes the mean and the standard deviation per channel, i.e. given a feature map of dimensionality $B\\times H\\times W\\times C$ ($B$ is batch size, $H,W$ spatial dimensions and $C$ number of feature channels) the layer computes the mean $\\mu$ and standard deviation $\\sigma$ of the channels, where $\\mu$ and $\\sigma$ have dimensionality $1\\times 1\\times 1\\times C$. Then, the mean $\\mu$ and the standard deviation $\\sigma$ of the batch are expanded again to $B\\times H\\times W\\times C$ and used to standardize the input features to follow a distribution with mean 0 and variance 1. The layer output is then $y = \\gamma\\frac{x-\\mu}{\\sigma} + \\beta$, where $\\gamma$ and $\\beta$ are learnable parameters that give the network more capacity to express different distributions.\n",
        "The layer is defined in Keras by using:"
      ]
    },
    {
      "cell_type": "code",
      "metadata": {
        "id": "mt2E2uTqWGBB"
      },
      "source": [
        "batch_norm = keras.layers.BatchNormalization(axis=-1, input_shape=[10,10,1])"
      ],
      "execution_count": null,
      "outputs": []
    },
    {
      "cell_type": "markdown",
      "metadata": {
        "id": "ax8OE0cbZA7X"
      },
      "source": [
        "Now we will generate a batch of 512x1 (a batch of 512 vectors of only 1 channel) using `np.random.random`, which is a uniform distribution under the $[0, 1)$ interval, resulting in mean 0.5 and variance 1/12. We will see how the batch normalization layer will scale the distribution to have mean 0 and variance 1.\n",
        "\n"
      ]
    },
    {
      "cell_type": "code",
      "metadata": {
        "id": "8IS_u-HKY1WR",
        "colab": {
          "base_uri": "https://localhost:8080/"
        },
        "outputId": "6bcc59b1-061b-4073-ce14-c48b7e73fe84"
      },
      "source": [
        "from keras.layers import BatchNormalization\n",
        "import numpy as np\n",
        "from keras import backend as K\n",
        "K.set_learning_phase(1)\n",
        "x = np.random.random((512, 10, 10, 1))\n",
        "input_x = K.variable(x)\n",
        "y = K.eval(batch_norm(input_x))\n",
        "print('Input')\n",
        "print(x[:10, 0, 0, 0])\n",
        "print('Output')\n",
        "print(y[:10, 0, 0, 0])"
      ],
      "execution_count": null,
      "outputs": [
        {
          "output_type": "stream",
          "text": [
            "/usr/local/lib/python3.6/dist-packages/tensorflow/python/keras/backend.py:434: UserWarning: `tf.keras.backend.set_learning_phase` is deprecated and will be removed after 2020-10-11. To update it, simply pass a True/False value to the `training` argument of the `__call__` method of your layer or model.\n",
            "  warnings.warn('`tf.keras.backend.set_learning_phase` is deprecated and '\n"
          ],
          "name": "stderr"
        },
        {
          "output_type": "stream",
          "text": [
            "Input\n",
            "[0.28602691 0.58978249 0.45599987 0.16769535 0.94773121 0.31390557\n",
            " 0.56469607 0.94828194 0.04544631 0.94770469]\n",
            "Output\n",
            "[-0.7408573   0.31052503 -0.15253368 -1.1504358   1.549485   -0.64436156\n",
            "  0.22369403  1.5513912  -1.5735736   1.5493932 ]\n"
          ],
          "name": "stdout"
        }
      ]
    },
    {
      "cell_type": "code",
      "metadata": {
        "id": "ILdlLzAtZ3sp",
        "colab": {
          "base_uri": "https://localhost:8080/"
        },
        "outputId": "74961ba9-9fb6-4995-b3f1-7ef5ee56a6c5"
      },
      "source": [
        "# Input mean should be ~0.5 and var ~1/12=0.0833\n",
        "print(x.mean(), x.var())\n",
        "# Output mean should be ~0 and var ~1\n",
        "print(y.mean(), y.var())"
      ],
      "execution_count": null,
      "outputs": [
        {
          "output_type": "stream",
          "text": [
            "0.500068542636359 0.08246936899117209\n",
            "1.9762665e-07 0.9880196\n"
          ],
          "name": "stdout"
        }
      ]
    },
    {
      "cell_type": "markdown",
      "metadata": {
        "id": "iDOne7XbrEhL"
      },
      "source": [
        "It is important to note that batch normalization changes behaviour in evaluation mode. During training, the layer tracks and updates the moving average of $\\mu$ and $\\sigma$ given all possible training batches. $\\mu$ and $\\sigma$ are then used to normalize the testing data without using the statistics from the testing batch.\n",
        "\n",
        "Generally, using Batch Normalization results in faster training and easier convergence. It is quite standard to place Batch Normalization layers just before the activation function, but we can also achieve good performance by placing it after the activation function. So you can see blocks of Conv+BN+Activation or Conv+Activation+BN in different networks. \n",
        "\n",
        "You can add your Batch Normalization layer as any other layer in your sequential model:"
      ]
    },
    {
      "cell_type": "code",
      "metadata": {
        "id": "8ck8kC2zXToa"
      },
      "source": [
        "from keras.models import Sequential\n",
        "from keras.layers import BatchNormalization\n",
        "model = Sequential()\n",
        "model.add(BatchNormalization())"
      ],
      "execution_count": null,
      "outputs": []
    },
    {
      "cell_type": "markdown",
      "metadata": {
        "id": "lfcOrzhaPpq0"
      },
      "source": [
        "Now we test the layer following a similar example as in the original [paper](http://proceedings.mlr.press/v37/ioffe15.pdf). We use a similar fully-connected model with sigmoid activations for MNIST."
      ]
    },
    {
      "cell_type": "code",
      "metadata": {
        "colab": {
          "base_uri": "https://localhost:8080/",
          "height": 644
        },
        "id": "h3aBywmT9__v",
        "outputId": "808228f5-6f85-4b0b-9a66-17de0d36552f"
      },
      "source": [
        "model, x_train, y_train, x_test, y_test = get_data_model()\n",
        "model = Sequential()\n",
        "model.add(Dense(100, activation='sigmoid', input_shape=(784,)))\n",
        "model.add(Dense(100, activation='sigmoid'))\n",
        "model.add(Dense(100, activation='sigmoid'))\n",
        "model.add(Dense(10, activation='softmax'))\n",
        "model.compile(optimizer='adam',loss='categorical_crossentropy', metrics=['categorical_accuracy'])\n",
        "history = model.fit(x_train, y_train, epochs=10, batch_size=60, validation_split=0.2, verbose=1)\n",
        "plot_history(history, 'categorical_accuracy')"
      ],
      "execution_count": null,
      "outputs": [
        {
          "output_type": "stream",
          "text": [
            "Epoch 1/10\n",
            "800/800 [==============================] - 2s 2ms/step - loss: 1.3354 - categorical_accuracy: 0.5852 - val_loss: 0.2961 - val_categorical_accuracy: 0.9132\n",
            "Epoch 2/10\n",
            "800/800 [==============================] - 2s 3ms/step - loss: 0.2642 - categorical_accuracy: 0.9248 - val_loss: 0.1946 - val_categorical_accuracy: 0.9445\n",
            "Epoch 3/10\n",
            "800/800 [==============================] - 2s 2ms/step - loss: 0.1790 - categorical_accuracy: 0.9485 - val_loss: 0.1534 - val_categorical_accuracy: 0.9557\n",
            "Epoch 4/10\n",
            "800/800 [==============================] - 2s 2ms/step - loss: 0.1347 - categorical_accuracy: 0.9623 - val_loss: 0.1334 - val_categorical_accuracy: 0.9602\n",
            "Epoch 5/10\n",
            "800/800 [==============================] - 2s 2ms/step - loss: 0.1051 - categorical_accuracy: 0.9695 - val_loss: 0.1235 - val_categorical_accuracy: 0.9638\n",
            "Epoch 6/10\n",
            "800/800 [==============================] - 2s 2ms/step - loss: 0.0831 - categorical_accuracy: 0.9755 - val_loss: 0.1147 - val_categorical_accuracy: 0.9659\n",
            "Epoch 7/10\n",
            "800/800 [==============================] - 2s 2ms/step - loss: 0.0716 - categorical_accuracy: 0.9792 - val_loss: 0.1114 - val_categorical_accuracy: 0.9673\n",
            "Epoch 8/10\n",
            "800/800 [==============================] - 2s 2ms/step - loss: 0.0592 - categorical_accuracy: 0.9834 - val_loss: 0.1273 - val_categorical_accuracy: 0.9638\n",
            "Epoch 9/10\n",
            "800/800 [==============================] - 2s 2ms/step - loss: 0.0494 - categorical_accuracy: 0.9854 - val_loss: 0.1180 - val_categorical_accuracy: 0.9667\n",
            "Epoch 10/10\n",
            "800/800 [==============================] - 2s 2ms/step - loss: 0.0446 - categorical_accuracy: 0.9875 - val_loss: 0.1110 - val_categorical_accuracy: 0.9693\n"
          ],
          "name": "stdout"
        },
        {
          "output_type": "display_data",
          "data": {
            "image/png": "[encoded data removed]",
            "text/plain": [
              "<Figure size 432x288 with 2 Axes>"
            ]
          },
          "metadata": {
            "tags": [],
            "needs_background": "light"
          }
        }
      ]
    },
    {
      "cell_type": "code",
      "metadata": {
        "colab": {
          "base_uri": "https://localhost:8080/",
          "height": 644
        },
        "id": "ChwJ6vtL-B6S",
        "outputId": "bd5f605e-5914-4e8e-e5b5-e0714cc4ff2b"
      },
      "source": [
        "_, x_train, y_train, x_test, y_test = get_data_model()\n",
        "model = Sequential()\n",
        "model.add(Dense(100, activation='sigmoid', input_shape=(784,)))\n",
        "model.add(BatchNormalization())\n",
        "model.add(Dense(100, activation='sigmoid'))\n",
        "model.add(BatchNormalization())\n",
        "model.add(Dense(100, activation='sigmoid'))\n",
        "model.add(Dense(10, activation='softmax'))\n",
        "model.compile(optimizer='adam',loss='categorical_crossentropy', metrics=['categorical_accuracy'])\n",
        "history = model.fit(x_train, y_train, epochs=10, batch_size=60, validation_split=0.2, verbose=1)\n",
        "plot_history(history, 'categorical_accuracy')"
      ],
      "execution_count": null,
      "outputs": [
        {
          "output_type": "stream",
          "text": [
            "Epoch 1/10\n",
            "800/800 [==============================] - 3s 3ms/step - loss: 0.6305 - categorical_accuracy: 0.8370 - val_loss: 0.2133 - val_categorical_accuracy: 0.9383\n",
            "Epoch 2/10\n",
            "800/800 [==============================] - 3s 3ms/step - loss: 0.1943 - categorical_accuracy: 0.9424 - val_loss: 0.1431 - val_categorical_accuracy: 0.9578\n",
            "Epoch 3/10\n",
            "800/800 [==============================] - 3s 3ms/step - loss: 0.1264 - categorical_accuracy: 0.9623 - val_loss: 0.1138 - val_categorical_accuracy: 0.9677\n",
            "Epoch 4/10\n",
            "800/800 [==============================] - 2s 3ms/step - loss: 0.0959 - categorical_accuracy: 0.9706 - val_loss: 0.0976 - val_categorical_accuracy: 0.9707\n",
            "Epoch 5/10\n",
            "800/800 [==============================] - 2s 3ms/step - loss: 0.0769 - categorical_accuracy: 0.9779 - val_loss: 0.0931 - val_categorical_accuracy: 0.9736\n",
            "Epoch 6/10\n",
            "800/800 [==============================] - 2s 3ms/step - loss: 0.0589 - categorical_accuracy: 0.9815 - val_loss: 0.0896 - val_categorical_accuracy: 0.9741\n",
            "Epoch 7/10\n",
            "800/800 [==============================] - 2s 3ms/step - loss: 0.0508 - categorical_accuracy: 0.9845 - val_loss: 0.0864 - val_categorical_accuracy: 0.9742\n",
            "Epoch 8/10\n",
            "800/800 [==============================] - 2s 3ms/step - loss: 0.0436 - categorical_accuracy: 0.9864 - val_loss: 0.0976 - val_categorical_accuracy: 0.9722\n",
            "Epoch 9/10\n",
            "800/800 [==============================] - 2s 3ms/step - loss: 0.0366 - categorical_accuracy: 0.9890 - val_loss: 0.0948 - val_categorical_accuracy: 0.9732\n",
            "Epoch 10/10\n",
            "800/800 [==============================] - 2s 3ms/step - loss: 0.0298 - categorical_accuracy: 0.9910 - val_loss: 0.0885 - val_categorical_accuracy: 0.9747\n"
          ],
          "name": "stdout"
        },
        {
          "output_type": "display_data",
          "data": {
            "image/png": "[encoded data removed]",
            "text/plain": [
              "<Figure size 432x288 with 2 Axes>"
            ]
          },
          "metadata": {
            "tags": [],
            "needs_background": "light"
          }
        }
      ]
    },
    {
      "cell_type": "markdown",
      "metadata": {
        "id": "8Gd-zJFYQrSs"
      },
      "source": [
        "In this example, we see how Batch Normalization increased the speed of convergence and helped the model achieve better validation accuracy. Batch Normalization is a key component for training deeper networks such as ResNet variants, which will be introduced in future tutorials. However, it is also sensitive to the batch size and the different statistics used in training (mini-batch statistics) and testing (running mean and std from training) can be problematic in some settings."
      ]
    },
    {
      "cell_type": "markdown",
      "metadata": {
        "id": "NuF3Y5DoKylT"
      },
      "source": [
        "## HyperParameters Tuning\n",
        "\n",
        "### Creating a Validation Set\n",
        "\n",
        "When training our model, we need to decide the value of several hyperparameters, what regularization techniques we employ, or the loss used to train the model, among others. To decide these values we should not use as guidance the performance in the test set, as it may lead to overfitting to that set, and in turn to an erroneous estimate of the performance of the model in non-seen data. Hence, we use what is called a validation set, which we use to tweak the hyperparameters. \n",
        "\n",
        "To define a validation split automatically in Keras, we can use two relevant arguments in the `fit` method: `validation_split` and `validation_data`. The argument passed to `validation_split` (0 by default) determines the ratio of the training set for validation purposes. For example,    \n",
        "```\n",
        "model.fit(x_train, y_train, ..., validation_split=0.2)\n",
        "```\n",
        "uses 20% of `x_train` as validation data.\n",
        "\n",
        "Using the `validation_split` method the validation data is taken from the last  N indices from your training data as explained in the [documentation](https://keras.io/api/models/model_training_apis/). If we want to fix the split used beforehand, we can use the `validation_data` argument, where we can pass directly the split of data we want to use as validation in the form of a tuple `(data, labels)`. \n",
        "\n",
        "In these tutorials we mainly use the official test sets of several standard datasets as the input to `validation_data`. The reason we use the given test sets as validation data for the tutorials is that is an easy way to make sure that we all work with the same split and report results using the same data. However, in a proper machine learning setup, your validation set should be separate from the test set, so you can tune the model/parameters on the validation set and then check the final performance in the test set."
      ]
    },
    {
      "cell_type": "markdown",
      "metadata": {
        "id": "9DFkIWei6hse"
      },
      "source": [
        "### Early Stopping\n",
        "\n",
        "We now know how to define a validation set and how to use it during the training process. An important step now is how to retrieve the model with the highest validation performance during training. Usually, you keep the model with the highest validation accuracy as your final model, and then, ideally, you would test this final model using an independent test set. \n",
        "However, validation accuracy fluctuates between epochs, and may actually decrease after a few epochs due to overfitting. Hence, we would like to save the model with the best validation performance. \n",
        "\n",
        "We already mentioned how to do save the best performing model in the introductory Keras tutorial, but let's explain it again now that we know how to define a validation split. By default, Keras returns the last model after training $N$ epochs. We can instead choose to retrieve the model with the best validation performance by using the [`EarlyStopping`](https://keras.io/api/callbacks/early_stopping/) callback. EarlyStopping monitors a metric (e.g. `val_categorical_accuracy`) and after a few epochs where that metric has not improved (`patience` variable) the training process stops. Finally, if `restore_best_weights` is set to `True`, the weights from the best performing model in the defined metric are restored. Let's see an example. "
      ]
    },
    {
      "cell_type": "code",
      "metadata": {
        "id": "QFfNridt72qT",
        "colab": {
          "base_uri": "https://localhost:8080/"
        },
        "outputId": "a93ac806-51d7-4282-dec2-ff41c3d65b37"
      },
      "source": [
        "from keras.callbacks import EarlyStopping\n",
        "\n",
        "early_stop = EarlyStopping(monitor='val_categorical_accuracy', min_delta=0, patience=4, verbose=0, mode='auto', baseline=None, restore_best_weights=True)\n",
        "_, x_train, y_train, x_test, y_test = get_data_model()\n",
        "\n",
        "model.compile(optimizer='adam', loss='categorical_crossentropy', metrics=['categorical_accuracy'])\n",
        "\n",
        "model.fit(x_train, y_train, epochs=20, batch_size=32, verbose=1, validation_data=(x_test, y_test), callbacks=[early_stop])"
      ],
      "execution_count": null,
      "outputs": [
        {
          "output_type": "stream",
          "text": [
            "Epoch 1/20\n",
            "1875/1875 [==============================] - 6s 3ms/step - loss: 0.0614 - categorical_accuracy: 0.9806 - val_loss: 0.0699 - val_categorical_accuracy: 0.9787\n",
            "Epoch 2/20\n",
            "1875/1875 [==============================] - 5s 3ms/step - loss: 0.0470 - categorical_accuracy: 0.9853 - val_loss: 0.0830 - val_categorical_accuracy: 0.9741\n",
            "Epoch 3/20\n",
            "1875/1875 [==============================] - 5s 3ms/step - loss: 0.0435 - categorical_accuracy: 0.9859 - val_loss: 0.0796 - val_categorical_accuracy: 0.9773\n",
            "Epoch 4/20\n",
            "1875/1875 [==============================] - 5s 3ms/step - loss: 0.0384 - categorical_accuracy: 0.9864 - val_loss: 0.0818 - val_categorical_accuracy: 0.9766\n",
            "Epoch 5/20\n",
            "1875/1875 [==============================] - 5s 3ms/step - loss: 0.0343 - categorical_accuracy: 0.9882 - val_loss: 0.0737 - val_categorical_accuracy: 0.9788\n",
            "Epoch 6/20\n",
            "1875/1875 [==============================] - 5s 3ms/step - loss: 0.0285 - categorical_accuracy: 0.9906 - val_loss: 0.0724 - val_categorical_accuracy: 0.9800\n",
            "Epoch 7/20\n",
            "1875/1875 [==============================] - 5s 3ms/step - loss: 0.0269 - categorical_accuracy: 0.9914 - val_loss: 0.0822 - val_categorical_accuracy: 0.9765\n",
            "Epoch 8/20\n",
            "1875/1875 [==============================] - 5s 3ms/step - loss: 0.0254 - categorical_accuracy: 0.9918 - val_loss: 0.0785 - val_categorical_accuracy: 0.9786\n",
            "Epoch 9/20\n",
            "1875/1875 [==============================] - 5s 3ms/step - loss: 0.0219 - categorical_accuracy: 0.9924 - val_loss: 0.0727 - val_categorical_accuracy: 0.9794\n",
            "Epoch 10/20\n",
            "1875/1875 [==============================] - 5s 3ms/step - loss: 0.0207 - categorical_accuracy: 0.9929 - val_loss: 0.0809 - val_categorical_accuracy: 0.9809\n",
            "Epoch 11/20\n",
            "1875/1875 [==============================] - 5s 3ms/step - loss: 0.0214 - categorical_accuracy: 0.9926 - val_loss: 0.0800 - val_categorical_accuracy: 0.9785\n",
            "Epoch 12/20\n",
            "1875/1875 [==============================] - 5s 3ms/step - loss: 0.0201 - categorical_accuracy: 0.9926 - val_loss: 0.0791 - val_categorical_accuracy: 0.9801\n",
            "Epoch 13/20\n",
            "1875/1875 [==============================] - 5s 3ms/step - loss: 0.0189 - categorical_accuracy: 0.9933 - val_loss: 0.0770 - val_categorical_accuracy: 0.9804\n",
            "Epoch 14/20\n",
            "1875/1875 [==============================] - 5s 3ms/step - loss: 0.0207 - categorical_accuracy: 0.9932 - val_loss: 0.0750 - val_categorical_accuracy: 0.9807\n"
          ],
          "name": "stdout"
        },
        {
          "output_type": "execute_result",
          "data": {
            "text/plain": [
              "<tensorflow.python.keras.callbacks.History at 0x7f3eb07df470>"
            ]
          },
          "metadata": {
            "tags": []
          },
          "execution_count": 32
        }
      ]
    },
    {
      "cell_type": "markdown",
      "metadata": {
        "id": "VtujLcUPAc7R"
      },
      "source": [
        "We see how the training process stopped after failing to improve `val_categorical_accuracy` during the number of epochs set by `patience. We now check that the performance of the saved model is the same as the obtained in the best epoch in terms of validation accuracy."
      ]
    },
    {
      "cell_type": "code",
      "metadata": {
        "id": "LPiaL47KAY-e",
        "colab": {
          "base_uri": "https://localhost:8080/"
        },
        "outputId": "b1e541dc-5c66-48b9-ca8f-2de66f1d1692"
      },
      "source": [
        "model.evaluate(x_test, y_test)"
      ],
      "execution_count": null,
      "outputs": [
        {
          "output_type": "stream",
          "text": [
            "313/313 [==============================] - 1s 2ms/step - loss: 0.0809 - categorical_accuracy: 0.9809\n"
          ],
          "name": "stdout"
        },
        {
          "output_type": "execute_result",
          "data": {
            "text/plain": [
              "[0.08091071248054504, 0.98089998960495]"
            ]
          },
          "metadata": {
            "tags": []
          },
          "execution_count": 33
        }
      ]
    },
    {
      "cell_type": "markdown",
      "metadata": {
        "id": "NMd2DVJCGmE7"
      },
      "source": [
        "### Learning Rate\n",
        "\n",
        "One of the most important parameters to tweak is the learning rate, which controls the update step performed during the backpropagation. Keras provides two callbacks that allow us to modify the learning rate during training. One is `LearningRateScheduler`, which allows us to define a rule to vary the learning rate depending on the epoch. For example, using the `lr_scheduler` function (found [here](https://stackoverflow.com/questions/39779710/setting-up-a-learningratescheduler-in-keras)), we can modify the loss function so that every 3 epochs is multiplied by 0.1."
      ]
    },
    {
      "cell_type": "code",
      "metadata": {
        "id": "AC9in_Zhfnly",
        "colab": {
          "base_uri": "https://localhost:8080/",
          "height": 679
        },
        "outputId": "0768a997-a40f-4203-b40d-04b3a41c44cf"
      },
      "source": [
        "def lr_scheduler(epoch, lr):\n",
        "    decay_rate = 0.1\n",
        "    decay_step = 3\n",
        "    if epoch % decay_step == 0 and epoch:\n",
        "        return lr * decay_rate\n",
        "    return lr\n",
        "    \n",
        "lrate = keras.callbacks.LearningRateScheduler(lr_scheduler)\n",
        "model, x_train, y_train, x_test, y_test = get_data_model()\n",
        "model.compile(optimizer='adam',loss='categorical_crossentropy', metrics=['categorical_accuracy'])\n",
        "initial_lr = K.get_value(model.optimizer.lr)\n",
        "history = model.fit(x_train, y_train, epochs=10, batch_size=32, validation_split=0.2, callbacks=[lrate])\n",
        "print('Initial Learning Rate: {:.4f}'.format(initial_lr))\n",
        "print('Final Learning Rate: {:.10f}'.format(K.eval(model.optimizer.lr)))\n",
        "plot_history(history, 'categorical_accuracy')"
      ],
      "execution_count": null,
      "outputs": [
        {
          "output_type": "stream",
          "text": [
            "Epoch 1/10\n",
            "1500/1500 [==============================] - 4s 2ms/step - loss: 0.3384 - categorical_accuracy: 0.8981 - val_loss: 0.1084 - val_categorical_accuracy: 0.9667\n",
            "Epoch 2/10\n",
            "1500/1500 [==============================] - 3s 2ms/step - loss: 0.0839 - categorical_accuracy: 0.9738 - val_loss: 0.0875 - val_categorical_accuracy: 0.9732\n",
            "Epoch 3/10\n",
            "1500/1500 [==============================] - 3s 2ms/step - loss: 0.0544 - categorical_accuracy: 0.9819 - val_loss: 0.0896 - val_categorical_accuracy: 0.9738\n",
            "Epoch 4/10\n",
            "1500/1500 [==============================] - 3s 2ms/step - loss: 0.0229 - categorical_accuracy: 0.9928 - val_loss: 0.0648 - val_categorical_accuracy: 0.9809\n",
            "Epoch 5/10\n",
            "1500/1500 [==============================] - 3s 2ms/step - loss: 0.0113 - categorical_accuracy: 0.9972 - val_loss: 0.0687 - val_categorical_accuracy: 0.9807\n",
            "Epoch 6/10\n",
            "1500/1500 [==============================] - 3s 2ms/step - loss: 0.0067 - categorical_accuracy: 0.9986 - val_loss: 0.0711 - val_categorical_accuracy: 0.9818\n",
            "Epoch 7/10\n",
            "1500/1500 [==============================] - 3s 2ms/step - loss: 0.0049 - categorical_accuracy: 0.9991 - val_loss: 0.0689 - val_categorical_accuracy: 0.9815\n",
            "Epoch 8/10\n",
            "1500/1500 [==============================] - 3s 2ms/step - loss: 0.0041 - categorical_accuracy: 0.9991 - val_loss: 0.0696 - val_categorical_accuracy: 0.9817\n",
            "Epoch 9/10\n",
            "1500/1500 [==============================] - 3s 2ms/step - loss: 0.0027 - categorical_accuracy: 0.9996 - val_loss: 0.0704 - val_categorical_accuracy: 0.9818\n",
            "Epoch 10/10\n",
            "1500/1500 [==============================] - 3s 2ms/step - loss: 0.0026 - categorical_accuracy: 0.9996 - val_loss: 0.0705 - val_categorical_accuracy: 0.9820\n",
            "Initial Learning Rate: 0.0010\n",
            "Final Learning Rate: 0.0000010000\n"
          ],
          "name": "stdout"
        },
        {
          "output_type": "display_data",
          "data": {
            "image/png": "[encoded data removed]",
            "text/plain": [
              "<Figure size 432x288 with 2 Axes>"
            ]
          },
          "metadata": {
            "tags": [],
            "needs_background": "light"
          }
        }
      ]
    },
    {
      "cell_type": "markdown",
      "metadata": {
        "id": "jAF6VK2gkdRU"
      },
      "source": [
        "Let's plot the progress of the learning rate in each epoch to check how the learning rate is decreased every three epochs as we defined in `lr_scheduler`."
      ]
    },
    {
      "cell_type": "code",
      "metadata": {
        "id": "jtugFeDVj8HD",
        "colab": {
          "base_uri": "https://localhost:8080/",
          "height": 279
        },
        "outputId": "196edcca-81b4-435a-ff35-560c20f54f79"
      },
      "source": [
        "learning_rate = history.history['lr']\n",
        "plt.plot(range(0, len(learning_rate)), learning_rate)\n",
        "plt.ylabel('Learning Rate')\n",
        "plt.xlabel('Epochs')\n",
        "plt.show()"
      ],
      "execution_count": null,
      "outputs": [
        {
          "output_type": "display_data",
          "data": {
            "image/png": "[encoded data removed]",
            "text/plain": [
              "<Figure size 432x288 with 1 Axes>"
            ]
          },
          "metadata": {
            "tags": [],
            "needs_background": "light"
          }
        }
      ]
    },
    {
      "cell_type": "markdown",
      "metadata": {
        "id": "XAPrOzm0iDTs"
      },
      "source": [
        "Another callback provided is `ReduceLROnPlateau`, which reduces the learning rate whenever a given metric has stopped improving. There are 5 important arguments:\n",
        "\n",
        " * `monitor`: we specify the metric we want to track\n",
        " * `patience`: number of epochs without improvement before reducing lr\n",
        " * `factor`: the new learning rate will be `new_lr = lr * factor`\n",
        " * `min_lr`: sets the minimum lr\n",
        " * `min_delta`: margin to define when the metric has stopped improving\n",
        " "
      ]
    },
    {
      "cell_type": "code",
      "metadata": {
        "id": "os7b7Oh0TO7m",
        "colab": {
          "base_uri": "https://localhost:8080/",
          "height": 679
        },
        "outputId": "51d3620b-d555-40c8-a14a-4b65c37bc32d"
      },
      "source": [
        "from keras.callbacks import ReduceLROnPlateau\n",
        "reduce_lr = ReduceLROnPlateau(monitor='val_loss', factor=0.2,\n",
        "                              patience=1, min_lr=0.00001, min_delta = 0.01)\n",
        "model, x_train, y_train, x_test, y_test = get_data_model() \n",
        "model.compile(optimizer='adam',loss='categorical_crossentropy', metrics=['categorical_accuracy'])\n",
        "initial_lr = K.get_value(model.optimizer.lr)\n",
        "history = model.fit(x_train, y_train, epochs=10, batch_size=32, validation_split=0.2, callbacks=[reduce_lr])\n",
        "print('Initial Learning Rate: {:.4f}'.format(initial_lr))\n",
        "print('Final Learning Rate: {:.10f}'.format(K.eval(model.optimizer.lr)))\n",
        "plot_history(history, 'categorical_accuracy')"
      ],
      "execution_count": null,
      "outputs": [
        {
          "output_type": "stream",
          "text": [
            "Epoch 1/10\n",
            "1500/1500 [==============================] - 4s 2ms/step - loss: 0.3438 - categorical_accuracy: 0.8947 - val_loss: 0.1360 - val_categorical_accuracy: 0.9572\n",
            "Epoch 2/10\n",
            "1500/1500 [==============================] - 3s 2ms/step - loss: 0.0895 - categorical_accuracy: 0.9713 - val_loss: 0.1168 - val_categorical_accuracy: 0.9648\n",
            "Epoch 3/10\n",
            "1500/1500 [==============================] - 3s 2ms/step - loss: 0.0553 - categorical_accuracy: 0.9825 - val_loss: 0.0927 - val_categorical_accuracy: 0.9732\n",
            "Epoch 4/10\n",
            "1500/1500 [==============================] - 3s 2ms/step - loss: 0.0411 - categorical_accuracy: 0.9862 - val_loss: 0.0892 - val_categorical_accuracy: 0.9753\n",
            "Epoch 5/10\n",
            "1500/1500 [==============================] - 3s 2ms/step - loss: 0.0172 - categorical_accuracy: 0.9952 - val_loss: 0.0699 - val_categorical_accuracy: 0.9827\n",
            "Epoch 6/10\n",
            "1500/1500 [==============================] - 3s 2ms/step - loss: 0.0050 - categorical_accuracy: 0.9989 - val_loss: 0.0721 - val_categorical_accuracy: 0.9830\n",
            "Epoch 7/10\n",
            "1500/1500 [==============================] - 3s 2ms/step - loss: 0.0023 - categorical_accuracy: 0.9995 - val_loss: 0.0709 - val_categorical_accuracy: 0.9836\n",
            "Epoch 8/10\n",
            "1500/1500 [==============================] - 3s 2ms/step - loss: 0.0014 - categorical_accuracy: 0.9999 - val_loss: 0.0719 - val_categorical_accuracy: 0.9833\n",
            "Epoch 9/10\n",
            "1500/1500 [==============================] - 3s 2ms/step - loss: 0.0013 - categorical_accuracy: 0.9999 - val_loss: 0.0728 - val_categorical_accuracy: 0.9836\n",
            "Epoch 10/10\n",
            "1500/1500 [==============================] - 3s 2ms/step - loss: 0.0011 - categorical_accuracy: 0.9999 - val_loss: 0.0740 - val_categorical_accuracy: 0.9835\n",
            "Initial Learning Rate: 0.0010\n",
            "Final Learning Rate: 0.0000100000\n"
          ],
          "name": "stdout"
        },
        {
          "output_type": "display_data",
          "data": {
            "image/png": "[encoded data removed]",
            "text/plain": [
              "<Figure size 432x288 with 2 Axes>"
            ]
          },
          "metadata": {
            "tags": [],
            "needs_background": "light"
          }
        }
      ]
    },
    {
      "cell_type": "markdown",
      "metadata": {
        "id": "FX9W-7yNoyvL"
      },
      "source": [
        "Again, we check how the learning rate has changed. You can check that the learning has indeed decreased when the `val_loss` has not improved by more than 0.01 until it reached the `min_lr` value."
      ]
    },
    {
      "cell_type": "code",
      "metadata": {
        "id": "BVNFkE-qnKVk",
        "colab": {
          "base_uri": "https://localhost:8080/",
          "height": 279
        },
        "outputId": "646dd965-e9f5-48a7-9bf2-4d8472164355"
      },
      "source": [
        "learning_rate = history.history['lr']\n",
        "plt.plot(range(0, len(learning_rate)), learning_rate)\n",
        "plt.ylabel('Learning Rate')\n",
        "plt.xlabel('Epochs')\n",
        "plt.show()"
      ],
      "execution_count": null,
      "outputs": [
        {
          "output_type": "display_data",
          "data": {
            "image/png": "[encoded data removed]",
            "text/plain": [
              "<Figure size 432x288 with 1 Axes>"
            ]
          },
          "metadata": {
            "tags": [],
            "needs_background": "light"
          }
        }
      ]
    },
    {
      "cell_type": "markdown",
      "metadata": {
        "id": "xm0oVnMQWLZt"
      },
      "source": [
        "## Data augmentation\n",
        "Deep learning models are data-hungry, tend to overfit with small training sets and its performance benefit from large training sets. A way to synthetically create more data is using data augmentation. Data augmentation aims to modify the training examples by applying transformations to the input data. Now, we will show some examples of data augmentation for images.\n",
        "\n",
        "### Images\n",
        "Data augmentation techniques such as rotation, scaling or cropping are usually applied in deep learning pipelines for vision applications. The idea is to take as input an image, apply a transformation to it, and then use it for training.\n",
        "\n",
        "Keras allows us to perform data augmentation using ImageDataGenerator, which you may see in some other examples online, however by using the preprocessing module we can perform the augmentation directly on the GPU, making it quite faster in the Colabs notebook. The available transformations are listed [here](https://www.tensorflow.org/api_docs/python/tf/keras/layers/experimental/preprocessing). The preprocessing module can be imported by doing:\n",
        "\n",
        "\n"
      ]
    },
    {
      "cell_type": "code",
      "metadata": {
        "id": "n4glvOHvh8qy"
      },
      "source": [
        "from tensorflow.keras.layers.experimental import preprocessing"
      ],
      "execution_count": null,
      "outputs": []
    },
    {
      "cell_type": "markdown",
      "metadata": {
        "id": "2vftBzsolQcL"
      },
      "source": [
        "We first define a function `plot_data_augmentation` that we will use to show some augmented examples.\n",
        "\n"
      ]
    },
    {
      "cell_type": "code",
      "metadata": {
        "id": "yTLpcR43IHpX"
      },
      "source": [
        "from tensorflow.keras.preprocessing.image import ImageDataGenerator\n",
        "def plot_data_augmentation(augmentation = keras.Sequential()):\n",
        "  (x_train, y_train), (x_test, y_test) = mnist.load_data()\n",
        "  # A generator that allows us to use flow to output some examples\n",
        "  data_gen = ImageDataGenerator()\n",
        "  for X_batch, y_batch in data_gen.flow(np.expand_dims(x_train, -1), y_train, batch_size=5, shuffle=False):\n",
        "    X_batch = augmentation(X_batch).numpy()\n",
        "    for i in range(0, 5):\n",
        "      plt.subplot(150 + 1 + i)\n",
        "      plt.imshow(X_batch[i, :].reshape(28, 28), cmap=plt.get_cmap('gray'))\n",
        "    # show the plot\n",
        "    plt.show()\n",
        "    break"
      ],
      "execution_count": null,
      "outputs": []
    },
    {
      "cell_type": "markdown",
      "metadata": {
        "id": "OoJYjjapiISI"
      },
      "source": [
        "We will now visualize some of the transformations available in this preprocessing module. First, we plot some images without any transformations applied for comparison."
      ]
    },
    {
      "cell_type": "code",
      "metadata": {
        "id": "MyoZHyOTheyU",
        "colab": {
          "base_uri": "https://localhost:8080/",
          "height": 109
        },
        "outputId": "0ae22635-3fa1-474e-b717-20898b37dba8"
      },
      "source": [
        "plot_data_augmentation()"
      ],
      "execution_count": null,
      "outputs": [
        {
          "output_type": "display_data",
          "data": {
            "image/png": "[encoded data removed]",
            "text/plain": [
              "<Figure size 432x288 with 5 Axes>"
            ]
          },
          "metadata": {
            "tags": [],
            "needs_background": "light"
          }
        }
      ]
    },
    {
      "cell_type": "markdown",
      "metadata": {
        "id": "eFXEC5EejxWG"
      },
      "source": [
        "### Rotation\n",
        "A standard transformation is to rotate the image. We can do so by using `preprocessing.RandomRotation` ([documentation](https://www.tensorflow.org/api_docs/python/tf/keras/layers/experimental/preprocessing/RandomRotation)) with a factor that controls the range of the random rotations. For example, `0.15`rotates the image randomly between `[-0.15*2pi, 0.15*2pi]`"
      ]
    },
    {
      "cell_type": "code",
      "metadata": {
        "id": "hjgfZ1z3j46X",
        "colab": {
          "base_uri": "https://localhost:8080/",
          "height": 109
        },
        "outputId": "3ede57b5-939f-45c5-e896-6b6ec4569436"
      },
      "source": [
        "# We first define the transformation we want to apply\n",
        "data_augmentation = preprocessing.RandomRotation(0.15)\n",
        "plot_data_augmentation(data_augmentation)"
      ],
      "execution_count": null,
      "outputs": [
        {
          "output_type": "display_data",
          "data": {
            "image/png": "[encoded data removed]",
            "text/plain": [
              "<Figure size 432x288 with 5 Axes>"
            ]
          },
          "metadata": {
            "tags": [],
            "needs_background": "light"
          }
        }
      ]
    },
    {
      "cell_type": "markdown",
      "metadata": {
        "id": "Schj43v4ioTY"
      },
      "source": [
        "### Shift\n",
        "\n",
        "We can define a maximum range of both horizontal (`width_factor`) and vertical (`height_factor`) shift using `preprocessing.RandomTranslation`([documentation\u001b](https://www.tensorflow.org/api_docs/python/tf/keras/layers/experimental/preprocessing/RandomTranslation))."
      ]
    },
    {
      "cell_type": "code",
      "metadata": {
        "id": "dbzq69FfjLd9",
        "colab": {
          "base_uri": "https://localhost:8080/",
          "height": 109
        },
        "outputId": "f1d4d920-f160-48ef-94f5-87aae6d09f23"
      },
      "source": [
        "data_augmentation = preprocessing.RandomTranslation(\n",
        "    height_factor=0.3, width_factor=0.3, fill_mode='reflect',\n",
        "    interpolation='bilinear'\n",
        ")\n",
        "plot_data_augmentation(data_augmentation)"
      ],
      "execution_count": null,
      "outputs": [
        {
          "output_type": "display_data",
          "data": {
            "image/png": "[encoded data removed]",
            "text/plain": [
              "<Figure size 432x288 with 5 Axes>"
            ]
          },
          "metadata": {
            "tags": [],
            "needs_background": "light"
          }
        }
      ]
    },
    {
      "cell_type": "markdown",
      "metadata": {
        "id": "7uhYKLIPI1LA"
      },
      "source": [
        "### Zooming\n",
        "Zooming into the image can be done with `preprocessing.RandomZoom` ([documentation](https://www.tensorflow.org/api_docs/python/tf/keras/layers/experimental/preprocessing/RandomZoom)). You can define a height factor, that limits the range of height zooming, and a width factor, which similarly limits the range of width zooming."
      ]
    },
    {
      "cell_type": "code",
      "metadata": {
        "id": "NGvZzyL0HQjF",
        "colab": {
          "base_uri": "https://localhost:8080/",
          "height": 109
        },
        "outputId": "15790b13-4b5a-423f-874b-f9f66e9b3909"
      },
      "source": [
        "augmentation_gen = preprocessing.RandomZoom(height_factor=0.4)\n",
        "plot_data_augmentation(augmentation_gen)"
      ],
      "execution_count": null,
      "outputs": [
        {
          "output_type": "display_data",
          "data": {
            "image/png": "[encoded data removed]",
            "text/plain": [
              "<Figure size 432x288 with 5 Axes>"
            ]
          },
          "metadata": {
            "tags": [],
            "needs_background": "light"
          }
        }
      ]
    },
    {
      "cell_type": "markdown",
      "metadata": {
        "id": "845GvrICI9IX"
      },
      "source": [
        "### Flip\n",
        "\n",
        "We can define either horizontal flip (`horizontal`), vertical (`vertical`) or both (`horizontal_and_vertical`) using `preprocessing.RandomFlip` (\u001b[documentation](https://www.tensorflow.org/api_docs/python/tf/keras/layers/experimental/preprocessing/RandomFlip)).  Horizontal flip is one of the most usual augmentations in images."
      ]
    },
    {
      "cell_type": "code",
      "metadata": {
        "id": "m6emZPbsHXOV",
        "colab": {
          "base_uri": "https://localhost:8080/",
          "height": 109
        },
        "outputId": "570d440e-b1ee-43e9-a4b2-0409aaf6c15c"
      },
      "source": [
        "augmentation_gen = preprocessing.RandomFlip('horizontal')\n",
        "plot_data_augmentation(augmentation_gen)"
      ],
      "execution_count": null,
      "outputs": [
        {
          "output_type": "display_data",
          "data": {
            "image/png": "[encoded data removed]",
            "text/plain": [
              "<Figure size 432x288 with 5 Axes>"
            ]
          },
          "metadata": {
            "tags": [],
            "needs_background": "light"
          }
        }
      ]
    },
    {
      "cell_type": "markdown",
      "metadata": {
        "id": "Sb3fcBi8Inwy"
      },
      "source": [
        "### Data Normalization\n",
        "Data normalization is usually applied in deep learning pipelines. A typical data normalization applied is data standardization, where we transform the input data to have `mean=0` and `std=1`. When you have multiple features coming from different distributions and different scales, normalization makes all of the features have a similar distribution, which avoids biasing the model towards using the features with larger values. \n",
        "\n",
        "In images, the range of values is already in the same scale of [0-255], but normalizing the range of values to [0-1] can help us avoid starting training in the saturation regions of some activations, such as a sigmoid, where values of large magnitude will fall into the flat region of the activation. Data centering (mean=0) can also useful in some settings because the weight initializers used (e.g. Xavier) are derived following a ``mean=0`` assumption about the data distribution, but probably a model trained with [0-1] will usually converge too.\n",
        "\n",
        "To perform normalization, we can also use the preprocessing module. In the following example we can see how using `preprocessing.Normalization()` makes our data have `mean=0` and `standard_deviation=1`. Contrary to the other transformations we showed, before normalizing the data we need to use `adapt(train_data)` to compute the mean and standard deviation of the whole training set. The mean and standard deviation computed will then be saved and applied to standardize the individual images."
      ]
    },
    {
      "cell_type": "code",
      "metadata": {
        "id": "fGOQ0F-_Lrgr",
        "colab": {
          "base_uri": "https://localhost:8080/"
        },
        "outputId": "1f5974ac-faf0-4ea9-fb3d-2773c769d197"
      },
      "source": [
        "normalization = preprocessing.Normalization()\n",
        "(x_train, y_train), (x_test, y_test) = mnist.load_data()\n",
        "x_train = x_train.reshape(-1, 28, 28, 1)\n",
        "normalization.adapt(x_train)\n",
        "# We show the mean and std of the training set\n",
        "# before and after normalization\n",
        "print('Normalized mean/std', normalization(x_train).numpy().mean(), normalization(x_train).numpy().std())\n",
        "print('Original mean/std', x_train.mean(), x_train.std())"
      ],
      "execution_count": null,
      "outputs": [
        {
          "output_type": "stream",
          "text": [
            "Normalized mean/std 2.3430383e-08 0.99999934\n",
            "Original mean/std 33.318421449829934 78.56748998339798\n"
          ],
          "name": "stdout"
        }
      ]
    },
    {
      "cell_type": "markdown",
      "metadata": {
        "id": "_5bCiXoiiQFI"
      },
      "source": [
        "When using any kind of data normalization, it is important to note that we need to apply the same transformation to the test data for our model to work properly. In the given example we can use the statistics computed from the training data to standardize the test data:"
      ]
    },
    {
      "cell_type": "code",
      "metadata": {
        "colab": {
          "base_uri": "https://localhost:8080/"
        },
        "id": "QRBKYvgXid3_",
        "outputId": "c4aa72bb-207c-4b04-818a-50de1b256221"
      },
      "source": [
        "print('Normalized mean/std', normalization(x_test).numpy().mean(), normalization(x_test).numpy().std())\n",
        "print('Original mean/std', x_test.mean(), x_test.std())"
      ],
      "execution_count": null,
      "outputs": [
        {
          "output_type": "stream",
          "text": [
            "Normalized mean/std 0.006017815 1.0077\n",
            "Original mean/std 33.791224489795916 79.17246322228644\n"
          ],
          "name": "stdout"
        }
      ]
    },
    {
      "cell_type": "markdown",
      "metadata": {
        "id": "GOE33AOLJdPK"
      },
      "source": [
        "### Combining transformations\n",
        "We have shown how some of the individual data transformations used in data augmentation work. Now we want to show how we can combine all the transformations and how to integrate them in a training pipeline. To do so, we can form a Sequential layer with all of the transformations and add it to the model."
      ]
    },
    {
      "cell_type": "code",
      "metadata": {
        "id": "Xqb15Ga0EsC9",
        "colab": {
          "base_uri": "https://localhost:8080/"
        },
        "outputId": "4869f241-d0fb-4f5e-a6e1-6133b2006dca"
      },
      "source": [
        "(x_train, y_train), (x_test, y_test) = mnist.load_data()\n",
        "\n",
        "# We normalize the data first\n",
        "norm_layer = preprocessing.Normalization()\n",
        "x_train = x_train.reshape(-1,28,28,1)\n",
        "x_test = x_test.reshape(-1,28,28,1)\n",
        "norm_layer.adapt(x_train)\n",
        "x_train = norm_layer(x_train)\n",
        "x_test = norm_layer(x_test)\n",
        "\n",
        "# We define our data augmentation pipeline\n",
        "data_augmentation = keras.Sequential(\n",
        "    [   \n",
        "        preprocessing.RandomFlip(\"vertical\"),\n",
        "        preprocessing.RandomRotation(0.6)\n",
        "    ]\n",
        ")\n",
        "y_train_class = np_utils.to_categorical(y_train, 10)\n",
        "y_test_class = np_utils.to_categorical(y_test, 10)\n",
        "model = Sequential()\n",
        "model.add(data_augmentation)\n",
        "model.add(keras.layers.Flatten(input_shape=(28, 28, 1)))\n",
        "model.add(Dense(512, activation='relu'))\n",
        "model.add(Dense(512, activation='relu'))\n",
        "model.add(Dense(10, activation='softmax'))\n",
        "model.compile(optimizer='adam',loss='categorical_crossentropy', metrics=['categorical_accuracy'])\n",
        "model.fit(x_train, y_train_class,  epochs=3, validation_data=(x_test,y_test_class))"
      ],
      "execution_count": null,
      "outputs": [
        {
          "output_type": "stream",
          "text": [
            "Epoch 1/3\n",
            "1875/1875 [==============================] - 5s 3ms/step - loss: 1.0227 - categorical_accuracy: 0.6550 - val_loss: 0.5603 - val_categorical_accuracy: 0.8212\n",
            "Epoch 2/3\n",
            "1875/1875 [==============================] - 5s 3ms/step - loss: 0.5027 - categorical_accuracy: 0.8395 - val_loss: 0.4625 - val_categorical_accuracy: 0.8486\n",
            "Epoch 3/3\n",
            "1875/1875 [==============================] - 5s 3ms/step - loss: 0.4217 - categorical_accuracy: 0.8648 - val_loss: 0.4196 - val_categorical_accuracy: 0.8672\n"
          ],
          "name": "stdout"
        },
        {
          "output_type": "execute_result",
          "data": {
            "text/plain": [
              "<tensorflow.python.keras.callbacks.History at 0x7f3e662d1940>"
            ]
          },
          "metadata": {
            "tags": []
          },
          "execution_count": 91
        }
      ]
    },
    {
      "cell_type": "markdown",
      "metadata": {
        "id": "ipjcr_8Gi_0S"
      },
      "source": [
        "We see how the data augmentation process is integrated into the model as it was an extra initial layer. At inference time, most of the preprocessing layers are not active."
      ]
    },
    {
      "cell_type": "markdown",
      "metadata": {
        "id": "65Ynz4OOee5_"
      },
      "source": [
        "In these examples, we showed practical examples of data augmentation for images. However, other modalities, such as text or audio can also benefit from data augmentation.\n",
        "\n",
        "Keep in mind that applying a data augmentation strategy that is too aggressive may actually harm the performance in the test set, e.g., applying extreme zooms not likely to be present in the dataset or strong contrast shifts. "
      ]
    },
    {
      "cell_type": "markdown",
      "metadata": {
        "id": "nUpwc1fHxF4N"
      },
      "source": [
        "# Coursework\n",
        "\n",
        "### Task 1: Tuning a Classification Model\n",
        "In a machine learning problem, and especially when using a deep learning approach, finding the right set of hyperparameters, the right data augmentation strategy, or a good regularization method can make the difference between a model that performs poorly and a model with great accuracy. \n",
        "\n",
        "For this exercise, you will be training a CNN to perform classification in CIFAR-10 (we use the official test set, which is why the variables are called `x_test` and `y_test`, as our validation set) and will analyze the impact of some of the most important elements presented in this tutorial. \n",
        "\n",
        "Use the CNN we give in the code below, along with the given optimizer and number of training epochs as the default setting. Only modify the given CNN architecture to add Dropout or Batch Normalization layers when explicitly stated. Use 40 epochs to plot all of your curves. However, you can train for more epochs to find your best validation performance if your network has not finished training in those 40 epochs.\n",
        "\n",
        "**Report:**\n",
        "*  First, train the given default model without any data augmentation. Then define two data augmentation strategies (one more aggressive than the other) and train the model with data augmentation. Clearly state the two augmentation strategies you apply (i.e., the specific transformations). Discuss the training and validation loss curves for the two data augmentation strategies along with the original run without data augmentation. Attach in the appendix those training and validation curves. Report in a table the best validation result obtained for the three runs (no data augmentation, data augmentation 1, data augmentation 2).\n",
        "\n",
        "*  Without using any data augmentation, analyze the effect of using Dropout in the model. Carry out the same analysis for Batch Normalization. Finally, combine both. Report in the same table as in the data augmentation task the best validation accuracy for each of the three settings (baseline + Dropout, baseline + Batch Normalization, baseline + Batch Normalization + Dropout). The performance will vary depending on where the Dropout layers and Batch Normalization layers, so state clearly where you added the layers, and what rate you used for the Dropout layers. Discuss the results.\n",
        "\n",
        "* Using the default model/hyperparameters and no data augmentation, report the best validation results when using `zeros` for the kernel initialization. Report the performance in the same table as in the dropout/batch normalization/data augmentation tasks. Discuss the results that you obtained.\n",
        "\n",
        "*  Using the default model and no data augmentation, change the optimizer to SGD and train it with learning rates of `3e-3`, `1e-3` and `3e-4`. Report in a figure the training and validation loss for the three learning rate values and discuss the figure."
      ]
    },
    {
      "cell_type": "code",
      "metadata": {
        "id": "g3kbDP402H_u",
        "colab": {
          "base_uri": "https://localhost:8080/"
        },
        "outputId": "9d05e440-e9a4-45a2-fdb4-a3612b6c472c"
      },
      "source": [
        "#data agumentation\n",
        "\n",
        "import numpy as np\n",
        "import keras\n",
        "from keras.layers import Conv2D, MaxPooling2D, GlobalAveragePooling2D\n",
        "from keras.models import Sequential\n",
        "from keras.layers import Dense, Dropout, Activation, BatchNormalization\n",
        "from keras.utils import np_utils\n",
        "from keras.datasets import cifar10\n",
        "from keras.optimizers import Adam, SGD\n",
        "from keras import regularizers\n",
        "from tensorflow.keras.layers.experimental import preprocessing\n",
        "\n",
        "# load the data\n",
        "(X_train, y_train), (X_test, y_test) = cifar10.load_data()\n",
        "\n",
        "print('Image shape: {0}'.format(X_train.shape[1:]))\n",
        "print('Total number of training samples: {0}'.format(X_train.shape[0]))\n",
        "print('Total number of validation samples: {0}'.format(X_test.shape[0]))\n",
        "\n",
        "X_train = X_train.reshape(-1,32,32,3)\n",
        "\n",
        "## Normalization block\n",
        "norm_layer = preprocessing.Normalization()\n",
        "norm_layer.adapt(X_train)\n",
        "X_train_n = norm_layer(X_train)\n",
        "X_test_n = norm_layer(X_test)\n",
        "\n",
        "# You can modify the data_augmentation variable below to add your\n",
        "# data augmentation pipeline.\n",
        "# By default we do not apply any augmentation (RandomZoom(0) is equivalent\n",
        "# to not performing any augmentation)\n",
        "\n",
        "data_augmentation = keras.Sequential(\n",
        "    [\n",
        "        preprocessing.RandomZoom(0)\n",
        "        #preprocessing.RandomZoom(0.15)\n",
        "    ]\n",
        ")\n",
        "#data_augmentation = keras.Sequential(\n",
        "#    [\n",
        "#        preprocessing.RandomRotation(0.5)\n",
        "        #preprocessing.RandomZoom(0.15)\n",
        "        #preprocessing.RandomRotation(0.15)\n",
        "#    ]\n",
        "#)\n",
        "# We will use glorot_uniform as a initialization by default\n",
        "initialization = 'glorot_uniform'\n",
        "# Use the architecture given below, only modify it to add Dropout/BatchNorm\n",
        "model = Sequential()\n",
        "model.add(data_augmentation)\n",
        "model.add(Conv2D(32, (3, 3), padding='same', kernel_initializer=initialization))\n",
        "model.add(Activation('relu'))\n",
        "model.add(MaxPooling2D(pool_size=(2, 2), strides=(2, 2), padding='same'))\n",
        "\n",
        "model.add(Conv2D(64, (3, 3), padding='same', kernel_initializer=initialization))\n",
        "model.add(Activation('relu'))\n",
        "model.add(MaxPooling2D(pool_size=(2, 2), strides=(2, 2), padding='same'))\n",
        "\n",
        "model.add(Conv2D(128, (3, 3), padding='same', kernel_initializer=initialization))\n",
        "model.add(Activation('relu'))\n",
        "model.add(MaxPooling2D(pool_size=(2, 2), strides=(2, 2), padding='same'))\n",
        "\n",
        "model.add(Conv2D(256, (3, 3), padding='same', kernel_initializer=initialization))\n",
        "model.add(Activation('relu'))\n",
        "# As we use global average pooling, we don't need to use Flatten\n",
        "model.add(GlobalAveragePooling2D())\n",
        "model.add(Dense(10, kernel_initializer=initialization))\n",
        "model.add(Activation('softmax'))\n",
        "\n",
        "\n",
        "Y_train_class = np_utils.to_categorical(y_train, 10)\n",
        "Y_test_class = np_utils.to_categorical(y_test, 10)\n",
        "# By default use Adam with lr=3e-4. Change it to SGD when asked to\n",
        "opt = Adam(lr=3e-4)\n",
        "model.compile(loss='categorical_crossentropy',\n",
        "              optimizer=opt,\n",
        "              metrics=['accuracy'])\n",
        "# Use 40 epochs as default value to plot your curves\n",
        "history = model.fit(X_train_n, Y_train_class, epochs=40, validation_data=(X_test_n,Y_test_class))"
      ],
      "execution_count": null,
      "outputs": [
        {
          "output_type": "stream",
          "text": [
            "Image shape: (32, 32, 3)\n",
            "Total number of training samples: 50000\n",
            "Total number of validation samples: 10000\n",
            "Epoch 1/40\n",
            "1563/1563 [==============================] - 8s 4ms/step - loss: 1.7753 - accuracy: 0.3443 - val_loss: 1.3302 - val_accuracy: 0.5222\n",
            "Epoch 2/40\n",
            "1563/1563 [==============================] - 7s 4ms/step - loss: 1.2438 - accuracy: 0.5550 - val_loss: 1.1133 - val_accuracy: 0.6012\n",
            "Epoch 3/40\n",
            "1563/1563 [==============================] - 7s 4ms/step - loss: 1.0443 - accuracy: 0.6340 - val_loss: 0.9712 - val_accuracy: 0.6587\n",
            "Epoch 4/40\n",
            "1563/1563 [==============================] - 6s 4ms/step - loss: 0.9225 - accuracy: 0.6749 - val_loss: 0.9957 - val_accuracy: 0.6484\n",
            "Epoch 5/40\n",
            "1563/1563 [==============================] - 6s 4ms/step - loss: 0.8338 - accuracy: 0.7095 - val_loss: 0.8808 - val_accuracy: 0.6889\n",
            "Epoch 6/40\n",
            "1563/1563 [==============================] - 7s 4ms/step - loss: 0.7641 - accuracy: 0.7328 - val_loss: 0.8054 - val_accuracy: 0.7202\n",
            "Epoch 7/40\n",
            "1563/1563 [==============================] - 7s 4ms/step - loss: 0.6900 - accuracy: 0.7580 - val_loss: 0.7786 - val_accuracy: 0.7327\n",
            "Epoch 8/40\n",
            "1563/1563 [==============================] - 7s 4ms/step - loss: 0.6389 - accuracy: 0.7796 - val_loss: 0.7218 - val_accuracy: 0.7511\n",
            "Epoch 9/40\n",
            "1563/1563 [==============================] - 6s 4ms/step - loss: 0.5853 - accuracy: 0.7959 - val_loss: 0.6862 - val_accuracy: 0.7615\n",
            "Epoch 10/40\n",
            "1563/1563 [==============================] - 6s 4ms/step - loss: 0.5455 - accuracy: 0.8110 - val_loss: 0.6824 - val_accuracy: 0.7604\n",
            "Epoch 11/40\n",
            "1563/1563 [==============================] - 6s 4ms/step - loss: 0.4939 - accuracy: 0.8292 - val_loss: 0.6872 - val_accuracy: 0.7657\n",
            "Epoch 12/40\n",
            "1563/1563 [==============================] - 6s 4ms/step - loss: 0.4519 - accuracy: 0.8423 - val_loss: 0.7048 - val_accuracy: 0.7577\n",
            "Epoch 13/40\n",
            "1563/1563 [==============================] - 6s 4ms/step - loss: 0.4132 - accuracy: 0.8580 - val_loss: 0.6670 - val_accuracy: 0.7744\n",
            "Epoch 14/40\n",
            "1563/1563 [==============================] - 7s 4ms/step - loss: 0.3774 - accuracy: 0.8702 - val_loss: 0.6450 - val_accuracy: 0.7845\n",
            "Epoch 15/40\n",
            "1563/1563 [==============================] - 7s 4ms/step - loss: 0.3417 - accuracy: 0.8804 - val_loss: 0.6566 - val_accuracy: 0.7853\n",
            "Epoch 16/40\n",
            "1563/1563 [==============================] - 6s 4ms/step - loss: 0.3071 - accuracy: 0.8943 - val_loss: 0.6492 - val_accuracy: 0.7847\n",
            "Epoch 17/40\n",
            "1563/1563 [==============================] - 7s 4ms/step - loss: 0.2756 - accuracy: 0.9075 - val_loss: 0.6650 - val_accuracy: 0.7849\n",
            "Epoch 18/40\n",
            "1563/1563 [==============================] - 6s 4ms/step - loss: 0.2437 - accuracy: 0.9167 - val_loss: 0.6918 - val_accuracy: 0.7821\n",
            "Epoch 19/40\n",
            "1563/1563 [==============================] - 7s 4ms/step - loss: 0.2156 - accuracy: 0.9270 - val_loss: 0.7073 - val_accuracy: 0.7883\n",
            "Epoch 20/40\n",
            "1563/1563 [==============================] - 7s 4ms/step - loss: 0.1864 - accuracy: 0.9384 - val_loss: 0.7257 - val_accuracy: 0.7897\n",
            "Epoch 21/40\n",
            "1563/1563 [==============================] - 7s 4ms/step - loss: 0.1629 - accuracy: 0.9457 - val_loss: 0.7439 - val_accuracy: 0.7897\n",
            "Epoch 22/40\n",
            "1563/1563 [==============================] - 7s 4ms/step - loss: 0.1435 - accuracy: 0.9547 - val_loss: 0.8188 - val_accuracy: 0.7814\n",
            "Epoch 23/40\n",
            "1563/1563 [==============================] - 6s 4ms/step - loss: 0.1292 - accuracy: 0.9578 - val_loss: 0.8015 - val_accuracy: 0.7888\n",
            "Epoch 24/40\n",
            "1563/1563 [==============================] - 6s 4ms/step - loss: 0.1014 - accuracy: 0.9687 - val_loss: 0.9021 - val_accuracy: 0.7735\n",
            "Epoch 25/40\n",
            "1563/1563 [==============================] - 7s 4ms/step - loss: 0.0907 - accuracy: 0.9718 - val_loss: 0.8935 - val_accuracy: 0.7863\n",
            "Epoch 26/40\n",
            "1563/1563 [==============================] - 6s 4ms/step - loss: 0.0772 - accuracy: 0.9763 - val_loss: 0.9371 - val_accuracy: 0.7882\n",
            "Epoch 27/40\n",
            "1563/1563 [==============================] - 6s 4ms/step - loss: 0.0684 - accuracy: 0.9802 - val_loss: 1.0185 - val_accuracy: 0.7753\n",
            "Epoch 28/40\n",
            "1563/1563 [==============================] - 7s 5ms/step - loss: 0.0656 - accuracy: 0.9786 - val_loss: 1.0758 - val_accuracy: 0.7718\n",
            "Epoch 29/40\n",
            "1563/1563 [==============================] - 7s 5ms/step - loss: 0.0549 - accuracy: 0.9831 - val_loss: 1.0419 - val_accuracy: 0.7865\n",
            "Epoch 30/40\n",
            "1563/1563 [==============================] - 7s 4ms/step - loss: 0.0530 - accuracy: 0.9832 - val_loss: 1.0292 - val_accuracy: 0.7905\n",
            "Epoch 31/40\n",
            "1563/1563 [==============================] - 7s 4ms/step - loss: 0.0403 - accuracy: 0.9880 - val_loss: 1.0849 - val_accuracy: 0.7828\n",
            "Epoch 32/40\n",
            "1563/1563 [==============================] - 7s 4ms/step - loss: 0.0438 - accuracy: 0.9856 - val_loss: 1.1032 - val_accuracy: 0.7846\n",
            "Epoch 33/40\n",
            "1563/1563 [==============================] - 7s 4ms/step - loss: 0.0435 - accuracy: 0.9869 - val_loss: 1.2691 - val_accuracy: 0.7777\n",
            "Epoch 34/40\n",
            "1563/1563 [==============================] - 7s 4ms/step - loss: 0.0319 - accuracy: 0.9906 - val_loss: 1.1650 - val_accuracy: 0.7865\n",
            "Epoch 35/40\n",
            "1563/1563 [==============================] - 7s 4ms/step - loss: 0.0339 - accuracy: 0.9897 - val_loss: 1.2984 - val_accuracy: 0.7688\n",
            "Epoch 36/40\n",
            "1563/1563 [==============================] - 7s 4ms/step - loss: 0.0409 - accuracy: 0.9880 - val_loss: 1.3455 - val_accuracy: 0.7730\n",
            "Epoch 37/40\n",
            "1563/1563 [==============================] - 7s 4ms/step - loss: 0.0395 - accuracy: 0.9874 - val_loss: 1.2587 - val_accuracy: 0.7831\n",
            "Epoch 38/40\n",
            "1563/1563 [==============================] - 7s 4ms/step - loss: 0.0297 - accuracy: 0.9909 - val_loss: 1.2058 - val_accuracy: 0.7891\n",
            "Epoch 39/40\n",
            "1563/1563 [==============================] - 7s 4ms/step - loss: 0.0330 - accuracy: 0.9895 - val_loss: 1.2457 - val_accuracy: 0.7923\n",
            "Epoch 40/40\n",
            "1563/1563 [==============================] - 7s 4ms/step - loss: 0.0243 - accuracy: 0.9921 - val_loss: 1.2309 - val_accuracy: 0.7896\n"
          ],
          "name": "stdout"
        }
      ]
    },
    {
      "cell_type": "code",
      "metadata": {
        "id": "rULb0NQKUbrQ"
      },
      "source": [
        "#no agumentation:\n",
        "#step 32: loss: 0.0467 - accuracy: 0.9860 - val_loss: 1.0614 - val_accuracy: 0.7929\n",
        "#step 40: loss: 0.0306 - accuracy: 0.9906 - val_loss: 1.2829 - val_accuracy: 0.7878\n",
        "train_noa=history.history['loss']\n",
        "test_noa=history.history['val_loss']"
      ],
      "execution_count": null,
      "outputs": []
    },
    {
      "cell_type": "code",
      "metadata": {
        "id": "castq8pzaBIw"
      },
      "source": [
        "# agumentation 1:   -0.3pi to 0.3pi, zoom 0.15 zoom factor\n",
        "#step 31:loss: 0.1401 - accuracy: 0.9519 - val_loss: 0.8301 - val_accuracy: 0.8012\n",
        "#step 40:loss: 0.0838 - accuracy: 0.9728 - val_loss: 0.9818 - val_accuracy: 0.7967\n",
        "train_1a=history.history['loss']\n",
        "test_1a=history.history['val_loss']"
      ],
      "execution_count": null,
      "outputs": []
    },
    {
      "cell_type": "code",
      "metadata": {
        "id": "la8NE8WpcJRD"
      },
      "source": [
        "# agumentation 2:   -pi to pi, zoom 0.8 zoom factor\n",
        "#step 31:loss: 0.7817 - accuracy: 0.7201 - val_loss: 0.9165 - val_accuracy: 0.6901\n",
        "#step 40:loss: 0.7793 - accuracy: 0.7266 - val_loss: 1.0655 - val_accuracy: 0.6531\n",
        "train_2a=history.history['loss']\n",
        "test_2a=history.history['val_loss']"
      ],
      "execution_count": null,
      "outputs": []
    },
    {
      "cell_type": "code",
      "metadata": {
        "colab": {
          "base_uri": "https://localhost:8080/",
          "height": 295
        },
        "id": "3nP4Di4ealKt",
        "outputId": "44a2ccd8-9280-496d-bc54-007911b0c472"
      },
      "source": [
        "### plot immediately\n",
        "import matplotlib.pyplot as plt\n",
        "plt.plot(history.history['loss'])\n",
        "#plt.plot(train_no)\n",
        "plt.plot(history.history['val_loss'])\n",
        "#plt.plot(test_no)\n",
        "\n",
        "plt.title('model train vs test loss')\n",
        "plt.ylabel('loss')\n",
        "plt.xlabel('epoch')\n",
        "plt.legend(['train', 'test'], loc='upper right')\n",
        "\n",
        "#plt.show()\n",
        "plt.savefig('/content/sample_data/augmentation_no.jpg')"
      ],
      "execution_count": null,
      "outputs": [
        {
          "output_type": "display_data",
          "data": {
            "image/png": "[encoded data removed]",
            "text/plain": [
              "<Figure size 432x288 with 1 Axes>"
            ]
          },
          "metadata": {
            "tags": [],
            "needs_background": "light"
          }
        }
      ]
    },
    {
      "cell_type": "code",
      "metadata": {
        "colab": {
          "base_uri": "https://localhost:8080/"
        },
        "id": "W6j3xfa3RPKe",
        "outputId": "1a84ded2-d42d-4010-826c-9f3eb0979993"
      },
      "source": [
        "#dropout/batch\n",
        "\n",
        "import numpy as np\n",
        "import keras\n",
        "from keras.layers import Conv2D, MaxPooling2D, GlobalAveragePooling2D\n",
        "from keras.models import Sequential\n",
        "from keras.layers import Dense, Dropout, Activation, BatchNormalization\n",
        "from keras.utils import np_utils\n",
        "from keras.datasets import cifar10\n",
        "from keras.optimizers import Adam, SGD\n",
        "from keras import regularizers\n",
        "from tensorflow.keras.layers.experimental import preprocessing\n",
        "\n",
        "# load the data\n",
        "(X_train, y_train), (X_test, y_test) = cifar10.load_data()\n",
        "\n",
        "print('Image shape: {0}'.format(X_train.shape[1:]))\n",
        "print('Total number of training samples: {0}'.format(X_train.shape[0]))\n",
        "print('Total number of validation samples: {0}'.format(X_test.shape[0]))\n",
        "\n",
        "X_train = X_train.reshape(-1,32,32,3)\n",
        "\n",
        "## Normalization block\n",
        "norm_layer = preprocessing.Normalization()\n",
        "norm_layer.adapt(X_train)\n",
        "X_train_n = norm_layer(X_train)\n",
        "X_test_n = norm_layer(X_test)\n",
        "\n",
        "# You can modify the data_augmentation variable below to add your\n",
        "# data augmentation pipeline.\n",
        "# By default we do not apply any augmentation (RandomZoom(0) is equivalent\n",
        "# to not performing any augmentation)\n",
        "\n",
        "data_augmentation = keras.Sequential(\n",
        "    [\n",
        "        preprocessing.RandomZoom(0)\n",
        "        #preprocessing.RandomRotation(0.5)\n",
        "    ]\n",
        ")\n",
        "\n",
        "# We will use glorot_uniform as a initialization by default\n",
        "initialization = 'glorot_uniform'\n",
        "# Use the architecture given below, only modify it to add Dropout/BatchNorm\n",
        "model = Sequential()\n",
        "model.add(data_augmentation)\n",
        "model.add(Conv2D(32, (3, 3), padding='same', kernel_initializer=initialization))\n",
        "model.add(Activation('relu'))\n",
        "model.add(Dropout(0.3))\n",
        "model.add(BatchNormalization())\n",
        "model.add(MaxPooling2D(pool_size=(2, 2), strides=(2, 2), padding='same'))\n",
        "\n",
        "model.add(Conv2D(64, (3, 3), padding='same', kernel_initializer=initialization))\n",
        "model.add(Activation('relu'))\n",
        "model.add(Dropout(0.3))\n",
        "model.add(BatchNormalization())\n",
        "model.add(MaxPooling2D(pool_size=(2, 2), strides=(2, 2), padding='same'))\n",
        "\n",
        "model.add(Conv2D(128, (3, 3), padding='same', kernel_initializer=initialization))\n",
        "model.add(Activation('relu'))\n",
        "model.add(Dropout(0.3))\n",
        "model.add(BatchNormalization())\n",
        "model.add(MaxPooling2D(pool_size=(2, 2), strides=(2, 2), padding='same'))\n",
        "\n",
        "model.add(Conv2D(256, (3, 3), padding='same', kernel_initializer=initialization))\n",
        "model.add(Activation('relu'))\n",
        "model.add(Dropout(0.3))\n",
        "model.add(BatchNormalization())\n",
        "# As we use global average pooling, we don't need to use Flatten\n",
        "model.add(GlobalAveragePooling2D())\n",
        "model.add(Dense(10, kernel_initializer=initialization))\n",
        "model.add(Activation('softmax'))\n",
        "\n",
        "\n",
        "Y_train_class = np_utils.to_categorical(y_train, 10)\n",
        "Y_test_class = np_utils.to_categorical(y_test, 10)\n",
        "# By default use Adam with lr=3e-4. Change it to SGD when asked to\n",
        "opt = Adam(lr=3e-4)\n",
        "model.compile(loss='categorical_crossentropy',\n",
        "              optimizer=opt,\n",
        "              metrics=['accuracy'])\n",
        "# Use 40 epochs as default value to plot your curves\n",
        "history = model.fit(X_train_n, Y_train_class, epochs=40, validation_data=(X_test_n,Y_test_class))"
      ],
      "execution_count": null,
      "outputs": [
        {
          "output_type": "stream",
          "text": [
            "Image shape: (32, 32, 3)\n",
            "Total number of training samples: 50000\n",
            "Total number of validation samples: 10000\n",
            "Epoch 1/40\n",
            "1563/1563 [==============================] - 9s 5ms/step - loss: 1.5191 - accuracy: 0.4501 - val_loss: 1.6885 - val_accuracy: 0.4070\n",
            "Epoch 2/40\n",
            "1563/1563 [==============================] - 8s 5ms/step - loss: 1.0414 - accuracy: 0.6316 - val_loss: 1.2422 - val_accuracy: 0.5616\n",
            "Epoch 3/40\n",
            "1563/1563 [==============================] - 8s 5ms/step - loss: 0.8756 - accuracy: 0.6924 - val_loss: 1.1888 - val_accuracy: 0.5746\n",
            "Epoch 4/40\n",
            "1563/1563 [==============================] - 8s 5ms/step - loss: 0.7707 - accuracy: 0.7323 - val_loss: 1.1767 - val_accuracy: 0.5973\n",
            "Epoch 5/40\n",
            "1563/1563 [==============================] - 8s 5ms/step - loss: 0.6964 - accuracy: 0.7587 - val_loss: 1.0907 - val_accuracy: 0.6205\n",
            "Epoch 6/40\n",
            "1563/1563 [==============================] - 8s 5ms/step - loss: 0.6379 - accuracy: 0.7799 - val_loss: 0.9009 - val_accuracy: 0.6899\n",
            "Epoch 7/40\n",
            "1563/1563 [==============================] - 8s 5ms/step - loss: 0.5945 - accuracy: 0.7922 - val_loss: 0.9891 - val_accuracy: 0.6630\n",
            "Epoch 8/40\n",
            "1563/1563 [==============================] - 8s 5ms/step - loss: 0.5649 - accuracy: 0.8037 - val_loss: 1.0379 - val_accuracy: 0.6514\n",
            "Epoch 9/40\n",
            "1563/1563 [==============================] - 8s 5ms/step - loss: 0.5314 - accuracy: 0.8176 - val_loss: 0.8567 - val_accuracy: 0.7055\n",
            "Epoch 10/40\n",
            "1563/1563 [==============================] - 8s 5ms/step - loss: 0.4963 - accuracy: 0.8274 - val_loss: 0.9055 - val_accuracy: 0.6907\n",
            "Epoch 11/40\n",
            "1563/1563 [==============================] - 8s 5ms/step - loss: 0.4735 - accuracy: 0.8345 - val_loss: 0.8368 - val_accuracy: 0.7195\n",
            "Epoch 12/40\n",
            "1563/1563 [==============================] - 8s 5ms/step - loss: 0.4543 - accuracy: 0.8408 - val_loss: 0.8076 - val_accuracy: 0.7309\n",
            "Epoch 13/40\n",
            "1563/1563 [==============================] - 8s 5ms/step - loss: 0.4386 - accuracy: 0.8471 - val_loss: 0.8199 - val_accuracy: 0.7291\n",
            "Epoch 14/40\n",
            "1563/1563 [==============================] - 8s 5ms/step - loss: 0.4171 - accuracy: 0.8520 - val_loss: 0.7830 - val_accuracy: 0.7343\n",
            "Epoch 15/40\n",
            "1563/1563 [==============================] - 8s 5ms/step - loss: 0.3957 - accuracy: 0.8625 - val_loss: 0.7709 - val_accuracy: 0.7387\n",
            "Epoch 16/40\n",
            "1563/1563 [==============================] - 9s 5ms/step - loss: 0.3873 - accuracy: 0.8676 - val_loss: 0.8376 - val_accuracy: 0.7220\n",
            "Epoch 17/40\n",
            "1563/1563 [==============================] - 8s 5ms/step - loss: 0.3762 - accuracy: 0.8681 - val_loss: 0.7929 - val_accuracy: 0.7342\n",
            "Epoch 18/40\n",
            "1563/1563 [==============================] - 8s 5ms/step - loss: 0.3605 - accuracy: 0.8740 - val_loss: 0.8105 - val_accuracy: 0.7303\n",
            "Epoch 19/40\n",
            "1563/1563 [==============================] - 8s 5ms/step - loss: 0.3525 - accuracy: 0.8751 - val_loss: 0.8407 - val_accuracy: 0.7264\n",
            "Epoch 20/40\n",
            "1563/1563 [==============================] - 8s 5ms/step - loss: 0.3401 - accuracy: 0.8804 - val_loss: 0.7747 - val_accuracy: 0.7418\n",
            "Epoch 21/40\n",
            "1563/1563 [==============================] - 8s 5ms/step - loss: 0.3349 - accuracy: 0.8831 - val_loss: 0.7673 - val_accuracy: 0.7439\n",
            "Epoch 22/40\n",
            "1563/1563 [==============================] - 8s 5ms/step - loss: 0.3184 - accuracy: 0.8888 - val_loss: 0.7445 - val_accuracy: 0.7553\n",
            "Epoch 23/40\n",
            "1563/1563 [==============================] - 8s 5ms/step - loss: 0.3150 - accuracy: 0.8911 - val_loss: 0.7600 - val_accuracy: 0.7459\n",
            "Epoch 24/40\n",
            "1563/1563 [==============================] - 8s 5ms/step - loss: 0.3039 - accuracy: 0.8910 - val_loss: 0.7730 - val_accuracy: 0.7476\n",
            "Epoch 25/40\n",
            "1563/1563 [==============================] - 8s 5ms/step - loss: 0.2991 - accuracy: 0.8948 - val_loss: 0.8371 - val_accuracy: 0.7301\n",
            "Epoch 26/40\n",
            "1563/1563 [==============================] - 8s 5ms/step - loss: 0.2815 - accuracy: 0.9019 - val_loss: 0.7485 - val_accuracy: 0.7561\n",
            "Epoch 27/40\n",
            "1563/1563 [==============================] - 8s 5ms/step - loss: 0.2840 - accuracy: 0.8975 - val_loss: 0.7701 - val_accuracy: 0.7459\n",
            "Epoch 28/40\n",
            "1563/1563 [==============================] - 8s 5ms/step - loss: 0.2775 - accuracy: 0.9026 - val_loss: 0.7751 - val_accuracy: 0.7500\n",
            "Epoch 29/40\n",
            "1563/1563 [==============================] - 8s 5ms/step - loss: 0.2668 - accuracy: 0.9038 - val_loss: 0.7250 - val_accuracy: 0.7670\n",
            "Epoch 30/40\n",
            "1563/1563 [==============================] - 8s 5ms/step - loss: 0.2605 - accuracy: 0.9084 - val_loss: 0.8182 - val_accuracy: 0.7408\n",
            "Epoch 31/40\n",
            "1563/1563 [==============================] - 8s 5ms/step - loss: 0.2605 - accuracy: 0.9088 - val_loss: 0.8902 - val_accuracy: 0.7214\n",
            "Epoch 32/40\n",
            "1563/1563 [==============================] - 8s 5ms/step - loss: 0.2504 - accuracy: 0.9092 - val_loss: 0.7246 - val_accuracy: 0.7633\n",
            "Epoch 33/40\n",
            "1563/1563 [==============================] - 8s 5ms/step - loss: 0.2476 - accuracy: 0.9116 - val_loss: 0.7540 - val_accuracy: 0.7585\n",
            "Epoch 34/40\n",
            "1563/1563 [==============================] - 8s 5ms/step - loss: 0.2456 - accuracy: 0.9139 - val_loss: 0.7649 - val_accuracy: 0.7539\n",
            "Epoch 35/40\n",
            "1563/1563 [==============================] - 8s 5ms/step - loss: 0.2471 - accuracy: 0.9134 - val_loss: 0.7514 - val_accuracy: 0.7540\n",
            "Epoch 36/40\n",
            "1563/1563 [==============================] - 8s 5ms/step - loss: 0.2402 - accuracy: 0.9157 - val_loss: 0.7825 - val_accuracy: 0.7498\n",
            "Epoch 37/40\n",
            "1563/1563 [==============================] - 8s 5ms/step - loss: 0.2358 - accuracy: 0.9169 - val_loss: 0.7907 - val_accuracy: 0.7477\n",
            "Epoch 38/40\n",
            "1563/1563 [==============================] - 8s 5ms/step - loss: 0.2302 - accuracy: 0.9182 - val_loss: 0.8308 - val_accuracy: 0.7369\n",
            "Epoch 39/40\n",
            "1563/1563 [==============================] - 8s 5ms/step - loss: 0.2255 - accuracy: 0.9207 - val_loss: 0.7730 - val_accuracy: 0.7593\n",
            "Epoch 40/40\n",
            "1563/1563 [==============================] - 8s 5ms/step - loss: 0.2216 - accuracy: 0.9216 - val_loss: 0.8515 - val_accuracy: 0.7317\n"
          ],
          "name": "stdout"
        }
      ]
    },
    {
      "cell_type": "code",
      "metadata": {
        "id": "oV12QXT5SEsG"
      },
      "source": [
        "###(baseline + Dropout, dropout 0.3\n",
        "##step 32: loss: 0.2541 - accuracy: 0.9100 - val_loss: 0.5387 - val_accuracy: 0.8236\n",
        "##step 40: loss: 0.2050 - accuracy: 0.9263 - val_loss: 0.5382 - val_accuracy: 0.8160\n",
        "\n",
        "train_bd=history.history['loss']\n",
        "test_bd=history.history['val_loss']"
      ],
      "execution_count": null,
      "outputs": []
    },
    {
      "cell_type": "code",
      "metadata": {
        "id": "rTJoeRb7URDq"
      },
      "source": [
        "###(baseline + batch, \n",
        "#loss: 0.0248 - accuracy: 0.9924 - val_loss: 1.1396 - val_accuracy: 0.7890\n",
        "\n",
        "train_bd=history.history['loss']\n",
        "test_bd=history.history['val_loss']"
      ],
      "execution_count": null,
      "outputs": []
    },
    {
      "cell_type": "code",
      "metadata": {
        "id": "xqJ3w0EIXKqc"
      },
      "source": [
        "###(baseline + batch+dropout0.3, \n",
        "#step 29: loss: 0.2668 - accuracy: 0.9038 - val_loss: 0.7250 - val_accuracy: 0.7670\n",
        "#step 40: loss: 0.2216 - accuracy: 0.9216 - val_loss: 0.8515 - val_accuracy: 0.7317\n",
        "\n",
        "train_bd=history.history['loss']\n",
        "test_bd=history.history['val_loss']"
      ],
      "execution_count": null,
      "outputs": []
    },
    {
      "cell_type": "code",
      "metadata": {
        "colab": {
          "base_uri": "https://localhost:8080/",
          "height": 295
        },
        "id": "CqCjlo2nUOmu",
        "outputId": "d38eb97a-a25e-475d-e992-7c0131ab5162"
      },
      "source": [
        "import matplotlib.pyplot as plt\n",
        "plt.plot(history.history['loss'])\n",
        "#plt.plot(train_no)\n",
        "plt.plot(history.history['val_loss'])\n",
        "#plt.plot(test_no)\n",
        "\n",
        "plt.title('model train vs test loss')\n",
        "plt.ylabel('loss')\n",
        "plt.xlabel('epoch')\n",
        "plt.legend(['train', 'test'], loc='upper right')\n",
        "\n",
        "plt.savefig('/content/sample_data/batch_dropout.jpg')"
      ],
      "execution_count": null,
      "outputs": [
        {
          "output_type": "display_data",
          "data": {
            "image/png": "[encoded data removed]",
            "text/plain": [
              "<Figure size 432x288 with 1 Axes>"
            ]
          },
          "metadata": {
            "tags": [],
            "needs_background": "light"
          }
        }
      ]
    },
    {
      "cell_type": "code",
      "metadata": {
        "id": "prEYJjRoxSIZ",
        "colab": {
          "base_uri": "https://localhost:8080/"
        },
        "outputId": "0e7c2915-7cd7-484b-bce5-85b9871641f1"
      },
      "source": [
        "###using zeros for the kernel initialization. Report the performance in the same table as in the dropout/batch normalization/data augmentation tasks.\n",
        "\n",
        "import numpy as np\n",
        "import keras\n",
        "from keras.layers import Conv2D, MaxPooling2D, GlobalAveragePooling2D\n",
        "from keras.models import Sequential\n",
        "from keras.layers import Dense, Dropout, Activation, BatchNormalization\n",
        "from keras.utils import np_utils\n",
        "from keras.datasets import cifar10\n",
        "from keras.optimizers import Adam, SGD\n",
        "from keras import regularizers\n",
        "from tensorflow.keras.layers.experimental import preprocessing\n",
        "\n",
        "# load the data\n",
        "(X_train, y_train), (X_test, y_test) = cifar10.load_data()\n",
        "\n",
        "print('Image shape: {0}'.format(X_train.shape[1:]))\n",
        "print('Total number of training samples: {0}'.format(X_train.shape[0]))\n",
        "print('Total number of validation samples: {0}'.format(X_test.shape[0]))\n",
        "\n",
        "X_train = X_train.reshape(-1,32,32,3)\n",
        "\n",
        "## Normalization block\n",
        "norm_layer = preprocessing.Normalization()\n",
        "norm_layer.adapt(X_train)\n",
        "X_train_n = norm_layer(X_train)\n",
        "X_test_n = norm_layer(X_test)\n",
        "\n",
        "# You can modify the data_augmentation variable below to add your\n",
        "# data augmentation pipeline.\n",
        "# By default we do not apply any augmentation (RandomZoom(0) is equivalent\n",
        "# to not performing any augmentation)\n",
        "data_augmentation = keras.Sequential(\n",
        "    [\n",
        "        preprocessing.RandomZoom(0)\n",
        "    ]\n",
        ")\n",
        "# We will use glorot_uniform as a initialization by default\n",
        "initialization = 'glorot_uniform'\n",
        "# Use the architecture given below, only modify it to add Dropout/BatchNorm\n",
        "model = Sequential()\n",
        "model.add(data_augmentation)\n",
        "model.add(Conv2D(32, (3, 3), padding='same', kernel_initializer=initialization))\n",
        "#model.add(Conv2D(32, (3, 3), padding='same', kernel_initializer='zeros'))\n",
        "model.add(Activation('relu'))\n",
        "model.add(MaxPooling2D(pool_size=(2, 2), strides=(2, 2), padding='same'))\n",
        "\n",
        "model.add(Conv2D(64, (3, 3), padding='same', kernel_initializer=initialization))\n",
        "#model.add(Conv2D(64, (3, 3), padding='same', kernel_initializer='zeros'))\n",
        "model.add(Activation('relu'))\n",
        "model.add(MaxPooling2D(pool_size=(2, 2), strides=(2, 2), padding='same'))\n",
        "\n",
        "model.add(Conv2D(128, (3, 3), padding='same', kernel_initializer=initialization))\n",
        "#model.add(Conv2D(128, (3, 3), padding='same', kernel_initializer='zeros'))\n",
        "model.add(Activation('relu'))\n",
        "model.add(MaxPooling2D(pool_size=(2, 2), strides=(2, 2), padding='same'))\n",
        "\n",
        "model.add(Conv2D(256, (3, 3), padding='same', kernel_initializer=initialization))\n",
        "#model.add(Conv2D(256, (3, 3), padding='same', kernel_initializer='zeros'))\n",
        "model.add(Activation('relu'))\n",
        "# As we use global average pooling, we don't need to use Flatten\n",
        "model.add(GlobalAveragePooling2D())\n",
        "#model.add(Dense(10, kernel_initializer=initialization))\n",
        "model.add(Dense(10,kernel_initializer='zeros'))\n",
        "model.add(Activation('softmax'))\n",
        "\n",
        "\n",
        "Y_train_class = np_utils.to_categorical(y_train, 10)\n",
        "Y_test_class = np_utils.to_categorical(y_test, 10)\n",
        "# By default use Adam with lr=3e-4. Change it to SGD when asked to\n",
        "opt = Adam(lr=3e-4)\n",
        "model.compile(loss='categorical_crossentropy',\n",
        "              optimizer=opt,\n",
        "              metrics=['accuracy'])\n",
        "# Use 40 epochs as default value to plot your curves\n",
        "history = model.fit(X_train_n, Y_train_class, epochs=40, validation_data=(X_test_n,Y_test_class))"
      ],
      "execution_count": null,
      "outputs": [
        {
          "output_type": "stream",
          "text": [
            "Image shape: (32, 32, 3)\n",
            "Total number of training samples: 50000\n",
            "Total number of validation samples: 10000\n",
            "Epoch 1/40\n",
            "1563/1563 [==============================] - 8s 4ms/step - loss: 1.9077 - accuracy: 0.2768 - val_loss: 1.4342 - val_accuracy: 0.4649\n",
            "Epoch 2/40\n",
            "1563/1563 [==============================] - 7s 4ms/step - loss: 1.4206 - accuracy: 0.4755 - val_loss: 1.2669 - val_accuracy: 0.5386\n",
            "Epoch 3/40\n",
            "1563/1563 [==============================] - 7s 4ms/step - loss: 1.2201 - accuracy: 0.5546 - val_loss: 1.1061 - val_accuracy: 0.6077\n",
            "Epoch 4/40\n",
            "1563/1563 [==============================] - 7s 4ms/step - loss: 1.0824 - accuracy: 0.6115 - val_loss: 1.0627 - val_accuracy: 0.6142\n",
            "Epoch 5/40\n",
            "1563/1563 [==============================] - 7s 4ms/step - loss: 0.9900 - accuracy: 0.6491 - val_loss: 0.9734 - val_accuracy: 0.6542\n",
            "Epoch 6/40\n",
            "1563/1563 [==============================] - 7s 4ms/step - loss: 0.9149 - accuracy: 0.6755 - val_loss: 0.9036 - val_accuracy: 0.6790\n",
            "Epoch 7/40\n",
            "1563/1563 [==============================] - 7s 4ms/step - loss: 0.8382 - accuracy: 0.7054 - val_loss: 0.8979 - val_accuracy: 0.6860\n",
            "Epoch 8/40\n",
            "1563/1563 [==============================] - 7s 4ms/step - loss: 0.7829 - accuracy: 0.7238 - val_loss: 0.8605 - val_accuracy: 0.6938\n",
            "Epoch 9/40\n",
            "1563/1563 [==============================] - 7s 4ms/step - loss: 0.7192 - accuracy: 0.7477 - val_loss: 0.7887 - val_accuracy: 0.7339\n",
            "Epoch 10/40\n",
            "1563/1563 [==============================] - 7s 4ms/step - loss: 0.6720 - accuracy: 0.7663 - val_loss: 0.7580 - val_accuracy: 0.7359\n",
            "Epoch 11/40\n",
            "1563/1563 [==============================] - 7s 4ms/step - loss: 0.6200 - accuracy: 0.7846 - val_loss: 0.7573 - val_accuracy: 0.7373\n",
            "Epoch 12/40\n",
            "1563/1563 [==============================] - 7s 4ms/step - loss: 0.5760 - accuracy: 0.8007 - val_loss: 0.7007 - val_accuracy: 0.7654\n",
            "Epoch 13/40\n",
            "1563/1563 [==============================] - 7s 4ms/step - loss: 0.5386 - accuracy: 0.8145 - val_loss: 0.6744 - val_accuracy: 0.7652\n",
            "Epoch 14/40\n",
            "1563/1563 [==============================] - 7s 4ms/step - loss: 0.4977 - accuracy: 0.8256 - val_loss: 0.7032 - val_accuracy: 0.7600\n",
            "Epoch 15/40\n",
            "1563/1563 [==============================] - 7s 4ms/step - loss: 0.4648 - accuracy: 0.8376 - val_loss: 0.7142 - val_accuracy: 0.7650\n",
            "Epoch 16/40\n",
            "1563/1563 [==============================] - 7s 4ms/step - loss: 0.4363 - accuracy: 0.8459 - val_loss: 0.7013 - val_accuracy: 0.7708\n",
            "Epoch 17/40\n",
            "1563/1563 [==============================] - 7s 4ms/step - loss: 0.4063 - accuracy: 0.8577 - val_loss: 0.6919 - val_accuracy: 0.7697\n",
            "Epoch 18/40\n",
            "1563/1563 [==============================] - 7s 4ms/step - loss: 0.3717 - accuracy: 0.8744 - val_loss: 0.6705 - val_accuracy: 0.7786\n",
            "Epoch 19/40\n",
            "1563/1563 [==============================] - 7s 4ms/step - loss: 0.3345 - accuracy: 0.8843 - val_loss: 0.7006 - val_accuracy: 0.7789\n",
            "Epoch 20/40\n",
            "1563/1563 [==============================] - 7s 4ms/step - loss: 0.3135 - accuracy: 0.8933 - val_loss: 0.6652 - val_accuracy: 0.7871\n",
            "Epoch 21/40\n",
            "1563/1563 [==============================] - 7s 4ms/step - loss: 0.2802 - accuracy: 0.9054 - val_loss: 0.6891 - val_accuracy: 0.7859\n",
            "Epoch 22/40\n",
            "1563/1563 [==============================] - 7s 4ms/step - loss: 0.2587 - accuracy: 0.9120 - val_loss: 0.7380 - val_accuracy: 0.7762\n",
            "Epoch 23/40\n",
            "1563/1563 [==============================] - 7s 4ms/step - loss: 0.2284 - accuracy: 0.9220 - val_loss: 0.6983 - val_accuracy: 0.7902\n",
            "Epoch 24/40\n",
            "1563/1563 [==============================] - 7s 4ms/step - loss: 0.2035 - accuracy: 0.9320 - val_loss: 0.7473 - val_accuracy: 0.7871\n",
            "Epoch 25/40\n",
            "1563/1563 [==============================] - 7s 4ms/step - loss: 0.1849 - accuracy: 0.9382 - val_loss: 0.7629 - val_accuracy: 0.7881\n",
            "Epoch 26/40\n",
            "1563/1563 [==============================] - 7s 4ms/step - loss: 0.1628 - accuracy: 0.9468 - val_loss: 0.8096 - val_accuracy: 0.7832\n",
            "Epoch 27/40\n",
            "1563/1563 [==============================] - 7s 4ms/step - loss: 0.1452 - accuracy: 0.9516 - val_loss: 0.8083 - val_accuracy: 0.7864\n",
            "Epoch 28/40\n",
            "1563/1563 [==============================] - 7s 4ms/step - loss: 0.1264 - accuracy: 0.9582 - val_loss: 0.8474 - val_accuracy: 0.7845\n",
            "Epoch 29/40\n",
            "1563/1563 [==============================] - 7s 4ms/step - loss: 0.1023 - accuracy: 0.9683 - val_loss: 0.8767 - val_accuracy: 0.7838\n",
            "Epoch 30/40\n",
            "1563/1563 [==============================] - 7s 4ms/step - loss: 0.0958 - accuracy: 0.9693 - val_loss: 0.8829 - val_accuracy: 0.7856\n",
            "Epoch 31/40\n",
            "1563/1563 [==============================] - 7s 4ms/step - loss: 0.0849 - accuracy: 0.9732 - val_loss: 0.9568 - val_accuracy: 0.7815\n",
            "Epoch 32/40\n",
            "1563/1563 [==============================] - 7s 4ms/step - loss: 0.0659 - accuracy: 0.9795 - val_loss: 0.9648 - val_accuracy: 0.7902\n",
            "Epoch 33/40\n",
            "1563/1563 [==============================] - 7s 4ms/step - loss: 0.0664 - accuracy: 0.9797 - val_loss: 0.9710 - val_accuracy: 0.7881\n",
            "Epoch 34/40\n",
            "1563/1563 [==============================] - 7s 4ms/step - loss: 0.0508 - accuracy: 0.9860 - val_loss: 1.0791 - val_accuracy: 0.7818\n",
            "Epoch 35/40\n",
            "1563/1563 [==============================] - 7s 4ms/step - loss: 0.0501 - accuracy: 0.9858 - val_loss: 1.0557 - val_accuracy: 0.7912\n",
            "Epoch 36/40\n",
            "1563/1563 [==============================] - 7s 4ms/step - loss: 0.0569 - accuracy: 0.9809 - val_loss: 1.1070 - val_accuracy: 0.7844\n",
            "Epoch 37/40\n",
            "1563/1563 [==============================] - 7s 4ms/step - loss: 0.0425 - accuracy: 0.9878 - val_loss: 1.1113 - val_accuracy: 0.7902\n",
            "Epoch 38/40\n",
            "1563/1563 [==============================] - 7s 4ms/step - loss: 0.0378 - accuracy: 0.9883 - val_loss: 1.1332 - val_accuracy: 0.7846\n",
            "Epoch 39/40\n",
            "1563/1563 [==============================] - 7s 4ms/step - loss: 0.0398 - accuracy: 0.9886 - val_loss: 1.1477 - val_accuracy: 0.7857\n",
            "Epoch 40/40\n",
            "1563/1563 [==============================] - 7s 4ms/step - loss: 0.0470 - accuracy: 0.9850 - val_loss: 1.1662 - val_accuracy: 0.7922\n"
          ],
          "name": "stdout"
        }
      ]
    },
    {
      "cell_type": "code",
      "metadata": {
        "id": "bUoA0OfZFp8g"
      },
      "source": [
        "###kernel\n",
        "##step 38: loss: 0.0306 - accuracy: 0.9910 - val_loss: 1.1449 - val_accuracy: 0.7947\n",
        "##step 40: loss: 0.0286 - accuracy: 0.9917 - val_loss: 1.3301 - val_accuracy: 0.7810"
      ],
      "execution_count": null,
      "outputs": []
    },
    {
      "cell_type": "code",
      "metadata": {
        "id": "DljHJRlVlI1T"
      },
      "source": [
        "## Dense intialize 0\n",
        "#loss: 0.0406 - accuracy: 0.9878 - val_loss: 1.0852 - val_accuracy: 0.7943\n",
        "train_dense_0=history.history['loss']\n",
        "test_dense_0=history.history['val_loss']"
      ],
      "execution_count": null,
      "outputs": []
    },
    {
      "cell_type": "code",
      "metadata": {
        "id": "8IcxDM3TpBeu"
      },
      "source": [
        "## CNN intialize 0\n",
        "#loss: loss: 2.3026 - accuracy: 0.0991 - val_loss: 2.3026 - val_accuracy: 0.1000\n",
        "train_dense_0=history.history['loss']\n",
        "test_dense_0=history.history['val_loss']"
      ],
      "execution_count": null,
      "outputs": []
    },
    {
      "cell_type": "code",
      "metadata": {
        "colab": {
          "base_uri": "https://localhost:8080/",
          "height": 313
        },
        "id": "nS27mbkgF8qt",
        "outputId": "d4b495a2-c69f-4e13-d0a5-6ff93c6d54ae"
      },
      "source": [
        "import matplotlib.pyplot as plt\n",
        "plt.plot(history.history['loss'])\n",
        "#plt.plot(train_dense_0)\n",
        "plt.plot(history.history['val_loss'])\n",
        "#plt.plot(test_dense_0)\n",
        "\n",
        "plt.title('model train vs test loss')\n",
        "plt.ylabel('loss')\n",
        "plt.xlabel('epoch')\n",
        "plt.legend(['train', 'test'], loc='upper right')\n",
        "\n",
        "#plt.savefig('/content/sample_data/initial_0_dense.jpg')"
      ],
      "execution_count": null,
      "outputs": [
        {
          "output_type": "execute_result",
          "data": {
            "text/plain": [
              "<matplotlib.legend.Legend at 0x7fdaa6c46ef0>"
            ]
          },
          "metadata": {
            "tags": []
          },
          "execution_count": 34
        },
        {
          "output_type": "display_data",
          "data": {
            "image/png": "[encoded data removed]",
            "text/plain": [
              "<Figure size 432x288 with 1 Axes>"
            ]
          },
          "metadata": {
            "tags": [],
            "needs_background": "light"
          }
        }
      ]
    },
    {
      "cell_type": "code",
      "metadata": {
        "id": "YBcwUhGExXP3",
        "colab": {
          "base_uri": "https://localhost:8080/"
        },
        "outputId": "64bf9d95-f03b-46bc-add0-f2eebdd62ea8"
      },
      "source": [
        "####change the optimizer to SGD and train it with learning rates of 3e-3, 1e-3 and 3e-4. Report in a figure the training and validation loss for the three learning rate values and discuss the figure.\n",
        "\n",
        "import numpy as np\n",
        "import keras\n",
        "from keras.layers import Conv2D, MaxPooling2D, GlobalAveragePooling2D\n",
        "from keras.models import Sequential\n",
        "from keras.layers import Dense, Dropout, Activation, BatchNormalization\n",
        "from keras.utils import np_utils\n",
        "from keras.datasets import cifar10\n",
        "from keras.optimizers import Adam, SGD\n",
        "from keras import regularizers\n",
        "from tensorflow.keras.layers.experimental import preprocessing\n",
        "\n",
        "# load the data\n",
        "(X_train, y_train), (X_test, y_test) = cifar10.load_data()\n",
        "\n",
        "print('Image shape: {0}'.format(X_train.shape[1:]))\n",
        "print('Total number of training samples: {0}'.format(X_train.shape[0]))\n",
        "print('Total number of validation samples: {0}'.format(X_test.shape[0]))\n",
        "\n",
        "X_train = X_train.reshape(-1,32,32,3)\n",
        "\n",
        "## Normalization block\n",
        "norm_layer = preprocessing.Normalization()\n",
        "norm_layer.adapt(X_train)\n",
        "X_train_n = norm_layer(X_train)\n",
        "X_test_n = norm_layer(X_test)\n",
        "\n",
        "# You can modify the data_augmentation variable below to add your\n",
        "# data augmentation pipeline.\n",
        "# By default we do not apply any augmentation (RandomZoom(0) is equivalent\n",
        "# to not performing any augmentation)\n",
        "data_augmentation = keras.Sequential(\n",
        "    [\n",
        "        preprocessing.RandomZoom(0)\n",
        "    ]\n",
        ")\n",
        "# We will use glorot_uniform as a initialization by default\n",
        "initialization = 'glorot_uniform'\n",
        "# Use the architecture given below, only modify it to add Dropout/BatchNorm\n",
        "model = Sequential()\n",
        "model.add(data_augmentation)\n",
        "model.add(Conv2D(32, (3, 3), padding='same', kernel_initializer=initialization))\n",
        "model.add(Activation('relu'))\n",
        "model.add(MaxPooling2D(pool_size=(2, 2), strides=(2, 2), padding='same'))\n",
        "\n",
        "model.add(Conv2D(64, (3, 3), padding='same', kernel_initializer=initialization))\n",
        "model.add(Activation('relu'))\n",
        "model.add(MaxPooling2D(pool_size=(2, 2), strides=(2, 2), padding='same'))\n",
        "\n",
        "model.add(Conv2D(128, (3, 3), padding='same', kernel_initializer=initialization))\n",
        "model.add(Activation('relu'))\n",
        "model.add(MaxPooling2D(pool_size=(2, 2), strides=(2, 2), padding='same'))\n",
        "\n",
        "model.add(Conv2D(256, (3, 3), padding='same', kernel_initializer=initialization))\n",
        "model.add(Activation('relu'))\n",
        "# As we use global average pooling, we don't need to use Flatten\n",
        "model.add(GlobalAveragePooling2D())\n",
        "model.add(Dense(10, kernel_initializer=initialization))\n",
        "model.add(Activation('softmax'))\n",
        "\n",
        "\n",
        "Y_train_class = np_utils.to_categorical(y_train, 10)\n",
        "Y_test_class = np_utils.to_categorical(y_test, 10)\n",
        "# By default use Adam with lr=3e-4. Change it to SGD when asked to\n",
        "opt = Adam(lr=3e-3)\n",
        "model.compile(loss='categorical_crossentropy',\n",
        "              optimizer=opt,\n",
        "              metrics=['accuracy'])\n",
        "# Use 40 epochs as default value to plot your curves\n",
        "history = model.fit(X_train_n, Y_train_class, epochs=120, validation_data=(X_test_n,Y_test_class))"
      ],
      "execution_count": null,
      "outputs": [
        {
          "output_type": "stream",
          "text": [
            "Image shape: (32, 32, 3)\n",
            "Total number of training samples: 50000\n",
            "Total number of validation samples: 10000\n",
            "Epoch 1/120\n",
            "1563/1563 [==============================] - 8s 4ms/step - loss: 1.7548 - accuracy: 0.3353 - val_loss: 1.2123 - val_accuracy: 0.5523\n",
            "Epoch 2/120\n",
            "1563/1563 [==============================] - 7s 4ms/step - loss: 1.1025 - accuracy: 0.6061 - val_loss: 0.9884 - val_accuracy: 0.6505\n",
            "Epoch 3/120\n",
            "1563/1563 [==============================] - 7s 4ms/step - loss: 0.9126 - accuracy: 0.6769 - val_loss: 0.9291 - val_accuracy: 0.6752\n",
            "Epoch 4/120\n",
            "1563/1563 [==============================] - 7s 4ms/step - loss: 0.7984 - accuracy: 0.7188 - val_loss: 0.8583 - val_accuracy: 0.7073\n",
            "Epoch 5/120\n",
            "1563/1563 [==============================] - 7s 4ms/step - loss: 0.7142 - accuracy: 0.7455 - val_loss: 0.8576 - val_accuracy: 0.7066\n",
            "Epoch 6/120\n",
            "1563/1563 [==============================] - 7s 4ms/step - loss: 0.6504 - accuracy: 0.7700 - val_loss: 0.8587 - val_accuracy: 0.7125\n",
            "Epoch 7/120\n",
            "1563/1563 [==============================] - 7s 4ms/step - loss: 0.5975 - accuracy: 0.7896 - val_loss: 0.8536 - val_accuracy: 0.7205\n",
            "Epoch 8/120\n",
            "1563/1563 [==============================] - 7s 4ms/step - loss: 0.5540 - accuracy: 0.8032 - val_loss: 0.8995 - val_accuracy: 0.7054\n",
            "Epoch 9/120\n",
            "1563/1563 [==============================] - 7s 4ms/step - loss: 0.5130 - accuracy: 0.8200 - val_loss: 0.9270 - val_accuracy: 0.7187\n",
            "Epoch 10/120\n",
            "1563/1563 [==============================] - 7s 4ms/step - loss: 0.4628 - accuracy: 0.8368 - val_loss: 0.9285 - val_accuracy: 0.7193\n",
            "Epoch 11/120\n",
            "1563/1563 [==============================] - 7s 4ms/step - loss: 0.4292 - accuracy: 0.8472 - val_loss: 0.9745 - val_accuracy: 0.7166\n",
            "Epoch 12/120\n",
            "1563/1563 [==============================] - 7s 4ms/step - loss: 0.3905 - accuracy: 0.8593 - val_loss: 0.9916 - val_accuracy: 0.7107\n",
            "Epoch 13/120\n",
            "1563/1563 [==============================] - 7s 4ms/step - loss: 0.3625 - accuracy: 0.8724 - val_loss: 1.1208 - val_accuracy: 0.7036\n",
            "Epoch 14/120\n",
            "1563/1563 [==============================] - 7s 4ms/step - loss: 0.3392 - accuracy: 0.8788 - val_loss: 1.1189 - val_accuracy: 0.7007\n",
            "Epoch 15/120\n",
            "1563/1563 [==============================] - 7s 4ms/step - loss: 0.3163 - accuracy: 0.8881 - val_loss: 1.2276 - val_accuracy: 0.7074\n",
            "Epoch 16/120\n",
            "1563/1563 [==============================] - 7s 4ms/step - loss: 0.2936 - accuracy: 0.8964 - val_loss: 1.2377 - val_accuracy: 0.7117\n",
            "Epoch 17/120\n",
            "1563/1563 [==============================] - 7s 4ms/step - loss: 0.2701 - accuracy: 0.9037 - val_loss: 1.2667 - val_accuracy: 0.7111\n",
            "Epoch 18/120\n",
            "1563/1563 [==============================] - 7s 4ms/step - loss: 0.2580 - accuracy: 0.9110 - val_loss: 1.3823 - val_accuracy: 0.7092\n",
            "Epoch 19/120\n",
            "1563/1563 [==============================] - 7s 4ms/step - loss: 0.2443 - accuracy: 0.9142 - val_loss: 1.4393 - val_accuracy: 0.7013\n",
            "Epoch 20/120\n",
            "1563/1563 [==============================] - 7s 5ms/step - loss: 0.2285 - accuracy: 0.9200 - val_loss: 1.4050 - val_accuracy: 0.7018\n",
            "Epoch 21/120\n",
            "1563/1563 [==============================] - 7s 4ms/step - loss: 0.2145 - accuracy: 0.9270 - val_loss: 1.5726 - val_accuracy: 0.6930\n",
            "Epoch 22/120\n",
            "1563/1563 [==============================] - 7s 4ms/step - loss: 0.2164 - accuracy: 0.9233 - val_loss: 1.6608 - val_accuracy: 0.6944\n",
            "Epoch 23/120\n",
            "1563/1563 [==============================] - 7s 4ms/step - loss: 0.1870 - accuracy: 0.9354 - val_loss: 1.6963 - val_accuracy: 0.6925\n",
            "Epoch 24/120\n",
            "1563/1563 [==============================] - 7s 4ms/step - loss: 0.1893 - accuracy: 0.9353 - val_loss: 1.6794 - val_accuracy: 0.6930\n",
            "Epoch 25/120\n",
            "1563/1563 [==============================] - 7s 4ms/step - loss: 0.2002 - accuracy: 0.9338 - val_loss: 1.8491 - val_accuracy: 0.6952\n",
            "Epoch 26/120\n",
            "1563/1563 [==============================] - 7s 4ms/step - loss: 0.1860 - accuracy: 0.9380 - val_loss: 1.9662 - val_accuracy: 0.6787\n",
            "Epoch 27/120\n",
            "1563/1563 [==============================] - 7s 4ms/step - loss: 0.1787 - accuracy: 0.9396 - val_loss: 1.9631 - val_accuracy: 0.6928\n",
            "Epoch 28/120\n",
            "1563/1563 [==============================] - 7s 4ms/step - loss: 0.1798 - accuracy: 0.9404 - val_loss: 1.9166 - val_accuracy: 0.6935\n",
            "Epoch 29/120\n",
            "1563/1563 [==============================] - 7s 4ms/step - loss: 0.1938 - accuracy: 0.9360 - val_loss: 1.9659 - val_accuracy: 0.6881\n",
            "Epoch 30/120\n",
            "1563/1563 [==============================] - 7s 4ms/step - loss: 0.1824 - accuracy: 0.9408 - val_loss: 1.9144 - val_accuracy: 0.6926\n",
            "Epoch 31/120\n",
            "1563/1563 [==============================] - 7s 4ms/step - loss: 0.1651 - accuracy: 0.9463 - val_loss: 2.3038 - val_accuracy: 0.6866\n",
            "Epoch 32/120\n",
            "1563/1563 [==============================] - 7s 4ms/step - loss: 0.1864 - accuracy: 0.9399 - val_loss: 2.1559 - val_accuracy: 0.6976\n",
            "Epoch 33/120\n",
            "1563/1563 [==============================] - 7s 4ms/step - loss: 0.1715 - accuracy: 0.9470 - val_loss: 2.1235 - val_accuracy: 0.6938\n",
            "Epoch 34/120\n",
            "1563/1563 [==============================] - 7s 4ms/step - loss: 0.1758 - accuracy: 0.9468 - val_loss: 2.2620 - val_accuracy: 0.6984\n",
            "Epoch 35/120\n",
            "1563/1563 [==============================] - 7s 4ms/step - loss: 0.1644 - accuracy: 0.9474 - val_loss: 2.2392 - val_accuracy: 0.6810\n",
            "Epoch 36/120\n",
            "1563/1563 [==============================] - 7s 4ms/step - loss: 0.1731 - accuracy: 0.9474 - val_loss: 2.2275 - val_accuracy: 0.6915\n",
            "Epoch 37/120\n",
            "1563/1563 [==============================] - 7s 4ms/step - loss: 0.1615 - accuracy: 0.9486 - val_loss: 2.4266 - val_accuracy: 0.6893\n",
            "Epoch 38/120\n",
            "1563/1563 [==============================] - 7s 4ms/step - loss: 0.1717 - accuracy: 0.9474 - val_loss: 2.6629 - val_accuracy: 0.6863\n",
            "Epoch 39/120\n",
            "1563/1563 [==============================] - 7s 4ms/step - loss: 0.1557 - accuracy: 0.9511 - val_loss: 2.5157 - val_accuracy: 0.6914\n",
            "Epoch 40/120\n",
            "1563/1563 [==============================] - 7s 4ms/step - loss: 0.1815 - accuracy: 0.9469 - val_loss: 2.3732 - val_accuracy: 0.6941\n",
            "Epoch 41/120\n",
            "1563/1563 [==============================] - 7s 4ms/step - loss: 0.1641 - accuracy: 0.9502 - val_loss: 2.3888 - val_accuracy: 0.6843\n",
            "Epoch 42/120\n",
            "1563/1563 [==============================] - 7s 4ms/step - loss: 0.1651 - accuracy: 0.9503 - val_loss: 2.4779 - val_accuracy: 0.6954\n",
            "Epoch 43/120\n",
            "1563/1563 [==============================] - 7s 4ms/step - loss: 0.1570 - accuracy: 0.9538 - val_loss: 2.6327 - val_accuracy: 0.6846\n",
            "Epoch 44/120\n",
            "1563/1563 [==============================] - 7s 4ms/step - loss: 0.1480 - accuracy: 0.9549 - val_loss: 2.6676 - val_accuracy: 0.6872\n",
            "Epoch 45/120\n",
            "1563/1563 [==============================] - 7s 4ms/step - loss: 0.1497 - accuracy: 0.9554 - val_loss: 2.5251 - val_accuracy: 0.6822\n",
            "Epoch 46/120\n",
            "1563/1563 [==============================] - 7s 4ms/step - loss: 0.1689 - accuracy: 0.9520 - val_loss: 2.7403 - val_accuracy: 0.6888\n",
            "Epoch 47/120\n",
            "1563/1563 [==============================] - 7s 4ms/step - loss: 0.1608 - accuracy: 0.9531 - val_loss: 2.5604 - val_accuracy: 0.6785\n",
            "Epoch 48/120\n",
            "1563/1563 [==============================] - 7s 4ms/step - loss: 0.1685 - accuracy: 0.9523 - val_loss: 2.7431 - val_accuracy: 0.6896\n",
            "Epoch 49/120\n",
            "1563/1563 [==============================] - 7s 4ms/step - loss: 0.1494 - accuracy: 0.9575 - val_loss: 2.6060 - val_accuracy: 0.6880\n",
            "Epoch 50/120\n",
            "1563/1563 [==============================] - 7s 4ms/step - loss: 0.1536 - accuracy: 0.9548 - val_loss: 2.8035 - val_accuracy: 0.6943\n",
            "Epoch 51/120\n",
            "1563/1563 [==============================] - 7s 4ms/step - loss: 0.1447 - accuracy: 0.9571 - val_loss: 2.9033 - val_accuracy: 0.6928\n",
            "Epoch 52/120\n",
            "1563/1563 [==============================] - 7s 4ms/step - loss: 0.1505 - accuracy: 0.9588 - val_loss: 2.9041 - val_accuracy: 0.6846\n",
            "Epoch 53/120\n",
            "1563/1563 [==============================] - 7s 4ms/step - loss: 0.1605 - accuracy: 0.9572 - val_loss: 3.0089 - val_accuracy: 0.6840\n",
            "Epoch 54/120\n",
            "1563/1563 [==============================] - 7s 4ms/step - loss: 0.1564 - accuracy: 0.9573 - val_loss: 3.0366 - val_accuracy: 0.6777\n",
            "Epoch 55/120\n",
            "1563/1563 [==============================] - 7s 4ms/step - loss: 0.1708 - accuracy: 0.9543 - val_loss: 3.0152 - val_accuracy: 0.6913\n",
            "Epoch 56/120\n",
            "1563/1563 [==============================] - 7s 4ms/step - loss: 0.1653 - accuracy: 0.9561 - val_loss: 3.4420 - val_accuracy: 0.6895\n",
            "Epoch 57/120\n",
            "1563/1563 [==============================] - 7s 4ms/step - loss: 0.1655 - accuracy: 0.9560 - val_loss: 3.0287 - val_accuracy: 0.6923\n",
            "Epoch 58/120\n",
            "1563/1563 [==============================] - 7s 4ms/step - loss: 0.1419 - accuracy: 0.9613 - val_loss: 3.3209 - val_accuracy: 0.6839\n",
            "Epoch 59/120\n",
            "1563/1563 [==============================] - 7s 4ms/step - loss: 0.1750 - accuracy: 0.9566 - val_loss: 3.1134 - val_accuracy: 0.6822\n",
            "Epoch 60/120\n",
            "1563/1563 [==============================] - 7s 4ms/step - loss: 0.1267 - accuracy: 0.9643 - val_loss: 3.4508 - val_accuracy: 0.6842\n",
            "Epoch 61/120\n",
            "1563/1563 [==============================] - 7s 4ms/step - loss: 0.1665 - accuracy: 0.9569 - val_loss: 3.2341 - val_accuracy: 0.6920\n",
            "Epoch 62/120\n",
            "1563/1563 [==============================] - 7s 4ms/step - loss: 0.1498 - accuracy: 0.9603 - val_loss: 3.4099 - val_accuracy: 0.6849\n",
            "Epoch 63/120\n",
            "1563/1563 [==============================] - 7s 4ms/step - loss: 0.1485 - accuracy: 0.9599 - val_loss: 3.5309 - val_accuracy: 0.6868\n",
            "Epoch 64/120\n",
            "1563/1563 [==============================] - 7s 4ms/step - loss: 0.1477 - accuracy: 0.9626 - val_loss: 3.3127 - val_accuracy: 0.6805\n",
            "Epoch 65/120\n",
            "1563/1563 [==============================] - 7s 4ms/step - loss: 0.1491 - accuracy: 0.9608 - val_loss: 3.5968 - val_accuracy: 0.6830\n",
            "Epoch 66/120\n",
            "1563/1563 [==============================] - 7s 4ms/step - loss: 0.1588 - accuracy: 0.9598 - val_loss: 3.5424 - val_accuracy: 0.6866\n",
            "Epoch 67/120\n",
            "1563/1563 [==============================] - 7s 5ms/step - loss: 0.1525 - accuracy: 0.9619 - val_loss: 3.3582 - val_accuracy: 0.6941\n",
            "Epoch 68/120\n",
            "1563/1563 [==============================] - 7s 4ms/step - loss: 0.1302 - accuracy: 0.9648 - val_loss: 4.0062 - val_accuracy: 0.6796\n",
            "Epoch 69/120\n",
            "1563/1563 [==============================] - 7s 4ms/step - loss: 0.1801 - accuracy: 0.9565 - val_loss: 3.8304 - val_accuracy: 0.6781\n",
            "Epoch 70/120\n",
            "1563/1563 [==============================] - 7s 4ms/step - loss: 0.1751 - accuracy: 0.9586 - val_loss: 3.5673 - val_accuracy: 0.6831\n",
            "Epoch 71/120\n",
            "1563/1563 [==============================] - 7s 4ms/step - loss: 0.1515 - accuracy: 0.9630 - val_loss: 4.0428 - val_accuracy: 0.6900\n",
            "Epoch 72/120\n",
            "1563/1563 [==============================] - 7s 4ms/step - loss: 0.1622 - accuracy: 0.9616 - val_loss: 3.4459 - val_accuracy: 0.6860\n",
            "Epoch 73/120\n",
            "1563/1563 [==============================] - 7s 4ms/step - loss: 0.1559 - accuracy: 0.9629 - val_loss: 3.7315 - val_accuracy: 0.6775\n",
            "Epoch 74/120\n",
            "1563/1563 [==============================] - 7s 4ms/step - loss: 0.1473 - accuracy: 0.9635 - val_loss: 3.9479 - val_accuracy: 0.6870\n",
            "Epoch 75/120\n",
            "1563/1563 [==============================] - 7s 4ms/step - loss: 0.1660 - accuracy: 0.9607 - val_loss: 4.0205 - val_accuracy: 0.6741\n",
            "Epoch 76/120\n",
            "1563/1563 [==============================] - 7s 4ms/step - loss: 0.1485 - accuracy: 0.9642 - val_loss: 4.1393 - val_accuracy: 0.6728\n",
            "Epoch 77/120\n",
            "1563/1563 [==============================] - 7s 4ms/step - loss: 0.1622 - accuracy: 0.9639 - val_loss: 3.9959 - val_accuracy: 0.6880\n",
            "Epoch 78/120\n",
            "1563/1563 [==============================] - 7s 4ms/step - loss: 0.1785 - accuracy: 0.9604 - val_loss: 3.8046 - val_accuracy: 0.6851\n",
            "Epoch 79/120\n",
            "1563/1563 [==============================] - 7s 4ms/step - loss: 0.1614 - accuracy: 0.9625 - val_loss: 4.0485 - val_accuracy: 0.6767\n",
            "Epoch 80/120\n",
            "1563/1563 [==============================] - 7s 4ms/step - loss: 0.1601 - accuracy: 0.9644 - val_loss: 4.0592 - val_accuracy: 0.6712\n",
            "Epoch 81/120\n",
            "1563/1563 [==============================] - 7s 4ms/step - loss: 0.1805 - accuracy: 0.9599 - val_loss: 4.2763 - val_accuracy: 0.6850\n",
            "Epoch 82/120\n",
            "1563/1563 [==============================] - 7s 4ms/step - loss: 0.1656 - accuracy: 0.9630 - val_loss: 4.2855 - val_accuracy: 0.6778\n",
            "Epoch 83/120\n",
            "1563/1563 [==============================] - 7s 4ms/step - loss: 0.1826 - accuracy: 0.9617 - val_loss: 4.1895 - val_accuracy: 0.6840\n",
            "Epoch 84/120\n",
            "1563/1563 [==============================] - 7s 4ms/step - loss: 0.1630 - accuracy: 0.9637 - val_loss: 4.5942 - val_accuracy: 0.6816\n",
            "Epoch 85/120\n",
            "1563/1563 [==============================] - 7s 4ms/step - loss: 0.1725 - accuracy: 0.9633 - val_loss: 4.2964 - val_accuracy: 0.6818\n",
            "Epoch 86/120\n",
            "1563/1563 [==============================] - 7s 4ms/step - loss: 0.1622 - accuracy: 0.9647 - val_loss: 4.6519 - val_accuracy: 0.6697\n",
            "Epoch 87/120\n",
            "1563/1563 [==============================] - 7s 4ms/step - loss: 0.1967 - accuracy: 0.9589 - val_loss: 4.6955 - val_accuracy: 0.6741\n",
            "Epoch 88/120\n",
            "1563/1563 [==============================] - 7s 4ms/step - loss: 0.1679 - accuracy: 0.9655 - val_loss: 4.2255 - val_accuracy: 0.6801\n",
            "Epoch 89/120\n",
            "1563/1563 [==============================] - 7s 4ms/step - loss: 0.1697 - accuracy: 0.9644 - val_loss: 4.3115 - val_accuracy: 0.6861\n",
            "Epoch 90/120\n",
            "1563/1563 [==============================] - 7s 4ms/step - loss: 0.1357 - accuracy: 0.9696 - val_loss: 4.5004 - val_accuracy: 0.6758\n",
            "Epoch 91/120\n",
            "1563/1563 [==============================] - 7s 4ms/step - loss: 0.2004 - accuracy: 0.9601 - val_loss: 4.5918 - val_accuracy: 0.6731\n",
            "Epoch 92/120\n",
            "1563/1563 [==============================] - 7s 4ms/step - loss: 0.1585 - accuracy: 0.9668 - val_loss: 4.7437 - val_accuracy: 0.6882\n",
            "Epoch 93/120\n",
            "1563/1563 [==============================] - 7s 4ms/step - loss: 0.2060 - accuracy: 0.9588 - val_loss: 4.4308 - val_accuracy: 0.6790\n",
            "Epoch 94/120\n",
            "1563/1563 [==============================] - 7s 4ms/step - loss: 0.1731 - accuracy: 0.9639 - val_loss: 4.9235 - val_accuracy: 0.6817\n",
            "Epoch 95/120\n",
            "1563/1563 [==============================] - 7s 4ms/step - loss: 0.1860 - accuracy: 0.9631 - val_loss: 4.4923 - val_accuracy: 0.6849\n",
            "Epoch 96/120\n",
            "1563/1563 [==============================] - 7s 4ms/step - loss: 0.1744 - accuracy: 0.9637 - val_loss: 5.2864 - val_accuracy: 0.6736\n",
            "Epoch 97/120\n",
            "1563/1563 [==============================] - 7s 4ms/step - loss: 0.1793 - accuracy: 0.9652 - val_loss: 4.7215 - val_accuracy: 0.6753\n",
            "Epoch 98/120\n",
            "1563/1563 [==============================] - 7s 4ms/step - loss: 0.1479 - accuracy: 0.9687 - val_loss: 4.9066 - val_accuracy: 0.6752\n",
            "Epoch 99/120\n",
            "1563/1563 [==============================] - 7s 4ms/step - loss: 0.1821 - accuracy: 0.9646 - val_loss: 4.9878 - val_accuracy: 0.6772\n",
            "Epoch 100/120\n",
            "1563/1563 [==============================] - 7s 4ms/step - loss: 0.1508 - accuracy: 0.9683 - val_loss: 5.0640 - val_accuracy: 0.6648\n",
            "Epoch 101/120\n",
            "1563/1563 [==============================] - 7s 4ms/step - loss: 0.1915 - accuracy: 0.9632 - val_loss: 5.2022 - val_accuracy: 0.6822\n",
            "Epoch 102/120\n",
            "1563/1563 [==============================] - 7s 4ms/step - loss: 0.1594 - accuracy: 0.9680 - val_loss: 5.0686 - val_accuracy: 0.6819\n",
            "Epoch 103/120\n",
            "1563/1563 [==============================] - 7s 4ms/step - loss: 0.1785 - accuracy: 0.9666 - val_loss: 5.4897 - val_accuracy: 0.6776\n",
            "Epoch 104/120\n",
            "1563/1563 [==============================] - 7s 4ms/step - loss: 0.1875 - accuracy: 0.9675 - val_loss: 5.5280 - val_accuracy: 0.6768\n",
            "Epoch 105/120\n",
            "1563/1563 [==============================] - 7s 4ms/step - loss: 0.1988 - accuracy: 0.9643 - val_loss: 5.2112 - val_accuracy: 0.6823\n",
            "Epoch 106/120\n",
            "1563/1563 [==============================] - 7s 4ms/step - loss: 0.1852 - accuracy: 0.9656 - val_loss: 5.4492 - val_accuracy: 0.6869\n",
            "Epoch 107/120\n",
            "1563/1563 [==============================] - 7s 4ms/step - loss: 0.1606 - accuracy: 0.9700 - val_loss: 5.6779 - val_accuracy: 0.6908\n",
            "Epoch 108/120\n",
            "1563/1563 [==============================] - 7s 4ms/step - loss: 0.1671 - accuracy: 0.9701 - val_loss: 5.4258 - val_accuracy: 0.6874\n",
            "Epoch 109/120\n",
            "1563/1563 [==============================] - 7s 4ms/step - loss: 0.1809 - accuracy: 0.9676 - val_loss: 5.1644 - val_accuracy: 0.6758\n",
            "Epoch 110/120\n",
            "1563/1563 [==============================] - 7s 4ms/step - loss: 0.1768 - accuracy: 0.9663 - val_loss: 5.4227 - val_accuracy: 0.6848\n",
            "Epoch 111/120\n",
            "1563/1563 [==============================] - 7s 4ms/step - loss: 0.1680 - accuracy: 0.9688 - val_loss: 5.6224 - val_accuracy: 0.6816\n",
            "Epoch 112/120\n",
            "1563/1563 [==============================] - 7s 5ms/step - loss: 0.1816 - accuracy: 0.9671 - val_loss: 5.8652 - val_accuracy: 0.6837\n",
            "Epoch 113/120\n",
            "1563/1563 [==============================] - 7s 4ms/step - loss: 0.1803 - accuracy: 0.9686 - val_loss: 6.1382 - val_accuracy: 0.6800\n",
            "Epoch 114/120\n",
            "1563/1563 [==============================] - 7s 4ms/step - loss: 0.1699 - accuracy: 0.9687 - val_loss: 6.0012 - val_accuracy: 0.6907\n",
            "Epoch 115/120\n",
            "1563/1563 [==============================] - 7s 4ms/step - loss: 0.1808 - accuracy: 0.9677 - val_loss: 5.8891 - val_accuracy: 0.6839\n",
            "Epoch 116/120\n",
            "1563/1563 [==============================] - 7s 4ms/step - loss: 0.1779 - accuracy: 0.9688 - val_loss: 6.1812 - val_accuracy: 0.6854\n",
            "Epoch 117/120\n",
            "1563/1563 [==============================] - 7s 4ms/step - loss: 0.2347 - accuracy: 0.9638 - val_loss: 6.5471 - val_accuracy: 0.6906\n",
            "Epoch 118/120\n",
            "1563/1563 [==============================] - 7s 4ms/step - loss: 0.1636 - accuracy: 0.9730 - val_loss: 6.7984 - val_accuracy: 0.6949\n",
            "Epoch 119/120\n",
            "1563/1563 [==============================] - 7s 4ms/step - loss: 0.2025 - accuracy: 0.9673 - val_loss: 6.1364 - val_accuracy: 0.6862\n",
            "Epoch 120/120\n",
            "1563/1563 [==============================] - 7s 4ms/step - loss: 0.1891 - accuracy: 0.9702 - val_loss: 6.2509 - val_accuracy: 0.6889\n"
          ],
          "name": "stdout"
        }
      ]
    },
    {
      "cell_type": "code",
      "metadata": {
        "id": "cDXlosTsMblZ"
      },
      "source": [
        "#lr=3e-3\n",
        "#step 37: loss: 0.1627 - accuracy: 0.9467 - val_loss: 2.3548 - val_accuracy: 0.6848\n",
        "#step 40: loss: 0.1637 - accuracy: 0.9494 - val_loss: 2.5094 - val_accuracy: 0.6744\n",
        "train_max=history.history['loss']\n",
        "test_max=history.history['val_loss']"
      ],
      "execution_count": null,
      "outputs": []
    },
    {
      "cell_type": "code",
      "metadata": {
        "id": "daNwf2y8OIdD"
      },
      "source": [
        "#lr=1e-3\n",
        "#step 30: loss: 0.0538 - accuracy: 0.9819 - val_loss: 1.7441 - val_accuracy: 0.7771\n",
        "#step 40: loss: 0.0453 - accuracy: 0.9857 - val_loss: 2.1333 - val_accuracy: 0.7618\n",
        "train_medium=history.history['loss']\n",
        "test_medium=history.history['val_loss']"
      ],
      "execution_count": null,
      "outputs": []
    },
    {
      "cell_type": "code",
      "metadata": {
        "id": "WBrEhcwTQYeZ"
      },
      "source": [
        "#lr=3e-4\n",
        "#step 37: loss: 0.0303 - accuracy: 0.9912 - val_loss: 1.1343 - val_accuracy: 0.7924\n",
        "#step 40: loss: 0.0391 - accuracy: 0.9873 - val_loss: 1.2952 - val_accuracy: 0.7778\n",
        "train_min=history.history['loss']\n",
        "test_min=history.history['val_loss']"
      ],
      "execution_count": null,
      "outputs": []
    },
    {
      "cell_type": "code",
      "metadata": {
        "colab": {
          "base_uri": "https://localhost:8080/",
          "height": 295
        },
        "id": "hfXlj4ogOEc7",
        "outputId": "cc92e01b-e2a8-4ff0-ccf6-8f3332433e4a"
      },
      "source": [
        "import matplotlib.pyplot as plt\n",
        "#plt.plot(history.history['loss'])\n",
        "plt.plot(train_max)\n",
        "#plt.plot(history.history['val_loss'])\n",
        "plt.plot(test_max)\n",
        "plt.plot(train_medium)\n",
        "plt.plot(test_medium)\n",
        "plt.plot(train_min)\n",
        "plt.plot(test_min)\n",
        "\n",
        "plt.title('model train vs test loss')\n",
        "plt.ylabel('loss')\n",
        "plt.xlabel('epoch')\n",
        "plt.legend(['train_3e-3', 'test_3e-3','train_1e-3','test_1e-3','train_3e-4','test_3e-4'], loc='upper left')\n",
        "\n",
        "plt.savefig('/content/sample_data/learning_rate.jpg')"
      ],
      "execution_count": null,
      "outputs": [
        {
          "output_type": "display_data",
          "data": {
            "image/png": "[encoded data removed]",
            "text/plain": [
              "<Figure size 432x288 with 1 Axes>"
            ]
          },
          "metadata": {
            "tags": [],
            "needs_background": "light"
          }
        }
      ]
    }
  ]
}